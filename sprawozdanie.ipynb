{
 "cells": [
  {
   "cell_type": "markdown",
   "metadata": {},
   "source": [
    "# **Inżynieria Uczenia Maszynowego**\n",
    "\n",
    "Kinga Świderek - 318734\n",
    "\n",
    "Magdalena Dudek - 318649\n",
    "\n"
   ]
  },
  {
   "cell_type": "markdown",
   "metadata": {},
   "source": [
    "Temat\n",
    "---\n",
    "*\"Nie wszyscy nowo dodawani wykonawcy do naszej bazy mają przypisany gatunek muzyczny – musimy jakoś temu zaradzić!\"*"
   ]
  },
  {
   "cell_type": "markdown",
   "metadata": {},
   "source": [
    "W ramach projektu wcielamy się w rolę analityka pracującego dla portalu „Pozytywka” – serwisu muzycznego, który swoim użytkownikom pozwala na odtwarzanie ulubionych utworów online. Praca na tym stanowisku nie jest łatwa – zadanie dostajemy w formie enigmatycznego opisu i to do nas należy doprecyzowanie szczegółów tak, aby dało się je zrealizować. To oczywiście wymaga zrozumienia problemu, przeanalizowania danych, czasami negocjacji z szefostwem. Same modele musimy skonstruować tak, aby gotowe były do wdrożenia produkcyjnego – pamiętając, że w przyszłości będą pojawiać się kolejne ich wersje, z którymi będziemy eksperymentować. \n",
    "Jak każda szanująca się firma internetowa, Pozytywka zbiera dane dotyczące swojej działalności – są to (analitycy mogą wnioskować o dostęp do tych informacji na potrzeby realizacji zadania):\n",
    "- lista dostępnych artystów i utworów muzycznych, \n",
    "- baza użytkowników, \n",
    "- historia sesji użytkowników, \n",
    "- techniczne informacje dot. poziomu cache dla poszczególnych utworów. \n"
   ]
  },
  {
   "cell_type": "markdown",
   "metadata": {},
   "source": [
    "Określenie problemu biznesowego\n",
    "---"
   ]
  },
  {
   "cell_type": "markdown",
   "metadata": {},
   "source": [
    "**Kontekst:**\n",
    "\n",
    "Portal “Pozytywka” to serwis muzyczny, który swoim użytkownikom pozwala na odtwarzanie ulubionych utworów muzycznych online. W ramach rozbudowy aplikacji firma chce dodać klasyfikacje nowo dodanych wykonawców pod względem gatunku muzycznego.Na ten moment dane te uzupełniane są manualnie przez pracowników firmy, co jest czasochłonne i przez powtarzalność, demotywujące dla wykonawcy czynności. Pozytywka oczekuje, że poprawne działający klasyfikator zwiększy wydajność pracowników oraz pozytywnie wpłynie na zaangażowanie użytkowników(czas spędzony w serwisie), np. poprzez dobrze działające rekomendacje."
   ]
  },
  {
   "cell_type": "markdown",
   "metadata": {},
   "source": [
    "**Cel biznesowy:**\n",
    "\n",
    "Wdrożenie modelu klasyfikacji gatunków muzycznych w serwisie \"Pozytywka\". Oczekuje się, że efektywny klasyfikator poprawi rekomendacje muzyczne, zwiększając zaangażowanie użytkowników i ich czas spędzony na platformie."
   ]
  },
  {
   "cell_type": "markdown",
   "metadata": {},
   "source": [
    "**Biznesowe kryterium sukcesu:**\n",
    "\n",
    "Zarejestrowanie 20%-owego wzrostu zaangażowania użytkowników, czyli czasu spędzanego na platformie \"Pozytywka\". Osiągnięcie biznesowego kryterium sukcesu będzie sprawdzane za pomocą Eksperymentu A/B. W eksperymencie zakładamy istnienie komplementarnego systemu rekomendacyjnego wykorzystującego dane zaklasyfikowane za pomocą naszego modelu\n",
    "\n",
    "Co miesiąc system będzie przydzielał użytkowników do dwóch różnych podgrup (grupy kontrolnej i grupy doświadczalnej). Każdy użytkownik po otrzymaniu przydziału pozostanie w nim dożywotnio, bez możliwości zmienienia przydziału. W rezultacie posiadamy dwie grupy w każdym miesiącu: grupę kontrolną, korzystającą z portalu w sposób niezmieniony oraz grupę doświadczalną, która korzysta z portalu, ale z zastosowaniem naszego modelu. Pod koniec miesiąca zbierane są dane dotyczące czasu spędzanego przez użytkowników w obu grupach. Analiza wyników obejmuje porównanie średnich czasów spędzanych przez obie grupy i użycie testów statystycznych, takich jak t-test, w celu oceny istotności różnic. W przypadku stwierdzenia statystycznie istotnego wzrostu czasu spędzanego w grupie testowej, można wnioskować, że wprowadzenie modelu klasyfikacji przyczyniło się do zwiększenia zaangażowania użytkowników na platformie.\n"
   ]
  },
  {
   "cell_type": "markdown",
   "metadata": {},
   "source": [
    "**Analityczne kryterium sukcesu - ocena wydajności technicznej modelu:**\n",
    "\n",
    "Osiągnięcie minimalnej precyzji klasyfikacji na poziomie 90% w porównaniu do ręcznej klasyfikacji przeprowadzanej przez pracowników. Proces oceny będzie obejmował podział zbioru danych referencyjnych, stworzony przez pracowników, na zbiór treningowy i testowy, po czym dokładność modelu będzie analizowana na zbiorze testowym. **Jeśli model osiągnie precyzję powyżej 90%, projekt jest uznawany za udany; w przeciwnym razie, model może być dostosowany w celu poprawy wyników.**"
   ]
  },
  {
   "cell_type": "markdown",
   "metadata": {},
   "source": [
    "**Opis zadania modelowania:**\n",
    "\n",
    "Przygotowanie modelu klasyfikacji na podstawie danych artystów i utworów muzycznych. W ramach zadania zajmujemy się przypisaniem nowo zarejestrowanego artysty do gatunku muzycznego. Celem pośrednim modelu jest znalezienie relacji między parametrami piosenki, a gatunkiem muzycznym.\n",
    "\n",
    "W pierwszej kolejności dokonujemy agregacji atrybutów i tworzymy z nich wektor cech dla piosenki. Następnie każdy utwór, dodany przez nowo zarejestrowanego artystę, klasyfikujemy do gatunku muzycznego i przypisujemy do artysty ten występujący najczęściej.\n",
    "\n",
    "Warto podkreślić, że Pozytywka nie dysponuje dedykowanym zestawem danych przypisującym gatunek muzyczny do konkretnych utworów. Zatem, aby skutecznie modelować relacje między utworem a gatunkiem muzycznym, konieczne jest odpowiednie agregowanie zbioru. Najprostszym podejściem jest dziedziczenie gatunku po artyście. Problem w tym rozwiązaniu jest taki, że niektórzy artyści mają przypisany więcej niż jeden gatunek muzyczny, co nie pozwala na jednoznaczne etykietowanie niezbędne w problemach klasyfikacyjnych. Możliwe jest rozwiązanie tego problemu na dwa sposoby:\n",
    "\n",
    "1. **agregacja na podstawie popularności gatunku:**\n",
    "Jeżeli artysta ma przypisany więcej niż jeden gatunek muzyczny, w zagregowanym zbiorze danych zostaje przypisany mu ten, który jest globalnie najpopularniejszy. To podejście zostało wykorzystane w kolejnej sekcji dokumentacji - analizie danych;\n",
    "\n",
    "2. **sposób naiwny wsparty random forest:**\n",
    "Jeżeli artysta ma przypisany więcej niż jeden gatunek muzyczny np. 3, w zagregowanym zbiorze danych powstaną odpowiednio 3 rekordy dla każdej piosenki, składające się w uproszczeniu z odpowiednich identyfikatorów oraz pojedynczego gatunku np.:\n",
    "\n",
    "\n",
    "    rekord ze zbioru danych *artists.jsonl*:\n",
    "    \n",
    "    | id artysty | imię | ... | gatunek               |\n",
    "    |------------|------|-----|-----------------------|\n",
    "    | 1          | Jan  | ... | rock, pop, techno     |\n",
    "\n",
    "    zagregowany zbiór:\n",
    "\n",
    "    | id piosenki | id artysty | ... | gatunek |\n",
    "    |-------------|------------|-----|---------|\n",
    "    | 1           | 1          | ... | rock    |\n",
    "    | 1           | 1          | ... | pop     |\n",
    "    | 1           | 1          | ... | techno  |\n",
    "    | 2           | 1          | ... | rock    |\n",
    "    | 2           | 1          | ... | pop     |\n",
    "    | 2           | 1          | ... | techno  |\n",
    "\n",
    "    Naiwność tego podejścia polega na tym, że dla tych samych parametrów mamy różne etykiety. Aby zagwarantować spójność danych, w pojedynczym drzewie jedna piosenka będzie mogła wystąpić tylko raz, z jednym przypisanym gatunkiem muzycznym. Zakładamy, że taki mechanizm pozwoli na osiągnięcie izolacji kontekstów, w których dane o tych samych parametrach są analizowane.  \n",
    "\n",
    "    Nie wykluczamy, że zaproponowane metody agregacji w dalszym rozwoju projektu ulegną zmianie. Zamierzamy przetestować różne podejścia i wyciągnąć wnioski dotyczące ich skuteczności."
   ]
  },
  {
   "cell_type": "markdown",
   "metadata": {},
   "source": [
    "**Zasadność selekcji poszczególnych atrybutów piosenki takich jak energy, mode, release_year, przeanalizowana została  w kolejnej części.**"
   ]
  },
  {
   "cell_type": "markdown",
   "metadata": {},
   "source": [
    "Analiza pierwszego zestawu danych\n",
    "---\n",
    "Do stworzenia podstawowego modelu będziemy korzystać z danych z plików:\n",
    "- *artists.jsonl*\n",
    "- *tracks.jsonl*\n"
   ]
  },
  {
   "cell_type": "markdown",
   "metadata": {},
   "source": [
    "#### *artists.jsonl*\n",
    "Plik *artists.jsonl* zawiera dane o artystach:"
   ]
  },
  {
   "cell_type": "code",
   "execution_count": 1,
   "metadata": {},
   "outputs": [
    {
     "data": {
      "text/html": [
       "<div>\n",
       "<style scoped>\n",
       "    .dataframe tbody tr th:only-of-type {\n",
       "        vertical-align: middle;\n",
       "    }\n",
       "\n",
       "    .dataframe tbody tr th {\n",
       "        vertical-align: top;\n",
       "    }\n",
       "\n",
       "    .dataframe thead th {\n",
       "        text-align: right;\n",
       "    }\n",
       "</style>\n",
       "<table border=\"1\" class=\"dataframe\">\n",
       "  <thead>\n",
       "    <tr style=\"text-align: right;\">\n",
       "      <th></th>\n",
       "      <th>id</th>\n",
       "      <th>name</th>\n",
       "      <th>genres</th>\n",
       "    </tr>\n",
       "  </thead>\n",
       "  <tbody>\n",
       "    <tr>\n",
       "      <th>0</th>\n",
       "      <td>72578usTM6Cj5qWsi471Nc</td>\n",
       "      <td>Raghu Dixit</td>\n",
       "      <td>None</td>\n",
       "    </tr>\n",
       "    <tr>\n",
       "      <th>1</th>\n",
       "      <td>7b6Ui7JVaBDEfZB9k6nHL0</td>\n",
       "      <td>The Local Train</td>\n",
       "      <td>[desi pop, hindi indie, indian indie, indian r...</td>\n",
       "    </tr>\n",
       "    <tr>\n",
       "      <th>2</th>\n",
       "      <td>-1</td>\n",
       "      <td>Vishal Mishra</td>\n",
       "      <td>[desi pop, modern bollywood]</td>\n",
       "    </tr>\n",
       "    <tr>\n",
       "      <th>3</th>\n",
       "      <td>0n4a5imdLBN24fIrBWoqrv</td>\n",
       "      <td>Because</td>\n",
       "      <td>[opm, pinoy hip hop, pinoy r&amp;b, pinoy trap, ta...</td>\n",
       "    </tr>\n",
       "    <tr>\n",
       "      <th>4</th>\n",
       "      <td>4gdMJYnopf2nEUcanAwstx</td>\n",
       "      <td>Anuv Jain</td>\n",
       "      <td>[hindi indie, indian indie, indian singer-song...</td>\n",
       "    </tr>\n",
       "    <tr>\n",
       "      <th>...</th>\n",
       "      <td>...</td>\n",
       "      <td>...</td>\n",
       "      <td>...</td>\n",
       "    </tr>\n",
       "    <tr>\n",
       "      <th>27645</th>\n",
       "      <td>3yMpPk98o4yrKhUr9rB0yY</td>\n",
       "      <td>Sheikh Mahmood Ali Bana</td>\n",
       "      <td>[islamic recitation]</td>\n",
       "    </tr>\n",
       "    <tr>\n",
       "      <th>27646</th>\n",
       "      <td>5ICqrGUqDv9KZdbbFiNGma</td>\n",
       "      <td>Jay Tholen</td>\n",
       "      <td>[chiptune]</td>\n",
       "    </tr>\n",
       "    <tr>\n",
       "      <th>27647</th>\n",
       "      <td>-1</td>\n",
       "      <td>A.R. Kane</td>\n",
       "      <td>[dream pop, nu gaze, shoegaze]</td>\n",
       "    </tr>\n",
       "    <tr>\n",
       "      <th>27648</th>\n",
       "      <td>4iS19hLpsgRd8jLPKI4Ni3</td>\n",
       "      <td>Blissonic</td>\n",
       "      <td>[thai indie]</td>\n",
       "    </tr>\n",
       "    <tr>\n",
       "      <th>27649</th>\n",
       "      <td>3JGC3LkYrwlrTscixVwY72</td>\n",
       "      <td>พราว</td>\n",
       "      <td>None</td>\n",
       "    </tr>\n",
       "  </tbody>\n",
       "</table>\n",
       "<p>27650 rows × 3 columns</p>\n",
       "</div>"
      ],
      "text/plain": [
       "                           id                     name  \\\n",
       "0      72578usTM6Cj5qWsi471Nc              Raghu Dixit   \n",
       "1      7b6Ui7JVaBDEfZB9k6nHL0          The Local Train   \n",
       "2                          -1            Vishal Mishra   \n",
       "3      0n4a5imdLBN24fIrBWoqrv                  Because   \n",
       "4      4gdMJYnopf2nEUcanAwstx                Anuv Jain   \n",
       "...                       ...                      ...   \n",
       "27645  3yMpPk98o4yrKhUr9rB0yY  Sheikh Mahmood Ali Bana   \n",
       "27646  5ICqrGUqDv9KZdbbFiNGma               Jay Tholen   \n",
       "27647                      -1                A.R. Kane   \n",
       "27648  4iS19hLpsgRd8jLPKI4Ni3                Blissonic   \n",
       "27649  3JGC3LkYrwlrTscixVwY72                     พราว   \n",
       "\n",
       "                                                  genres  \n",
       "0                                                   None  \n",
       "1      [desi pop, hindi indie, indian indie, indian r...  \n",
       "2                           [desi pop, modern bollywood]  \n",
       "3      [opm, pinoy hip hop, pinoy r&b, pinoy trap, ta...  \n",
       "4      [hindi indie, indian indie, indian singer-song...  \n",
       "...                                                  ...  \n",
       "27645                               [islamic recitation]  \n",
       "27646                                         [chiptune]  \n",
       "27647                     [dream pop, nu gaze, shoegaze]  \n",
       "27648                                       [thai indie]  \n",
       "27649                                               None  \n",
       "\n",
       "[27650 rows x 3 columns]"
      ]
     },
     "execution_count": 1,
     "metadata": {},
     "output_type": "execute_result"
    }
   ],
   "source": [
    "import pandas as pd\n",
    "\n",
    "PATH_ARTISTS = \"data/v1/artists.jsonl\"\n",
    "artists_df = pd.read_json(PATH_ARTISTS, lines=True)\n",
    "artists_df"
   ]
  },
  {
   "cell_type": "markdown",
   "metadata": {},
   "source": [
    "Poniższy kod sprawdza ilość nieznanych danych (null):"
   ]
  },
  {
   "cell_type": "code",
   "execution_count": 2,
   "metadata": {},
   "outputs": [
    {
     "data": {
      "text/plain": [
       "id           0\n",
       "name         0\n",
       "genres    5579\n",
       "dtype: int64"
      ]
     },
     "execution_count": 2,
     "metadata": {},
     "output_type": "execute_result"
    }
   ],
   "source": [
    "num_artists = artists_df.shape[0]\n",
    "artists_null_values = num_artists - artists_df.count()\n",
    "artists_null_values"
   ]
  },
  {
   "cell_type": "markdown",
   "metadata": {},
   "source": [
    "W kolumnie id jest dużo powtarzających się wartości -1:"
   ]
  },
  {
   "cell_type": "code",
   "execution_count": 3,
   "metadata": {},
   "outputs": [
    {
     "data": {
      "text/plain": [
       "id\n",
       "-1                        5633\n",
       "72578usTM6Cj5qWsi471Nc       1\n",
       "0IecGJbdBeYSOVtSPRehh5       1\n",
       "6C65D20ASusYqHGSIktfED       1\n",
       "35iymrFS4VnsKn35ebHKX9       1\n",
       "                          ... \n",
       "0mWQOAjoHzqSNxwbGg4tf2       1\n",
       "2bHrkZwj7sYYsMHe5tHXaX       1\n",
       "2BXEG2yarazI9hY5ZsHJaQ       1\n",
       "3Hl3dCaBcrnvBAOMAW4nJR       1\n",
       "3JGC3LkYrwlrTscixVwY72       1\n",
       "Name: count, Length: 22018, dtype: int64"
      ]
     },
     "execution_count": 3,
     "metadata": {},
     "output_type": "execute_result"
    }
   ],
   "source": [
    "artists_ids_count = artists_df[\"id\"].value_counts()\n",
    "artists_ids_count"
   ]
  },
  {
   "cell_type": "markdown",
   "metadata": {},
   "source": [
    "Wartości procentowe:"
   ]
  },
  {
   "cell_type": "code",
   "execution_count": 4,
   "metadata": {},
   "outputs": [
    {
     "name": "stdout",
     "output_type": "stream",
     "text": [
      "Artists with invalid id: 5633 (20.37%)\n",
      "Artists with null genres: 5579 (20.18%)\n"
     ]
    }
   ],
   "source": [
    "id_invalid = artists_ids_count[-1]\n",
    "genres_null = artists_null_values[\"genres\"]\n",
    "\n",
    "print(f\"Artists with invalid id: {id_invalid} ({round(id_invalid/num_artists * 100, 2)}%)\")\n",
    "print(f\"Artists with null genres: {genres_null} ({round(genres_null/num_artists * 100, 2)}%)\")"
   ]
  },
  {
   "cell_type": "markdown",
   "metadata": {},
   "source": [
    "### *tracks.jsonl*\n",
    "Plik *tracks.jsonl* zawiera dane o piosenkach. "
   ]
  },
  {
   "cell_type": "code",
   "execution_count": 5,
   "metadata": {},
   "outputs": [
    {
     "data": {
      "text/html": [
       "<div>\n",
       "<style scoped>\n",
       "    .dataframe tbody tr th:only-of-type {\n",
       "        vertical-align: middle;\n",
       "    }\n",
       "\n",
       "    .dataframe tbody tr th {\n",
       "        vertical-align: top;\n",
       "    }\n",
       "\n",
       "    .dataframe thead th {\n",
       "        text-align: right;\n",
       "    }\n",
       "</style>\n",
       "<table border=\"1\" class=\"dataframe\">\n",
       "  <thead>\n",
       "    <tr style=\"text-align: right;\">\n",
       "      <th></th>\n",
       "      <th>id</th>\n",
       "      <th>name</th>\n",
       "      <th>popularity</th>\n",
       "      <th>duration_ms</th>\n",
       "      <th>explicit</th>\n",
       "      <th>id_artist</th>\n",
       "      <th>release_date</th>\n",
       "      <th>danceability</th>\n",
       "      <th>energy</th>\n",
       "      <th>key</th>\n",
       "      <th>mode</th>\n",
       "      <th>loudness</th>\n",
       "      <th>speechiness</th>\n",
       "      <th>acousticness</th>\n",
       "      <th>instrumentalness</th>\n",
       "      <th>liveness</th>\n",
       "      <th>valence</th>\n",
       "      <th>tempo</th>\n",
       "      <th>time_signature</th>\n",
       "    </tr>\n",
       "  </thead>\n",
       "  <tbody>\n",
       "    <tr>\n",
       "      <th>0</th>\n",
       "      <td>6C0WWu7RYKbAgWUI3YC0sT</td>\n",
       "      <td>Voglio farti un regalo</td>\n",
       "      <td>40.0</td>\n",
       "      <td>249573</td>\n",
       "      <td>1</td>\n",
       "      <td>7u710e44HW3K7A5eTnRqHC</td>\n",
       "      <td>2004-09-01</td>\n",
       "      <td>0.727</td>\n",
       "      <td>0.6630</td>\n",
       "      <td>4</td>\n",
       "      <td>0.0</td>\n",
       "      <td>-4.818</td>\n",
       "      <td>0.2770</td>\n",
       "      <td>0.08010</td>\n",
       "      <td>0.000000</td>\n",
       "      <td>0.1190</td>\n",
       "      <td>0.633</td>\n",
       "      <td>97.865</td>\n",
       "      <td>4</td>\n",
       "    </tr>\n",
       "    <tr>\n",
       "      <th>1</th>\n",
       "      <td>4q7EBRq8ncztC2PRmEC7Fy</td>\n",
       "      <td>None</td>\n",
       "      <td>NaN</td>\n",
       "      <td>254733</td>\n",
       "      <td>0</td>\n",
       "      <td>None</td>\n",
       "      <td>1976-12-10</td>\n",
       "      <td>0.444</td>\n",
       "      <td>0.3480</td>\n",
       "      <td>5</td>\n",
       "      <td>1.0</td>\n",
       "      <td>-12.729</td>\n",
       "      <td>0.0321</td>\n",
       "      <td>0.65600</td>\n",
       "      <td>0.003740</td>\n",
       "      <td>0.9560</td>\n",
       "      <td>0.284</td>\n",
       "      <td>116.685</td>\n",
       "      <td>4</td>\n",
       "    </tr>\n",
       "    <tr>\n",
       "      <th>2</th>\n",
       "      <td>7cNyONpVADZVrW9xe3qq4z</td>\n",
       "      <td>None</td>\n",
       "      <td>45.0</td>\n",
       "      <td>279347</td>\n",
       "      <td>0</td>\n",
       "      <td>7IAXZaLTb6nkJr8RmVPn5y</td>\n",
       "      <td>2001</td>\n",
       "      <td>0.273</td>\n",
       "      <td>0.8990</td>\n",
       "      <td>6</td>\n",
       "      <td>1.0</td>\n",
       "      <td>-5.131</td>\n",
       "      <td>0.0499</td>\n",
       "      <td>0.00177</td>\n",
       "      <td>0.000006</td>\n",
       "      <td>0.1280</td>\n",
       "      <td>0.301</td>\n",
       "      <td>159.872</td>\n",
       "      <td>3</td>\n",
       "    </tr>\n",
       "    <tr>\n",
       "      <th>3</th>\n",
       "      <td>1bKRTzTFz7wHMxpgZSuPR1</td>\n",
       "      <td>Shine on Harvest Moon</td>\n",
       "      <td>6.0</td>\n",
       "      <td>193707</td>\n",
       "      <td>0</td>\n",
       "      <td>5bOsFzuJ6QZMr86ezC4oXY</td>\n",
       "      <td>1961-10-15</td>\n",
       "      <td>0.628</td>\n",
       "      <td>0.0616</td>\n",
       "      <td>0</td>\n",
       "      <td>1.0</td>\n",
       "      <td>-24.973</td>\n",
       "      <td>0.0558</td>\n",
       "      <td>0.78400</td>\n",
       "      <td>0.000009</td>\n",
       "      <td>0.1720</td>\n",
       "      <td>0.340</td>\n",
       "      <td>85.012</td>\n",
       "      <td>4</td>\n",
       "    </tr>\n",
       "    <tr>\n",
       "      <th>4</th>\n",
       "      <td>56OEjuyZ3AROnv4aR1XqhD</td>\n",
       "      <td>男子漢</td>\n",
       "      <td>19.0</td>\n",
       "      <td>182120</td>\n",
       "      <td>0</td>\n",
       "      <td>6zJ7WZkyTNmB1bFdmHH2k9</td>\n",
       "      <td>1970-01-11</td>\n",
       "      <td>0.353</td>\n",
       "      <td>0.0663</td>\n",
       "      <td>8</td>\n",
       "      <td>0.0</td>\n",
       "      <td>-24.915</td>\n",
       "      <td>0.0445</td>\n",
       "      <td>0.95800</td>\n",
       "      <td>0.000446</td>\n",
       "      <td>0.2410</td>\n",
       "      <td>0.317</td>\n",
       "      <td>100.041</td>\n",
       "      <td>4</td>\n",
       "    </tr>\n",
       "    <tr>\n",
       "      <th>...</th>\n",
       "      <td>...</td>\n",
       "      <td>...</td>\n",
       "      <td>...</td>\n",
       "      <td>...</td>\n",
       "      <td>...</td>\n",
       "      <td>...</td>\n",
       "      <td>...</td>\n",
       "      <td>...</td>\n",
       "      <td>...</td>\n",
       "      <td>...</td>\n",
       "      <td>...</td>\n",
       "      <td>...</td>\n",
       "      <td>...</td>\n",
       "      <td>...</td>\n",
       "      <td>...</td>\n",
       "      <td>...</td>\n",
       "      <td>...</td>\n",
       "      <td>...</td>\n",
       "      <td>...</td>\n",
       "    </tr>\n",
       "    <tr>\n",
       "      <th>129643</th>\n",
       "      <td>6I2q7ZIY7QX3sWOmuJjhph</td>\n",
       "      <td>Mit akarsz a boldogságtól</td>\n",
       "      <td>25.0</td>\n",
       "      <td>279427</td>\n",
       "      <td>0</td>\n",
       "      <td>7pZH7c4HbKE0ONErpw9cjP</td>\n",
       "      <td>1996</td>\n",
       "      <td>0.693</td>\n",
       "      <td>0.9300</td>\n",
       "      <td>11</td>\n",
       "      <td>NaN</td>\n",
       "      <td>-6.236</td>\n",
       "      <td>0.0368</td>\n",
       "      <td>0.08030</td>\n",
       "      <td>0.008070</td>\n",
       "      <td>0.1570</td>\n",
       "      <td>0.745</td>\n",
       "      <td>139.974</td>\n",
       "      <td>4</td>\n",
       "    </tr>\n",
       "    <tr>\n",
       "      <th>129644</th>\n",
       "      <td>None</td>\n",
       "      <td>None</td>\n",
       "      <td>NaN</td>\n",
       "      <td>244960</td>\n",
       "      <td>0</td>\n",
       "      <td>7jy3rLJdDQY21OgRLCZ9sD</td>\n",
       "      <td>2007-09-25</td>\n",
       "      <td>0.596</td>\n",
       "      <td>0.5570</td>\n",
       "      <td>0</td>\n",
       "      <td>NaN</td>\n",
       "      <td>-6.401</td>\n",
       "      <td>0.0299</td>\n",
       "      <td>0.02700</td>\n",
       "      <td>0.000016</td>\n",
       "      <td>0.0914</td>\n",
       "      <td>0.314</td>\n",
       "      <td>124.023</td>\n",
       "      <td>4</td>\n",
       "    </tr>\n",
       "    <tr>\n",
       "      <th>129645</th>\n",
       "      <td>4yFeqGWRt2Z10E2ECWG5I2</td>\n",
       "      <td>Kortit kertoo kohtalomme</td>\n",
       "      <td>18.0</td>\n",
       "      <td>246333</td>\n",
       "      <td>0</td>\n",
       "      <td>None</td>\n",
       "      <td>1988-12-04</td>\n",
       "      <td>0.386</td>\n",
       "      <td>0.4920</td>\n",
       "      <td>2</td>\n",
       "      <td>NaN</td>\n",
       "      <td>-11.271</td>\n",
       "      <td>0.0347</td>\n",
       "      <td>0.61000</td>\n",
       "      <td>0.000000</td>\n",
       "      <td>0.3030</td>\n",
       "      <td>0.648</td>\n",
       "      <td>167.668</td>\n",
       "      <td>4</td>\n",
       "    </tr>\n",
       "    <tr>\n",
       "      <th>129646</th>\n",
       "      <td>7dJgMpT6LzQTlLMEuoapq2</td>\n",
       "      <td>Believe in Love (2015 - Remaster)</td>\n",
       "      <td>22.0</td>\n",
       "      <td>323613</td>\n",
       "      <td>0</td>\n",
       "      <td>None</td>\n",
       "      <td>1988-04-15</td>\n",
       "      <td>0.471</td>\n",
       "      <td>0.7650</td>\n",
       "      <td>3</td>\n",
       "      <td>NaN</td>\n",
       "      <td>-4.406</td>\n",
       "      <td>0.0323</td>\n",
       "      <td>0.06680</td>\n",
       "      <td>0.082000</td>\n",
       "      <td>0.1280</td>\n",
       "      <td>0.353</td>\n",
       "      <td>132.537</td>\n",
       "      <td>4</td>\n",
       "    </tr>\n",
       "    <tr>\n",
       "      <th>129647</th>\n",
       "      <td>None</td>\n",
       "      <td>None</td>\n",
       "      <td>34.0</td>\n",
       "      <td>214453</td>\n",
       "      <td>0</td>\n",
       "      <td>48CUA59SDed3IdCctKndud</td>\n",
       "      <td>2009-01-26</td>\n",
       "      <td>0.517</td>\n",
       "      <td>0.6400</td>\n",
       "      <td>11</td>\n",
       "      <td>NaN</td>\n",
       "      <td>-5.064</td>\n",
       "      <td>0.0467</td>\n",
       "      <td>0.50800</td>\n",
       "      <td>0.000000</td>\n",
       "      <td>0.0929</td>\n",
       "      <td>0.479</td>\n",
       "      <td>95.067</td>\n",
       "      <td>4</td>\n",
       "    </tr>\n",
       "  </tbody>\n",
       "</table>\n",
       "<p>129648 rows × 19 columns</p>\n",
       "</div>"
      ],
      "text/plain": [
       "                            id                               name  popularity  \\\n",
       "0       6C0WWu7RYKbAgWUI3YC0sT             Voglio farti un regalo        40.0   \n",
       "1       4q7EBRq8ncztC2PRmEC7Fy                               None         NaN   \n",
       "2       7cNyONpVADZVrW9xe3qq4z                               None        45.0   \n",
       "3       1bKRTzTFz7wHMxpgZSuPR1              Shine on Harvest Moon         6.0   \n",
       "4       56OEjuyZ3AROnv4aR1XqhD                                男子漢        19.0   \n",
       "...                        ...                                ...         ...   \n",
       "129643  6I2q7ZIY7QX3sWOmuJjhph          Mit akarsz a boldogságtól        25.0   \n",
       "129644                    None                               None         NaN   \n",
       "129645  4yFeqGWRt2Z10E2ECWG5I2           Kortit kertoo kohtalomme        18.0   \n",
       "129646  7dJgMpT6LzQTlLMEuoapq2  Believe in Love (2015 - Remaster)        22.0   \n",
       "129647                    None                               None        34.0   \n",
       "\n",
       "        duration_ms  explicit               id_artist release_date  \\\n",
       "0            249573         1  7u710e44HW3K7A5eTnRqHC   2004-09-01   \n",
       "1            254733         0                    None   1976-12-10   \n",
       "2            279347         0  7IAXZaLTb6nkJr8RmVPn5y         2001   \n",
       "3            193707         0  5bOsFzuJ6QZMr86ezC4oXY   1961-10-15   \n",
       "4            182120         0  6zJ7WZkyTNmB1bFdmHH2k9   1970-01-11   \n",
       "...             ...       ...                     ...          ...   \n",
       "129643       279427         0  7pZH7c4HbKE0ONErpw9cjP         1996   \n",
       "129644       244960         0  7jy3rLJdDQY21OgRLCZ9sD   2007-09-25   \n",
       "129645       246333         0                    None   1988-12-04   \n",
       "129646       323613         0                    None   1988-04-15   \n",
       "129647       214453         0  48CUA59SDed3IdCctKndud   2009-01-26   \n",
       "\n",
       "        danceability  energy  key  mode  loudness  speechiness  acousticness  \\\n",
       "0              0.727  0.6630    4   0.0    -4.818       0.2770       0.08010   \n",
       "1              0.444  0.3480    5   1.0   -12.729       0.0321       0.65600   \n",
       "2              0.273  0.8990    6   1.0    -5.131       0.0499       0.00177   \n",
       "3              0.628  0.0616    0   1.0   -24.973       0.0558       0.78400   \n",
       "4              0.353  0.0663    8   0.0   -24.915       0.0445       0.95800   \n",
       "...              ...     ...  ...   ...       ...          ...           ...   \n",
       "129643         0.693  0.9300   11   NaN    -6.236       0.0368       0.08030   \n",
       "129644         0.596  0.5570    0   NaN    -6.401       0.0299       0.02700   \n",
       "129645         0.386  0.4920    2   NaN   -11.271       0.0347       0.61000   \n",
       "129646         0.471  0.7650    3   NaN    -4.406       0.0323       0.06680   \n",
       "129647         0.517  0.6400   11   NaN    -5.064       0.0467       0.50800   \n",
       "\n",
       "        instrumentalness  liveness  valence    tempo  time_signature  \n",
       "0               0.000000    0.1190    0.633   97.865               4  \n",
       "1               0.003740    0.9560    0.284  116.685               4  \n",
       "2               0.000006    0.1280    0.301  159.872               3  \n",
       "3               0.000009    0.1720    0.340   85.012               4  \n",
       "4               0.000446    0.2410    0.317  100.041               4  \n",
       "...                  ...       ...      ...      ...             ...  \n",
       "129643          0.008070    0.1570    0.745  139.974               4  \n",
       "129644          0.000016    0.0914    0.314  124.023               4  \n",
       "129645          0.000000    0.3030    0.648  167.668               4  \n",
       "129646          0.082000    0.1280    0.353  132.537               4  \n",
       "129647          0.000000    0.0929    0.479   95.067               4  \n",
       "\n",
       "[129648 rows x 19 columns]"
      ]
     },
     "execution_count": 5,
     "metadata": {},
     "output_type": "execute_result"
    }
   ],
   "source": [
    "PATH_TRACKS = \"data/v1/tracks.jsonl\"\n",
    "tracks_df = pd.read_json(PATH_TRACKS, lines=True)\n",
    "tracks_df"
   ]
  },
  {
   "cell_type": "markdown",
   "metadata": {},
   "source": [
    "Poniższy kod sprawdza ilość wartości nieznanych dla każdej kolumny:"
   ]
  },
  {
   "cell_type": "code",
   "execution_count": 6,
   "metadata": {},
   "outputs": [
    {
     "data": {
      "text/plain": [
       "id                   25731\n",
       "name                 25966\n",
       "popularity           25965\n",
       "duration_ms              0\n",
       "explicit                 0\n",
       "id_artist            26164\n",
       "release_date             0\n",
       "danceability             0\n",
       "energy                   0\n",
       "key                      0\n",
       "mode                103719\n",
       "loudness                 0\n",
       "speechiness              0\n",
       "acousticness             0\n",
       "instrumentalness         0\n",
       "liveness                 0\n",
       "valence                  0\n",
       "tempo                    0\n",
       "time_signature           0\n",
       "dtype: int64"
      ]
     },
     "execution_count": 6,
     "metadata": {},
     "output_type": "execute_result"
    }
   ],
   "source": [
    "num_tracks = tracks_df.shape[0]\n",
    "tracks_null_values = num_tracks - tracks_df.count()\n",
    "tracks_null_values"
   ]
  },
  {
   "cell_type": "markdown",
   "metadata": {},
   "source": [
    "W tym przypadku nie ma powtarzających się wartości id:"
   ]
  },
  {
   "cell_type": "code",
   "execution_count": 7,
   "metadata": {},
   "outputs": [
    {
     "data": {
      "text/plain": [
       "id\n",
       "6C0WWu7RYKbAgWUI3YC0sT    1\n",
       "4K0zhmxo4LggWUZQpcUeQJ    1\n",
       "5aMjT49axHnvYEsFDsasca    1\n",
       "4UmdaZg7BWgMn0JltimVnu    1\n",
       "5NPBB71WcCbXOPIoToikmh    1\n",
       "                         ..\n",
       "1EN7VtkPTmCd2oa6VEMfGH    1\n",
       "3MKdiIVkYHpvJcXrL7bLUE    1\n",
       "2E0S7wrBzD4q0Ugjr0YXnr    1\n",
       "3k1fRAaUFBPMNkulplHupK    1\n",
       "7dJgMpT6LzQTlLMEuoapq2    1\n",
       "Name: count, Length: 103917, dtype: int64"
      ]
     },
     "execution_count": 7,
     "metadata": {},
     "output_type": "execute_result"
    }
   ],
   "source": [
    "tracks_df[\"id\"].value_counts()"
   ]
  },
  {
   "cell_type": "markdown",
   "metadata": {},
   "source": [
    "Nie ma również żadnych wartości -1 w kolumnie *id_artist*:"
   ]
  },
  {
   "cell_type": "code",
   "execution_count": 8,
   "metadata": {},
   "outputs": [
    {
     "data": {
      "text/plain": [
       "0"
      ]
     },
     "execution_count": 8,
     "metadata": {},
     "output_type": "execute_result"
    }
   ],
   "source": [
    "(tracks_df[\"id_artist\"] == -1).sum()"
   ]
  },
  {
   "cell_type": "markdown",
   "metadata": {},
   "source": [
    "Wartości procentowe:"
   ]
  },
  {
   "cell_type": "code",
   "execution_count": 9,
   "metadata": {},
   "outputs": [
    {
     "name": "stdout",
     "output_type": "stream",
     "text": [
      "Tracks with null id: 25731 (19.85%)\n",
      "Tracks with null name: 25966 (20.03%)\n",
      "Tracks with null popularity: 25965 (20.03%)\n",
      "Tracks with null artist id: 26164 (20.18%)\n",
      "Tracks with null mode: 103719 (80%)\n"
     ]
    }
   ],
   "source": [
    "id_nulls = tracks_null_values[\"id\"]\n",
    "name_nulls = tracks_null_values[\"name\"]\n",
    "popularity_nulls = tracks_null_values[\"popularity\"]\n",
    "artist_id_nulls = tracks_null_values[\"id_artist\"]\n",
    "mode_nulls = tracks_null_values[\"mode\"]\n",
    "\n",
    "print(f\"Tracks with null id: {id_nulls} ({round(id_nulls/num_tracks * 100, 2)}%)\")\n",
    "print(f\"Tracks with null name: {name_nulls} ({round(name_nulls/num_tracks * 100, 2)}%)\")\n",
    "print(f\"Tracks with null popularity: {popularity_nulls} ({round(popularity_nulls/num_tracks * 100, 2)}%)\")\n",
    "print(f\"Tracks with null artist id: {artist_id_nulls} ({round(artist_id_nulls/num_tracks * 100, 2)}%)\")\n",
    "print(f\"Tracks with null mode: {mode_nulls} ({round(mode_nulls/num_tracks * 100)}%)\")"
   ]
  },
  {
   "cell_type": "markdown",
   "metadata": {},
   "source": [
    "### Analiza drugiego zestawu danych"
   ]
  },
  {
   "cell_type": "markdown",
   "metadata": {},
   "source": [
    "#### *artists.jsonl*"
   ]
  },
  {
   "cell_type": "code",
   "execution_count": 10,
   "metadata": {},
   "outputs": [
    {
     "data": {
      "text/html": [
       "<div>\n",
       "<style scoped>\n",
       "    .dataframe tbody tr th:only-of-type {\n",
       "        vertical-align: middle;\n",
       "    }\n",
       "\n",
       "    .dataframe tbody tr th {\n",
       "        vertical-align: top;\n",
       "    }\n",
       "\n",
       "    .dataframe thead th {\n",
       "        text-align: right;\n",
       "    }\n",
       "</style>\n",
       "<table border=\"1\" class=\"dataframe\">\n",
       "  <thead>\n",
       "    <tr style=\"text-align: right;\">\n",
       "      <th></th>\n",
       "      <th>id</th>\n",
       "      <th>name</th>\n",
       "      <th>genres</th>\n",
       "    </tr>\n",
       "  </thead>\n",
       "  <tbody>\n",
       "    <tr>\n",
       "      <th>0</th>\n",
       "      <td>72578usTM6Cj5qWsi471Nc</td>\n",
       "      <td>Raghu Dixit</td>\n",
       "      <td>[filmi, indian folk, indian rock, kannada pop]</td>\n",
       "    </tr>\n",
       "    <tr>\n",
       "      <th>1</th>\n",
       "      <td>7b6Ui7JVaBDEfZB9k6nHL0</td>\n",
       "      <td>The Local Train</td>\n",
       "      <td>[desi pop, hindi indie, indian indie, indian r...</td>\n",
       "    </tr>\n",
       "    <tr>\n",
       "      <th>2</th>\n",
       "      <td>5wJ1H6ud777odtZl5gG507</td>\n",
       "      <td>Vishal Mishra</td>\n",
       "      <td>[desi pop, modern bollywood]</td>\n",
       "    </tr>\n",
       "    <tr>\n",
       "      <th>3</th>\n",
       "      <td>0n4a5imdLBN24fIrBWoqrv</td>\n",
       "      <td>Because</td>\n",
       "      <td>[opm, pinoy hip hop, pinoy r&amp;b, pinoy trap, ta...</td>\n",
       "    </tr>\n",
       "    <tr>\n",
       "      <th>4</th>\n",
       "      <td>4gdMJYnopf2nEUcanAwstx</td>\n",
       "      <td>Anuv Jain</td>\n",
       "      <td>[hindi indie, indian indie, indian singer-song...</td>\n",
       "    </tr>\n",
       "    <tr>\n",
       "      <th>...</th>\n",
       "      <td>...</td>\n",
       "      <td>...</td>\n",
       "      <td>...</td>\n",
       "    </tr>\n",
       "    <tr>\n",
       "      <th>27645</th>\n",
       "      <td>3yMpPk98o4yrKhUr9rB0yY</td>\n",
       "      <td>Sheikh Mahmood Ali Bana</td>\n",
       "      <td>[islamic recitation]</td>\n",
       "    </tr>\n",
       "    <tr>\n",
       "      <th>27646</th>\n",
       "      <td>5ICqrGUqDv9KZdbbFiNGma</td>\n",
       "      <td>Jay Tholen</td>\n",
       "      <td>[chiptune]</td>\n",
       "    </tr>\n",
       "    <tr>\n",
       "      <th>27647</th>\n",
       "      <td>7JXwnoNAAY276k8wZVmpYf</td>\n",
       "      <td>A.R. Kane</td>\n",
       "      <td>[dream pop, nu gaze, shoegaze]</td>\n",
       "    </tr>\n",
       "    <tr>\n",
       "      <th>27648</th>\n",
       "      <td>4iS19hLpsgRd8jLPKI4Ni3</td>\n",
       "      <td>Blissonic</td>\n",
       "      <td>[thai indie]</td>\n",
       "    </tr>\n",
       "    <tr>\n",
       "      <th>27649</th>\n",
       "      <td>3JGC3LkYrwlrTscixVwY72</td>\n",
       "      <td>พราว</td>\n",
       "      <td>[thai indie]</td>\n",
       "    </tr>\n",
       "  </tbody>\n",
       "</table>\n",
       "<p>27650 rows × 3 columns</p>\n",
       "</div>"
      ],
      "text/plain": [
       "                           id                     name  \\\n",
       "0      72578usTM6Cj5qWsi471Nc              Raghu Dixit   \n",
       "1      7b6Ui7JVaBDEfZB9k6nHL0          The Local Train   \n",
       "2      5wJ1H6ud777odtZl5gG507            Vishal Mishra   \n",
       "3      0n4a5imdLBN24fIrBWoqrv                  Because   \n",
       "4      4gdMJYnopf2nEUcanAwstx                Anuv Jain   \n",
       "...                       ...                      ...   \n",
       "27645  3yMpPk98o4yrKhUr9rB0yY  Sheikh Mahmood Ali Bana   \n",
       "27646  5ICqrGUqDv9KZdbbFiNGma               Jay Tholen   \n",
       "27647  7JXwnoNAAY276k8wZVmpYf                A.R. Kane   \n",
       "27648  4iS19hLpsgRd8jLPKI4Ni3                Blissonic   \n",
       "27649  3JGC3LkYrwlrTscixVwY72                     พราว   \n",
       "\n",
       "                                                  genres  \n",
       "0         [filmi, indian folk, indian rock, kannada pop]  \n",
       "1      [desi pop, hindi indie, indian indie, indian r...  \n",
       "2                           [desi pop, modern bollywood]  \n",
       "3      [opm, pinoy hip hop, pinoy r&b, pinoy trap, ta...  \n",
       "4      [hindi indie, indian indie, indian singer-song...  \n",
       "...                                                  ...  \n",
       "27645                               [islamic recitation]  \n",
       "27646                                         [chiptune]  \n",
       "27647                     [dream pop, nu gaze, shoegaze]  \n",
       "27648                                       [thai indie]  \n",
       "27649                                       [thai indie]  \n",
       "\n",
       "[27650 rows x 3 columns]"
      ]
     },
     "execution_count": 10,
     "metadata": {},
     "output_type": "execute_result"
    }
   ],
   "source": [
    "PATH_ARTISTS = \"data/v2/artists.jsonl\"\n",
    "artists_df = pd.read_json(PATH_ARTISTS, lines=True)\n",
    "artists_df"
   ]
  },
  {
   "cell_type": "markdown",
   "metadata": {},
   "source": [
    "Zaczynamy od sprawdzenia ilości wartości nieznanych (null):"
   ]
  },
  {
   "cell_type": "code",
   "execution_count": 11,
   "metadata": {},
   "outputs": [
    {
     "data": {
      "text/plain": [
       "id        0\n",
       "name      0\n",
       "genres    0\n",
       "dtype: int64"
      ]
     },
     "execution_count": 11,
     "metadata": {},
     "output_type": "execute_result"
    }
   ],
   "source": [
    "num_artists = artists_df.shape[0]\n",
    "artists_null_values = num_artists - artists_df.count()\n",
    "artists_null_values"
   ]
  },
  {
   "cell_type": "markdown",
   "metadata": {},
   "source": [
    "Następnym problemem były powtarzające się wartości -1 w polu *id*:"
   ]
  },
  {
   "cell_type": "code",
   "execution_count": 12,
   "metadata": {},
   "outputs": [
    {
     "data": {
      "text/plain": [
       "id\n",
       "72578usTM6Cj5qWsi471Nc    1\n",
       "0fYPQBOx0vsRMmjUba9HgF    1\n",
       "60alJNnwGVBdNXrx4kOfW0    1\n",
       "0ZXKT0FCsLWkSLCjoBJgBX    1\n",
       "0t8lKcdJV0dEicuocOteOw    1\n",
       "                         ..\n",
       "07Asx51VtMw5kbNXKrpZlq    1\n",
       "7dSisSXIg7tDRFTxjaWY0c    1\n",
       "3wOsYKZM0zcKNasi3I7fP4    1\n",
       "1UAzmnFgjizIDvtHvnCdEq    1\n",
       "3JGC3LkYrwlrTscixVwY72    1\n",
       "Name: count, Length: 27650, dtype: int64"
      ]
     },
     "execution_count": 12,
     "metadata": {},
     "output_type": "execute_result"
    }
   ],
   "source": [
    "artists_ids_count = artists_df[\"id\"].value_counts()\n",
    "artists_ids_count"
   ]
  },
  {
   "cell_type": "markdown",
   "metadata": {},
   "source": [
    "Wszystkie wartości *id* są w tym zestawie unikalne."
   ]
  },
  {
   "cell_type": "markdown",
   "metadata": {},
   "source": [
    "Poniższy kod rozdziela wszystkie gatunki muzyczne, występujące w zbiorze danych. Każdy wiersz odpowiada jednemu artyście. Reprezentowane przez niego gatunki muzyczne są oznaczone jedynką, natomiast reszta - zerem."
   ]
  },
  {
   "cell_type": "code",
   "execution_count": 13,
   "metadata": {},
   "outputs": [
    {
     "data": {
      "text/html": [
       "<div>\n",
       "<style scoped>\n",
       "    .dataframe tbody tr th:only-of-type {\n",
       "        vertical-align: middle;\n",
       "    }\n",
       "\n",
       "    .dataframe tbody tr th {\n",
       "        vertical-align: top;\n",
       "    }\n",
       "\n",
       "    .dataframe thead th {\n",
       "        text-align: right;\n",
       "    }\n",
       "</style>\n",
       "<table border=\"1\" class=\"dataframe\">\n",
       "  <thead>\n",
       "    <tr style=\"text-align: right;\">\n",
       "      <th></th>\n",
       "      <th>48g</th>\n",
       "      <th>a cappella</th>\n",
       "      <th>abstract</th>\n",
       "      <th>abstract hip hop</th>\n",
       "      <th>accordeon</th>\n",
       "      <th>accordion</th>\n",
       "      <th>acid house</th>\n",
       "      <th>acid jazz</th>\n",
       "      <th>acid rock</th>\n",
       "      <th>acid techno</th>\n",
       "      <th>...</th>\n",
       "      <th>zespol dzieciecy</th>\n",
       "      <th>zhongguo feng</th>\n",
       "      <th>zikir</th>\n",
       "      <th>zillertal</th>\n",
       "      <th>zim urban groove</th>\n",
       "      <th>zolo</th>\n",
       "      <th>zouglou</th>\n",
       "      <th>zouk</th>\n",
       "      <th>zouk riddim</th>\n",
       "      <th>zydeco</th>\n",
       "    </tr>\n",
       "    <tr>\n",
       "      <th>id</th>\n",
       "      <th></th>\n",
       "      <th></th>\n",
       "      <th></th>\n",
       "      <th></th>\n",
       "      <th></th>\n",
       "      <th></th>\n",
       "      <th></th>\n",
       "      <th></th>\n",
       "      <th></th>\n",
       "      <th></th>\n",
       "      <th></th>\n",
       "      <th></th>\n",
       "      <th></th>\n",
       "      <th></th>\n",
       "      <th></th>\n",
       "      <th></th>\n",
       "      <th></th>\n",
       "      <th></th>\n",
       "      <th></th>\n",
       "      <th></th>\n",
       "      <th></th>\n",
       "    </tr>\n",
       "  </thead>\n",
       "  <tbody>\n",
       "    <tr>\n",
       "      <th>72578usTM6Cj5qWsi471Nc</th>\n",
       "      <td>0</td>\n",
       "      <td>0</td>\n",
       "      <td>0</td>\n",
       "      <td>0</td>\n",
       "      <td>0</td>\n",
       "      <td>0</td>\n",
       "      <td>0</td>\n",
       "      <td>0</td>\n",
       "      <td>0</td>\n",
       "      <td>0</td>\n",
       "      <td>...</td>\n",
       "      <td>0</td>\n",
       "      <td>0</td>\n",
       "      <td>0</td>\n",
       "      <td>0</td>\n",
       "      <td>0</td>\n",
       "      <td>0</td>\n",
       "      <td>0</td>\n",
       "      <td>0</td>\n",
       "      <td>0</td>\n",
       "      <td>0</td>\n",
       "    </tr>\n",
       "    <tr>\n",
       "      <th>7b6Ui7JVaBDEfZB9k6nHL0</th>\n",
       "      <td>0</td>\n",
       "      <td>0</td>\n",
       "      <td>0</td>\n",
       "      <td>0</td>\n",
       "      <td>0</td>\n",
       "      <td>0</td>\n",
       "      <td>0</td>\n",
       "      <td>0</td>\n",
       "      <td>0</td>\n",
       "      <td>0</td>\n",
       "      <td>...</td>\n",
       "      <td>0</td>\n",
       "      <td>0</td>\n",
       "      <td>0</td>\n",
       "      <td>0</td>\n",
       "      <td>0</td>\n",
       "      <td>0</td>\n",
       "      <td>0</td>\n",
       "      <td>0</td>\n",
       "      <td>0</td>\n",
       "      <td>0</td>\n",
       "    </tr>\n",
       "    <tr>\n",
       "      <th>5wJ1H6ud777odtZl5gG507</th>\n",
       "      <td>0</td>\n",
       "      <td>0</td>\n",
       "      <td>0</td>\n",
       "      <td>0</td>\n",
       "      <td>0</td>\n",
       "      <td>0</td>\n",
       "      <td>0</td>\n",
       "      <td>0</td>\n",
       "      <td>0</td>\n",
       "      <td>0</td>\n",
       "      <td>...</td>\n",
       "      <td>0</td>\n",
       "      <td>0</td>\n",
       "      <td>0</td>\n",
       "      <td>0</td>\n",
       "      <td>0</td>\n",
       "      <td>0</td>\n",
       "      <td>0</td>\n",
       "      <td>0</td>\n",
       "      <td>0</td>\n",
       "      <td>0</td>\n",
       "    </tr>\n",
       "    <tr>\n",
       "      <th>0n4a5imdLBN24fIrBWoqrv</th>\n",
       "      <td>0</td>\n",
       "      <td>0</td>\n",
       "      <td>0</td>\n",
       "      <td>0</td>\n",
       "      <td>0</td>\n",
       "      <td>0</td>\n",
       "      <td>0</td>\n",
       "      <td>0</td>\n",
       "      <td>0</td>\n",
       "      <td>0</td>\n",
       "      <td>...</td>\n",
       "      <td>0</td>\n",
       "      <td>0</td>\n",
       "      <td>0</td>\n",
       "      <td>0</td>\n",
       "      <td>0</td>\n",
       "      <td>0</td>\n",
       "      <td>0</td>\n",
       "      <td>0</td>\n",
       "      <td>0</td>\n",
       "      <td>0</td>\n",
       "    </tr>\n",
       "    <tr>\n",
       "      <th>4gdMJYnopf2nEUcanAwstx</th>\n",
       "      <td>0</td>\n",
       "      <td>0</td>\n",
       "      <td>0</td>\n",
       "      <td>0</td>\n",
       "      <td>0</td>\n",
       "      <td>0</td>\n",
       "      <td>0</td>\n",
       "      <td>0</td>\n",
       "      <td>0</td>\n",
       "      <td>0</td>\n",
       "      <td>...</td>\n",
       "      <td>0</td>\n",
       "      <td>0</td>\n",
       "      <td>0</td>\n",
       "      <td>0</td>\n",
       "      <td>0</td>\n",
       "      <td>0</td>\n",
       "      <td>0</td>\n",
       "      <td>0</td>\n",
       "      <td>0</td>\n",
       "      <td>0</td>\n",
       "    </tr>\n",
       "    <tr>\n",
       "      <th>...</th>\n",
       "      <td>...</td>\n",
       "      <td>...</td>\n",
       "      <td>...</td>\n",
       "      <td>...</td>\n",
       "      <td>...</td>\n",
       "      <td>...</td>\n",
       "      <td>...</td>\n",
       "      <td>...</td>\n",
       "      <td>...</td>\n",
       "      <td>...</td>\n",
       "      <td>...</td>\n",
       "      <td>...</td>\n",
       "      <td>...</td>\n",
       "      <td>...</td>\n",
       "      <td>...</td>\n",
       "      <td>...</td>\n",
       "      <td>...</td>\n",
       "      <td>...</td>\n",
       "      <td>...</td>\n",
       "      <td>...</td>\n",
       "      <td>...</td>\n",
       "    </tr>\n",
       "    <tr>\n",
       "      <th>3yMpPk98o4yrKhUr9rB0yY</th>\n",
       "      <td>0</td>\n",
       "      <td>0</td>\n",
       "      <td>0</td>\n",
       "      <td>0</td>\n",
       "      <td>0</td>\n",
       "      <td>0</td>\n",
       "      <td>0</td>\n",
       "      <td>0</td>\n",
       "      <td>0</td>\n",
       "      <td>0</td>\n",
       "      <td>...</td>\n",
       "      <td>0</td>\n",
       "      <td>0</td>\n",
       "      <td>0</td>\n",
       "      <td>0</td>\n",
       "      <td>0</td>\n",
       "      <td>0</td>\n",
       "      <td>0</td>\n",
       "      <td>0</td>\n",
       "      <td>0</td>\n",
       "      <td>0</td>\n",
       "    </tr>\n",
       "    <tr>\n",
       "      <th>5ICqrGUqDv9KZdbbFiNGma</th>\n",
       "      <td>0</td>\n",
       "      <td>0</td>\n",
       "      <td>0</td>\n",
       "      <td>0</td>\n",
       "      <td>0</td>\n",
       "      <td>0</td>\n",
       "      <td>0</td>\n",
       "      <td>0</td>\n",
       "      <td>0</td>\n",
       "      <td>0</td>\n",
       "      <td>...</td>\n",
       "      <td>0</td>\n",
       "      <td>0</td>\n",
       "      <td>0</td>\n",
       "      <td>0</td>\n",
       "      <td>0</td>\n",
       "      <td>0</td>\n",
       "      <td>0</td>\n",
       "      <td>0</td>\n",
       "      <td>0</td>\n",
       "      <td>0</td>\n",
       "    </tr>\n",
       "    <tr>\n",
       "      <th>7JXwnoNAAY276k8wZVmpYf</th>\n",
       "      <td>0</td>\n",
       "      <td>0</td>\n",
       "      <td>0</td>\n",
       "      <td>0</td>\n",
       "      <td>0</td>\n",
       "      <td>0</td>\n",
       "      <td>0</td>\n",
       "      <td>0</td>\n",
       "      <td>0</td>\n",
       "      <td>0</td>\n",
       "      <td>...</td>\n",
       "      <td>0</td>\n",
       "      <td>0</td>\n",
       "      <td>0</td>\n",
       "      <td>0</td>\n",
       "      <td>0</td>\n",
       "      <td>0</td>\n",
       "      <td>0</td>\n",
       "      <td>0</td>\n",
       "      <td>0</td>\n",
       "      <td>0</td>\n",
       "    </tr>\n",
       "    <tr>\n",
       "      <th>4iS19hLpsgRd8jLPKI4Ni3</th>\n",
       "      <td>0</td>\n",
       "      <td>0</td>\n",
       "      <td>0</td>\n",
       "      <td>0</td>\n",
       "      <td>0</td>\n",
       "      <td>0</td>\n",
       "      <td>0</td>\n",
       "      <td>0</td>\n",
       "      <td>0</td>\n",
       "      <td>0</td>\n",
       "      <td>...</td>\n",
       "      <td>0</td>\n",
       "      <td>0</td>\n",
       "      <td>0</td>\n",
       "      <td>0</td>\n",
       "      <td>0</td>\n",
       "      <td>0</td>\n",
       "      <td>0</td>\n",
       "      <td>0</td>\n",
       "      <td>0</td>\n",
       "      <td>0</td>\n",
       "    </tr>\n",
       "    <tr>\n",
       "      <th>3JGC3LkYrwlrTscixVwY72</th>\n",
       "      <td>0</td>\n",
       "      <td>0</td>\n",
       "      <td>0</td>\n",
       "      <td>0</td>\n",
       "      <td>0</td>\n",
       "      <td>0</td>\n",
       "      <td>0</td>\n",
       "      <td>0</td>\n",
       "      <td>0</td>\n",
       "      <td>0</td>\n",
       "      <td>...</td>\n",
       "      <td>0</td>\n",
       "      <td>0</td>\n",
       "      <td>0</td>\n",
       "      <td>0</td>\n",
       "      <td>0</td>\n",
       "      <td>0</td>\n",
       "      <td>0</td>\n",
       "      <td>0</td>\n",
       "      <td>0</td>\n",
       "      <td>0</td>\n",
       "    </tr>\n",
       "  </tbody>\n",
       "</table>\n",
       "<p>27650 rows × 3953 columns</p>\n",
       "</div>"
      ],
      "text/plain": [
       "                        48g  a cappella  abstract  abstract hip hop  \\\n",
       "id                                                                    \n",
       "72578usTM6Cj5qWsi471Nc    0           0         0                 0   \n",
       "7b6Ui7JVaBDEfZB9k6nHL0    0           0         0                 0   \n",
       "5wJ1H6ud777odtZl5gG507    0           0         0                 0   \n",
       "0n4a5imdLBN24fIrBWoqrv    0           0         0                 0   \n",
       "4gdMJYnopf2nEUcanAwstx    0           0         0                 0   \n",
       "...                     ...         ...       ...               ...   \n",
       "3yMpPk98o4yrKhUr9rB0yY    0           0         0                 0   \n",
       "5ICqrGUqDv9KZdbbFiNGma    0           0         0                 0   \n",
       "7JXwnoNAAY276k8wZVmpYf    0           0         0                 0   \n",
       "4iS19hLpsgRd8jLPKI4Ni3    0           0         0                 0   \n",
       "3JGC3LkYrwlrTscixVwY72    0           0         0                 0   \n",
       "\n",
       "                        accordeon  accordion  acid house  acid jazz  \\\n",
       "id                                                                    \n",
       "72578usTM6Cj5qWsi471Nc          0          0           0          0   \n",
       "7b6Ui7JVaBDEfZB9k6nHL0          0          0           0          0   \n",
       "5wJ1H6ud777odtZl5gG507          0          0           0          0   \n",
       "0n4a5imdLBN24fIrBWoqrv          0          0           0          0   \n",
       "4gdMJYnopf2nEUcanAwstx          0          0           0          0   \n",
       "...                           ...        ...         ...        ...   \n",
       "3yMpPk98o4yrKhUr9rB0yY          0          0           0          0   \n",
       "5ICqrGUqDv9KZdbbFiNGma          0          0           0          0   \n",
       "7JXwnoNAAY276k8wZVmpYf          0          0           0          0   \n",
       "4iS19hLpsgRd8jLPKI4Ni3          0          0           0          0   \n",
       "3JGC3LkYrwlrTscixVwY72          0          0           0          0   \n",
       "\n",
       "                        acid rock  acid techno  ...  zespol dzieciecy  \\\n",
       "id                                              ...                     \n",
       "72578usTM6Cj5qWsi471Nc          0            0  ...                 0   \n",
       "7b6Ui7JVaBDEfZB9k6nHL0          0            0  ...                 0   \n",
       "5wJ1H6ud777odtZl5gG507          0            0  ...                 0   \n",
       "0n4a5imdLBN24fIrBWoqrv          0            0  ...                 0   \n",
       "4gdMJYnopf2nEUcanAwstx          0            0  ...                 0   \n",
       "...                           ...          ...  ...               ...   \n",
       "3yMpPk98o4yrKhUr9rB0yY          0            0  ...                 0   \n",
       "5ICqrGUqDv9KZdbbFiNGma          0            0  ...                 0   \n",
       "7JXwnoNAAY276k8wZVmpYf          0            0  ...                 0   \n",
       "4iS19hLpsgRd8jLPKI4Ni3          0            0  ...                 0   \n",
       "3JGC3LkYrwlrTscixVwY72          0            0  ...                 0   \n",
       "\n",
       "                        zhongguo feng  zikir  zillertal  zim urban groove  \\\n",
       "id                                                                          \n",
       "72578usTM6Cj5qWsi471Nc              0      0          0                 0   \n",
       "7b6Ui7JVaBDEfZB9k6nHL0              0      0          0                 0   \n",
       "5wJ1H6ud777odtZl5gG507              0      0          0                 0   \n",
       "0n4a5imdLBN24fIrBWoqrv              0      0          0                 0   \n",
       "4gdMJYnopf2nEUcanAwstx              0      0          0                 0   \n",
       "...                               ...    ...        ...               ...   \n",
       "3yMpPk98o4yrKhUr9rB0yY              0      0          0                 0   \n",
       "5ICqrGUqDv9KZdbbFiNGma              0      0          0                 0   \n",
       "7JXwnoNAAY276k8wZVmpYf              0      0          0                 0   \n",
       "4iS19hLpsgRd8jLPKI4Ni3              0      0          0                 0   \n",
       "3JGC3LkYrwlrTscixVwY72              0      0          0                 0   \n",
       "\n",
       "                        zolo  zouglou  zouk  zouk riddim  zydeco  \n",
       "id                                                                \n",
       "72578usTM6Cj5qWsi471Nc     0        0     0            0       0  \n",
       "7b6Ui7JVaBDEfZB9k6nHL0     0        0     0            0       0  \n",
       "5wJ1H6ud777odtZl5gG507     0        0     0            0       0  \n",
       "0n4a5imdLBN24fIrBWoqrv     0        0     0            0       0  \n",
       "4gdMJYnopf2nEUcanAwstx     0        0     0            0       0  \n",
       "...                      ...      ...   ...          ...     ...  \n",
       "3yMpPk98o4yrKhUr9rB0yY     0        0     0            0       0  \n",
       "5ICqrGUqDv9KZdbbFiNGma     0        0     0            0       0  \n",
       "7JXwnoNAAY276k8wZVmpYf     0        0     0            0       0  \n",
       "4iS19hLpsgRd8jLPKI4Ni3     0        0     0            0       0  \n",
       "3JGC3LkYrwlrTscixVwY72     0        0     0            0       0  \n",
       "\n",
       "[27650 rows x 3953 columns]"
      ]
     },
     "execution_count": 13,
     "metadata": {},
     "output_type": "execute_result"
    }
   ],
   "source": [
    "from sklearn.preprocessing import MultiLabelBinarizer\n",
    "\n",
    "mlb = MultiLabelBinarizer()\n",
    "genres_df = pd.DataFrame(mlb.fit_transform(artists_df['genres']),\n",
    "                         columns=mlb.classes_,\n",
    "                         index=artists_df[\"id\"])\n",
    "genres_df"
   ]
  },
  {
   "cell_type": "markdown",
   "metadata": {},
   "source": [
    "W powyższej tabeli widać rozdzielnie gatunek \"accordeon\" i \"accordion\" - prawdopodobnie odnosi się to do tego samego gatunku, ale zapisane jest w innym języku. Jeśli w danych jest dużo przypadków takich niespójności (trudne do zbadania), może to negatywnie wpłynąć na jakość naszego modelu. Widać również kategorię \"zespół dziecięcy\", co może potwierdzać teorię, że artyści reprezentujący te same kategorie są rozdzieleni na różne tłumaczenia gatunków."
   ]
  },
  {
   "cell_type": "code",
   "execution_count": 14,
   "metadata": {},
   "outputs": [
    {
     "data": {
      "text/plain": [
       "rock                  498\n",
       "dance pop             399\n",
       "pop                   371\n",
       "latin                 356\n",
       "country rock          337\n",
       "                     ... \n",
       "sinogaze                1\n",
       "german opera            1\n",
       "chinese soundtrack      1\n",
       "chinese post-rock       1\n",
       "grisly death metal      1\n",
       "Length: 3953, dtype: int64"
      ]
     },
     "execution_count": 14,
     "metadata": {},
     "output_type": "execute_result"
    }
   ],
   "source": [
    "count_genres_popularity = genres_df.sum()\n",
    "sorted_count_genres_popularity = count_genres_popularity.sort_values(ascending=False)\n",
    "sorted_count_genres_popularity"
   ]
  },
  {
   "cell_type": "markdown",
   "metadata": {},
   "source": [
    "Z 3953 różnych gatunków muzycznych, 790 jest przypisane do tylko jednego artysty:"
   ]
  },
  {
   "cell_type": "code",
   "execution_count": 15,
   "metadata": {},
   "outputs": [
    {
     "data": {
      "text/plain": [
       "790"
      ]
     },
     "execution_count": 15,
     "metadata": {},
     "output_type": "execute_result"
    }
   ],
   "source": [
    "len(count_genres_popularity[count_genres_popularity == 1])"
   ]
  },
  {
   "cell_type": "markdown",
   "metadata": {},
   "source": [
    "Ponadto, większość gatunków występuje 5 razy lub mniej:"
   ]
  },
  {
   "cell_type": "code",
   "execution_count": 16,
   "metadata": {},
   "outputs": [
    {
     "data": {
      "text/plain": [
       "2054"
      ]
     },
     "execution_count": 16,
     "metadata": {},
     "output_type": "execute_result"
    }
   ],
   "source": [
    "len(count_genres_popularity[count_genres_popularity <= 5])"
   ]
  },
  {
   "cell_type": "markdown",
   "metadata": {},
   "source": [
    "Jest to ponad połowa wszystkich naszych danych:"
   ]
  },
  {
   "cell_type": "code",
   "execution_count": 17,
   "metadata": {},
   "outputs": [
    {
     "data": {
      "text/plain": [
       "0.5196053630154314"
      ]
     },
     "execution_count": 17,
     "metadata": {},
     "output_type": "execute_result"
    }
   ],
   "source": [
    "len(count_genres_popularity[count_genres_popularity <= 5])/len(count_genres_popularity)"
   ]
  },
  {
   "cell_type": "markdown",
   "metadata": {},
   "source": [
    "Histogram:"
   ]
  },
  {
   "cell_type": "code",
   "execution_count": 18,
   "metadata": {},
   "outputs": [
    {
     "data": {
      "text/plain": [
       "<Axes: >"
      ]
     },
     "execution_count": 18,
     "metadata": {},
     "output_type": "execute_result"
    },
    {
     "data": {
      "image/png": "[encoded data removed]",
      "text/plain": [
       "<Figure size 640x480 with 1 Axes>"
      ]
     },
     "metadata": {},
     "output_type": "display_data"
    }
   ],
   "source": [
    "count_genres_popularity.hist(bins=100)"
   ]
  },
  {
   "cell_type": "markdown",
   "metadata": {},
   "source": [
    "#### *tracks.jsonl*\n"
   ]
  },
  {
   "cell_type": "code",
   "execution_count": 19,
   "metadata": {},
   "outputs": [
    {
     "data": {
      "text/html": [
       "<div>\n",
       "<style scoped>\n",
       "    .dataframe tbody tr th:only-of-type {\n",
       "        vertical-align: middle;\n",
       "    }\n",
       "\n",
       "    .dataframe tbody tr th {\n",
       "        vertical-align: top;\n",
       "    }\n",
       "\n",
       "    .dataframe thead th {\n",
       "        text-align: right;\n",
       "    }\n",
       "</style>\n",
       "<table border=\"1\" class=\"dataframe\">\n",
       "  <thead>\n",
       "    <tr style=\"text-align: right;\">\n",
       "      <th></th>\n",
       "      <th>id</th>\n",
       "      <th>name</th>\n",
       "      <th>popularity</th>\n",
       "      <th>duration_ms</th>\n",
       "      <th>explicit</th>\n",
       "      <th>id_artist</th>\n",
       "      <th>release_date</th>\n",
       "      <th>danceability</th>\n",
       "      <th>energy</th>\n",
       "      <th>key</th>\n",
       "      <th>mode</th>\n",
       "      <th>loudness</th>\n",
       "      <th>speechiness</th>\n",
       "      <th>acousticness</th>\n",
       "      <th>instrumentalness</th>\n",
       "      <th>liveness</th>\n",
       "      <th>valence</th>\n",
       "      <th>tempo</th>\n",
       "      <th>time_signature</th>\n",
       "    </tr>\n",
       "  </thead>\n",
       "  <tbody>\n",
       "    <tr>\n",
       "      <th>0</th>\n",
       "      <td>6C0WWu7RYKbAgWUI3YC0sT</td>\n",
       "      <td>Voglio farti un regalo</td>\n",
       "      <td>40</td>\n",
       "      <td>249573</td>\n",
       "      <td>1</td>\n",
       "      <td>7u710e44HW3K7A5eTnRqHC</td>\n",
       "      <td>2004-09-01</td>\n",
       "      <td>0.727</td>\n",
       "      <td>0.6630</td>\n",
       "      <td>4</td>\n",
       "      <td>0.0</td>\n",
       "      <td>-4.818</td>\n",
       "      <td>0.2770</td>\n",
       "      <td>0.08010</td>\n",
       "      <td>0.000000</td>\n",
       "      <td>0.1190</td>\n",
       "      <td>0.633</td>\n",
       "      <td>97.865</td>\n",
       "      <td>4</td>\n",
       "    </tr>\n",
       "    <tr>\n",
       "      <th>1</th>\n",
       "      <td>4q7EBRq8ncztC2PRmEC7Fy</td>\n",
       "      <td>My Love - Live / Remastered</td>\n",
       "      <td>34</td>\n",
       "      <td>254733</td>\n",
       "      <td>0</td>\n",
       "      <td>3sFhA6G1N0gG1pszb6kk1m</td>\n",
       "      <td>1976-12-10</td>\n",
       "      <td>0.444</td>\n",
       "      <td>0.3480</td>\n",
       "      <td>5</td>\n",
       "      <td>1.0</td>\n",
       "      <td>-12.729</td>\n",
       "      <td>0.0321</td>\n",
       "      <td>0.65600</td>\n",
       "      <td>0.003740</td>\n",
       "      <td>0.9560</td>\n",
       "      <td>0.284</td>\n",
       "      <td>116.685</td>\n",
       "      <td>4</td>\n",
       "    </tr>\n",
       "    <tr>\n",
       "      <th>2</th>\n",
       "      <td>7cNyONpVADZVrW9xe3qq4z</td>\n",
       "      <td>Heroes of Sand</td>\n",
       "      <td>45</td>\n",
       "      <td>279347</td>\n",
       "      <td>0</td>\n",
       "      <td>7IAXZaLTb6nkJr8RmVPn5y</td>\n",
       "      <td>2001</td>\n",
       "      <td>0.273</td>\n",
       "      <td>0.8990</td>\n",
       "      <td>6</td>\n",
       "      <td>1.0</td>\n",
       "      <td>-5.131</td>\n",
       "      <td>0.0499</td>\n",
       "      <td>0.00177</td>\n",
       "      <td>0.000006</td>\n",
       "      <td>0.1280</td>\n",
       "      <td>0.301</td>\n",
       "      <td>159.872</td>\n",
       "      <td>3</td>\n",
       "    </tr>\n",
       "    <tr>\n",
       "      <th>3</th>\n",
       "      <td>1bKRTzTFz7wHMxpgZSuPR1</td>\n",
       "      <td>Shine on Harvest Moon</td>\n",
       "      <td>6</td>\n",
       "      <td>193707</td>\n",
       "      <td>0</td>\n",
       "      <td>5bOsFzuJ6QZMr86ezC4oXY</td>\n",
       "      <td>1961-10-15</td>\n",
       "      <td>0.628</td>\n",
       "      <td>0.0616</td>\n",
       "      <td>0</td>\n",
       "      <td>1.0</td>\n",
       "      <td>-24.973</td>\n",
       "      <td>0.0558</td>\n",
       "      <td>0.78400</td>\n",
       "      <td>0.000009</td>\n",
       "      <td>0.1720</td>\n",
       "      <td>0.340</td>\n",
       "      <td>85.012</td>\n",
       "      <td>4</td>\n",
       "    </tr>\n",
       "    <tr>\n",
       "      <th>4</th>\n",
       "      <td>56OEjuyZ3AROnv4aR1XqhD</td>\n",
       "      <td>男子漢</td>\n",
       "      <td>19</td>\n",
       "      <td>182120</td>\n",
       "      <td>0</td>\n",
       "      <td>6zJ7WZkyTNmB1bFdmHH2k9</td>\n",
       "      <td>1970-01-11</td>\n",
       "      <td>0.353</td>\n",
       "      <td>0.0663</td>\n",
       "      <td>8</td>\n",
       "      <td>0.0</td>\n",
       "      <td>-24.915</td>\n",
       "      <td>0.0445</td>\n",
       "      <td>0.95800</td>\n",
       "      <td>0.000446</td>\n",
       "      <td>0.2410</td>\n",
       "      <td>0.317</td>\n",
       "      <td>100.041</td>\n",
       "      <td>4</td>\n",
       "    </tr>\n",
       "    <tr>\n",
       "      <th>...</th>\n",
       "      <td>...</td>\n",
       "      <td>...</td>\n",
       "      <td>...</td>\n",
       "      <td>...</td>\n",
       "      <td>...</td>\n",
       "      <td>...</td>\n",
       "      <td>...</td>\n",
       "      <td>...</td>\n",
       "      <td>...</td>\n",
       "      <td>...</td>\n",
       "      <td>...</td>\n",
       "      <td>...</td>\n",
       "      <td>...</td>\n",
       "      <td>...</td>\n",
       "      <td>...</td>\n",
       "      <td>...</td>\n",
       "      <td>...</td>\n",
       "      <td>...</td>\n",
       "      <td>...</td>\n",
       "    </tr>\n",
       "    <tr>\n",
       "      <th>129643</th>\n",
       "      <td>6I2q7ZIY7QX3sWOmuJjhph</td>\n",
       "      <td>Mit akarsz a boldogságtól</td>\n",
       "      <td>25</td>\n",
       "      <td>279427</td>\n",
       "      <td>0</td>\n",
       "      <td>7pZH7c4HbKE0ONErpw9cjP</td>\n",
       "      <td>1996</td>\n",
       "      <td>0.693</td>\n",
       "      <td>0.9300</td>\n",
       "      <td>11</td>\n",
       "      <td>NaN</td>\n",
       "      <td>-6.236</td>\n",
       "      <td>0.0368</td>\n",
       "      <td>0.08030</td>\n",
       "      <td>0.008070</td>\n",
       "      <td>0.1570</td>\n",
       "      <td>0.745</td>\n",
       "      <td>139.974</td>\n",
       "      <td>4</td>\n",
       "    </tr>\n",
       "    <tr>\n",
       "      <th>129644</th>\n",
       "      <td>2XvrMHbSO077Ajg7QTTNdY</td>\n",
       "      <td>Let It Die</td>\n",
       "      <td>58</td>\n",
       "      <td>244960</td>\n",
       "      <td>0</td>\n",
       "      <td>7jy3rLJdDQY21OgRLCZ9sD</td>\n",
       "      <td>2007-09-25</td>\n",
       "      <td>0.596</td>\n",
       "      <td>0.5570</td>\n",
       "      <td>0</td>\n",
       "      <td>NaN</td>\n",
       "      <td>-6.401</td>\n",
       "      <td>0.0299</td>\n",
       "      <td>0.02700</td>\n",
       "      <td>0.000016</td>\n",
       "      <td>0.0914</td>\n",
       "      <td>0.314</td>\n",
       "      <td>124.023</td>\n",
       "      <td>4</td>\n",
       "    </tr>\n",
       "    <tr>\n",
       "      <th>129645</th>\n",
       "      <td>4yFeqGWRt2Z10E2ECWG5I2</td>\n",
       "      <td>Kortit kertoo kohtalomme</td>\n",
       "      <td>18</td>\n",
       "      <td>246333</td>\n",
       "      <td>0</td>\n",
       "      <td>6GzV7OET1fJmHRgSLW2pwR</td>\n",
       "      <td>1988-12-04</td>\n",
       "      <td>0.386</td>\n",
       "      <td>0.4920</td>\n",
       "      <td>2</td>\n",
       "      <td>NaN</td>\n",
       "      <td>-11.271</td>\n",
       "      <td>0.0347</td>\n",
       "      <td>0.61000</td>\n",
       "      <td>0.000000</td>\n",
       "      <td>0.3030</td>\n",
       "      <td>0.648</td>\n",
       "      <td>167.668</td>\n",
       "      <td>4</td>\n",
       "    </tr>\n",
       "    <tr>\n",
       "      <th>129646</th>\n",
       "      <td>7dJgMpT6LzQTlLMEuoapq2</td>\n",
       "      <td>Believe in Love (2015 - Remaster)</td>\n",
       "      <td>22</td>\n",
       "      <td>323613</td>\n",
       "      <td>0</td>\n",
       "      <td>27T030eWyCQRmDyuvr1kxY</td>\n",
       "      <td>1988-04-15</td>\n",
       "      <td>0.471</td>\n",
       "      <td>0.7650</td>\n",
       "      <td>3</td>\n",
       "      <td>NaN</td>\n",
       "      <td>-4.406</td>\n",
       "      <td>0.0323</td>\n",
       "      <td>0.06680</td>\n",
       "      <td>0.082000</td>\n",
       "      <td>0.1280</td>\n",
       "      <td>0.353</td>\n",
       "      <td>132.537</td>\n",
       "      <td>4</td>\n",
       "    </tr>\n",
       "    <tr>\n",
       "      <th>129647</th>\n",
       "      <td>3z0mwmDWHXiZWpCptxttnM</td>\n",
       "      <td>Keklik Gibi</td>\n",
       "      <td>34</td>\n",
       "      <td>214453</td>\n",
       "      <td>0</td>\n",
       "      <td>48CUA59SDed3IdCctKndud</td>\n",
       "      <td>2009-01-26</td>\n",
       "      <td>0.517</td>\n",
       "      <td>0.6400</td>\n",
       "      <td>11</td>\n",
       "      <td>NaN</td>\n",
       "      <td>-5.064</td>\n",
       "      <td>0.0467</td>\n",
       "      <td>0.50800</td>\n",
       "      <td>0.000000</td>\n",
       "      <td>0.0929</td>\n",
       "      <td>0.479</td>\n",
       "      <td>95.067</td>\n",
       "      <td>4</td>\n",
       "    </tr>\n",
       "  </tbody>\n",
       "</table>\n",
       "<p>129648 rows × 19 columns</p>\n",
       "</div>"
      ],
      "text/plain": [
       "                            id                               name  popularity  \\\n",
       "0       6C0WWu7RYKbAgWUI3YC0sT             Voglio farti un regalo          40   \n",
       "1       4q7EBRq8ncztC2PRmEC7Fy        My Love - Live / Remastered          34   \n",
       "2       7cNyONpVADZVrW9xe3qq4z                     Heroes of Sand          45   \n",
       "3       1bKRTzTFz7wHMxpgZSuPR1              Shine on Harvest Moon           6   \n",
       "4       56OEjuyZ3AROnv4aR1XqhD                                男子漢          19   \n",
       "...                        ...                                ...         ...   \n",
       "129643  6I2q7ZIY7QX3sWOmuJjhph          Mit akarsz a boldogságtól          25   \n",
       "129644  2XvrMHbSO077Ajg7QTTNdY                         Let It Die          58   \n",
       "129645  4yFeqGWRt2Z10E2ECWG5I2           Kortit kertoo kohtalomme          18   \n",
       "129646  7dJgMpT6LzQTlLMEuoapq2  Believe in Love (2015 - Remaster)          22   \n",
       "129647  3z0mwmDWHXiZWpCptxttnM                        Keklik Gibi          34   \n",
       "\n",
       "        duration_ms  explicit               id_artist release_date  \\\n",
       "0            249573         1  7u710e44HW3K7A5eTnRqHC   2004-09-01   \n",
       "1            254733         0  3sFhA6G1N0gG1pszb6kk1m   1976-12-10   \n",
       "2            279347         0  7IAXZaLTb6nkJr8RmVPn5y         2001   \n",
       "3            193707         0  5bOsFzuJ6QZMr86ezC4oXY   1961-10-15   \n",
       "4            182120         0  6zJ7WZkyTNmB1bFdmHH2k9   1970-01-11   \n",
       "...             ...       ...                     ...          ...   \n",
       "129643       279427         0  7pZH7c4HbKE0ONErpw9cjP         1996   \n",
       "129644       244960         0  7jy3rLJdDQY21OgRLCZ9sD   2007-09-25   \n",
       "129645       246333         0  6GzV7OET1fJmHRgSLW2pwR   1988-12-04   \n",
       "129646       323613         0  27T030eWyCQRmDyuvr1kxY   1988-04-15   \n",
       "129647       214453         0  48CUA59SDed3IdCctKndud   2009-01-26   \n",
       "\n",
       "        danceability  energy  key  mode  loudness  speechiness  acousticness  \\\n",
       "0              0.727  0.6630    4   0.0    -4.818       0.2770       0.08010   \n",
       "1              0.444  0.3480    5   1.0   -12.729       0.0321       0.65600   \n",
       "2              0.273  0.8990    6   1.0    -5.131       0.0499       0.00177   \n",
       "3              0.628  0.0616    0   1.0   -24.973       0.0558       0.78400   \n",
       "4              0.353  0.0663    8   0.0   -24.915       0.0445       0.95800   \n",
       "...              ...     ...  ...   ...       ...          ...           ...   \n",
       "129643         0.693  0.9300   11   NaN    -6.236       0.0368       0.08030   \n",
       "129644         0.596  0.5570    0   NaN    -6.401       0.0299       0.02700   \n",
       "129645         0.386  0.4920    2   NaN   -11.271       0.0347       0.61000   \n",
       "129646         0.471  0.7650    3   NaN    -4.406       0.0323       0.06680   \n",
       "129647         0.517  0.6400   11   NaN    -5.064       0.0467       0.50800   \n",
       "\n",
       "        instrumentalness  liveness  valence    tempo  time_signature  \n",
       "0               0.000000    0.1190    0.633   97.865               4  \n",
       "1               0.003740    0.9560    0.284  116.685               4  \n",
       "2               0.000006    0.1280    0.301  159.872               3  \n",
       "3               0.000009    0.1720    0.340   85.012               4  \n",
       "4               0.000446    0.2410    0.317  100.041               4  \n",
       "...                  ...       ...      ...      ...             ...  \n",
       "129643          0.008070    0.1570    0.745  139.974               4  \n",
       "129644          0.000016    0.0914    0.314  124.023               4  \n",
       "129645          0.000000    0.3030    0.648  167.668               4  \n",
       "129646          0.082000    0.1280    0.353  132.537               4  \n",
       "129647          0.000000    0.0929    0.479   95.067               4  \n",
       "\n",
       "[129648 rows x 19 columns]"
      ]
     },
     "execution_count": 19,
     "metadata": {},
     "output_type": "execute_result"
    }
   ],
   "source": [
    "PATH_TRACKS = \"data/v2/tracks.jsonl\"\n",
    "tracks_df = pd.read_json(PATH_TRACKS, lines=True)\n",
    "tracks_df"
   ]
  },
  {
   "cell_type": "markdown",
   "metadata": {},
   "source": [
    "Sprawdzenie ilość wartości nieznanych (null):"
   ]
  },
  {
   "cell_type": "code",
   "execution_count": 20,
   "metadata": {},
   "outputs": [
    {
     "data": {
      "text/plain": [
       "id                       0\n",
       "name                     0\n",
       "popularity               0\n",
       "duration_ms              0\n",
       "explicit                 0\n",
       "id_artist                0\n",
       "release_date             0\n",
       "danceability             0\n",
       "energy                   0\n",
       "key                      0\n",
       "mode                103719\n",
       "loudness                 0\n",
       "speechiness              0\n",
       "acousticness             0\n",
       "instrumentalness         0\n",
       "liveness                 0\n",
       "valence                  0\n",
       "tempo                    0\n",
       "time_signature           0\n",
       "dtype: int64"
      ]
     },
     "execution_count": 20,
     "metadata": {},
     "output_type": "execute_result"
    }
   ],
   "source": [
    "num_tracks = tracks_df.shape[0]\n",
    "tracks_null_values = num_tracks - tracks_df.count()\n",
    "tracks_null_values"
   ]
  },
  {
   "cell_type": "markdown",
   "metadata": {},
   "source": [
    "Poza polem *mode*, nie ma braków w danych."
   ]
  },
  {
   "cell_type": "markdown",
   "metadata": {},
   "source": [
    "Sprawdzenie poprawności pola \"id\":"
   ]
  },
  {
   "cell_type": "code",
   "execution_count": 21,
   "metadata": {},
   "outputs": [
    {
     "data": {
      "text/plain": [
       "id\n",
       "6C0WWu7RYKbAgWUI3YC0sT    1\n",
       "6uGllanaOEl5aMRSZXrXJL    1\n",
       "78RrrUc92SAfUmOsZXRWrx    1\n",
       "52XYwQKlXp7scE7KrBBCID    1\n",
       "3HliZf9u2g7RCbbkUGekvZ    1\n",
       "                         ..\n",
       "2hw47GMKL6LXwp5BJgPxXf    1\n",
       "1rktgi2hNfNisWZsgvxLsR    1\n",
       "2p1Hcs5ClTIMBj0mDV0ytf    1\n",
       "4oaIQGZBqIzRG5mCb3Sbzr    1\n",
       "3z0mwmDWHXiZWpCptxttnM    1\n",
       "Name: count, Length: 129648, dtype: int64"
      ]
     },
     "execution_count": 21,
     "metadata": {},
     "output_type": "execute_result"
    }
   ],
   "source": [
    "tracks_df[\"id\"].value_counts()"
   ]
  },
  {
   "cell_type": "markdown",
   "metadata": {},
   "source": [
    "W danych wszystkie identyfikatory są unikalne."
   ]
  },
  {
   "cell_type": "markdown",
   "metadata": {},
   "source": [
    "Należy również sprawdzić, czy wszystkie pola *id_artist* w pliku *tracks.jsonl* odpowiadają artsytom z pliku *artists.jsonl*. Poniższy kod łączy obiekty DataFrame na podstawie *id* artysty:"
   ]
  },
  {
   "cell_type": "code",
   "execution_count": 22,
   "metadata": {},
   "outputs": [
    {
     "data": {
      "text/html": [
       "<div>\n",
       "<style scoped>\n",
       "    .dataframe tbody tr th:only-of-type {\n",
       "        vertical-align: middle;\n",
       "    }\n",
       "\n",
       "    .dataframe tbody tr th {\n",
       "        vertical-align: top;\n",
       "    }\n",
       "\n",
       "    .dataframe thead th {\n",
       "        text-align: right;\n",
       "    }\n",
       "</style>\n",
       "<table border=\"1\" class=\"dataframe\">\n",
       "  <thead>\n",
       "    <tr style=\"text-align: right;\">\n",
       "      <th></th>\n",
       "      <th>id_track</th>\n",
       "      <th>name_track</th>\n",
       "      <th>popularity</th>\n",
       "      <th>duration_ms</th>\n",
       "      <th>explicit</th>\n",
       "      <th>release_date</th>\n",
       "      <th>danceability</th>\n",
       "      <th>energy</th>\n",
       "      <th>key</th>\n",
       "      <th>mode</th>\n",
       "      <th>loudness</th>\n",
       "      <th>speechiness</th>\n",
       "      <th>acousticness</th>\n",
       "      <th>instrumentalness</th>\n",
       "      <th>liveness</th>\n",
       "      <th>valence</th>\n",
       "      <th>tempo</th>\n",
       "      <th>time_signature</th>\n",
       "      <th>name_artist</th>\n",
       "      <th>genres</th>\n",
       "    </tr>\n",
       "  </thead>\n",
       "  <tbody>\n",
       "    <tr>\n",
       "      <th>0</th>\n",
       "      <td>6C0WWu7RYKbAgWUI3YC0sT</td>\n",
       "      <td>Voglio farti un regalo</td>\n",
       "      <td>40</td>\n",
       "      <td>249573</td>\n",
       "      <td>1</td>\n",
       "      <td>2004-09-01</td>\n",
       "      <td>0.727</td>\n",
       "      <td>0.6630</td>\n",
       "      <td>4</td>\n",
       "      <td>0.0</td>\n",
       "      <td>-4.818</td>\n",
       "      <td>0.2770</td>\n",
       "      <td>0.08010</td>\n",
       "      <td>0.000000</td>\n",
       "      <td>0.1190</td>\n",
       "      <td>0.633</td>\n",
       "      <td>97.865</td>\n",
       "      <td>4</td>\n",
       "      <td>Fabri Fibra</td>\n",
       "      <td>[italian hip hop, italian pop, rap napoletano]</td>\n",
       "    </tr>\n",
       "    <tr>\n",
       "      <th>1</th>\n",
       "      <td>4q7EBRq8ncztC2PRmEC7Fy</td>\n",
       "      <td>My Love - Live / Remastered</td>\n",
       "      <td>34</td>\n",
       "      <td>254733</td>\n",
       "      <td>0</td>\n",
       "      <td>1976-12-10</td>\n",
       "      <td>0.444</td>\n",
       "      <td>0.3480</td>\n",
       "      <td>5</td>\n",
       "      <td>1.0</td>\n",
       "      <td>-12.729</td>\n",
       "      <td>0.0321</td>\n",
       "      <td>0.65600</td>\n",
       "      <td>0.003740</td>\n",
       "      <td>0.9560</td>\n",
       "      <td>0.284</td>\n",
       "      <td>116.685</td>\n",
       "      <td>4</td>\n",
       "      <td>Wings</td>\n",
       "      <td>[album rock, art rock, beatlesque, classic roc...</td>\n",
       "    </tr>\n",
       "    <tr>\n",
       "      <th>2</th>\n",
       "      <td>7cNyONpVADZVrW9xe3qq4z</td>\n",
       "      <td>Heroes of Sand</td>\n",
       "      <td>45</td>\n",
       "      <td>279347</td>\n",
       "      <td>0</td>\n",
       "      <td>2001</td>\n",
       "      <td>0.273</td>\n",
       "      <td>0.8990</td>\n",
       "      <td>6</td>\n",
       "      <td>1.0</td>\n",
       "      <td>-5.131</td>\n",
       "      <td>0.0499</td>\n",
       "      <td>0.00177</td>\n",
       "      <td>0.000006</td>\n",
       "      <td>0.1280</td>\n",
       "      <td>0.301</td>\n",
       "      <td>159.872</td>\n",
       "      <td>3</td>\n",
       "      <td>Angra</td>\n",
       "      <td>[brazilian metal, brazilian power metal, brazi...</td>\n",
       "    </tr>\n",
       "    <tr>\n",
       "      <th>3</th>\n",
       "      <td>1bKRTzTFz7wHMxpgZSuPR1</td>\n",
       "      <td>Shine on Harvest Moon</td>\n",
       "      <td>6</td>\n",
       "      <td>193707</td>\n",
       "      <td>0</td>\n",
       "      <td>1961-10-15</td>\n",
       "      <td>0.628</td>\n",
       "      <td>0.0616</td>\n",
       "      <td>0</td>\n",
       "      <td>1.0</td>\n",
       "      <td>-24.973</td>\n",
       "      <td>0.0558</td>\n",
       "      <td>0.78400</td>\n",
       "      <td>0.000009</td>\n",
       "      <td>0.1720</td>\n",
       "      <td>0.340</td>\n",
       "      <td>85.012</td>\n",
       "      <td>4</td>\n",
       "      <td>The Ink Spots</td>\n",
       "      <td>[adult standards, lounge, swing, vocal harmony...</td>\n",
       "    </tr>\n",
       "    <tr>\n",
       "      <th>4</th>\n",
       "      <td>56OEjuyZ3AROnv4aR1XqhD</td>\n",
       "      <td>男子漢</td>\n",
       "      <td>19</td>\n",
       "      <td>182120</td>\n",
       "      <td>0</td>\n",
       "      <td>1970-01-11</td>\n",
       "      <td>0.353</td>\n",
       "      <td>0.0663</td>\n",
       "      <td>8</td>\n",
       "      <td>0.0</td>\n",
       "      <td>-24.915</td>\n",
       "      <td>0.0445</td>\n",
       "      <td>0.95800</td>\n",
       "      <td>0.000446</td>\n",
       "      <td>0.2410</td>\n",
       "      <td>0.317</td>\n",
       "      <td>100.041</td>\n",
       "      <td>4</td>\n",
       "      <td>閻荷婷</td>\n",
       "      <td>[vintage taiwan pop]</td>\n",
       "    </tr>\n",
       "    <tr>\n",
       "      <th>...</th>\n",
       "      <td>...</td>\n",
       "      <td>...</td>\n",
       "      <td>...</td>\n",
       "      <td>...</td>\n",
       "      <td>...</td>\n",
       "      <td>...</td>\n",
       "      <td>...</td>\n",
       "      <td>...</td>\n",
       "      <td>...</td>\n",
       "      <td>...</td>\n",
       "      <td>...</td>\n",
       "      <td>...</td>\n",
       "      <td>...</td>\n",
       "      <td>...</td>\n",
       "      <td>...</td>\n",
       "      <td>...</td>\n",
       "      <td>...</td>\n",
       "      <td>...</td>\n",
       "      <td>...</td>\n",
       "      <td>...</td>\n",
       "    </tr>\n",
       "    <tr>\n",
       "      <th>129643</th>\n",
       "      <td>6I2q7ZIY7QX3sWOmuJjhph</td>\n",
       "      <td>Mit akarsz a boldogságtól</td>\n",
       "      <td>25</td>\n",
       "      <td>279427</td>\n",
       "      <td>0</td>\n",
       "      <td>1996</td>\n",
       "      <td>0.693</td>\n",
       "      <td>0.9300</td>\n",
       "      <td>11</td>\n",
       "      <td>NaN</td>\n",
       "      <td>-6.236</td>\n",
       "      <td>0.0368</td>\n",
       "      <td>0.08030</td>\n",
       "      <td>0.008070</td>\n",
       "      <td>0.1570</td>\n",
       "      <td>0.745</td>\n",
       "      <td>139.974</td>\n",
       "      <td>4</td>\n",
       "      <td>Zámbó Jimmy</td>\n",
       "      <td>[classic hungarian pop, classic hungarian rock]</td>\n",
       "    </tr>\n",
       "    <tr>\n",
       "      <th>129644</th>\n",
       "      <td>2XvrMHbSO077Ajg7QTTNdY</td>\n",
       "      <td>Let It Die</td>\n",
       "      <td>58</td>\n",
       "      <td>244960</td>\n",
       "      <td>0</td>\n",
       "      <td>2007-09-25</td>\n",
       "      <td>0.596</td>\n",
       "      <td>0.5570</td>\n",
       "      <td>0</td>\n",
       "      <td>NaN</td>\n",
       "      <td>-6.401</td>\n",
       "      <td>0.0299</td>\n",
       "      <td>0.02700</td>\n",
       "      <td>0.000016</td>\n",
       "      <td>0.0914</td>\n",
       "      <td>0.314</td>\n",
       "      <td>124.023</td>\n",
       "      <td>4</td>\n",
       "      <td>Foo Fighters</td>\n",
       "      <td>[alternative metal, alternative rock, modern r...</td>\n",
       "    </tr>\n",
       "    <tr>\n",
       "      <th>129645</th>\n",
       "      <td>4yFeqGWRt2Z10E2ECWG5I2</td>\n",
       "      <td>Kortit kertoo kohtalomme</td>\n",
       "      <td>18</td>\n",
       "      <td>246333</td>\n",
       "      <td>0</td>\n",
       "      <td>1988-12-04</td>\n",
       "      <td>0.386</td>\n",
       "      <td>0.4920</td>\n",
       "      <td>2</td>\n",
       "      <td>NaN</td>\n",
       "      <td>-11.271</td>\n",
       "      <td>0.0347</td>\n",
       "      <td>0.61000</td>\n",
       "      <td>0.000000</td>\n",
       "      <td>0.3030</td>\n",
       "      <td>0.648</td>\n",
       "      <td>167.668</td>\n",
       "      <td>4</td>\n",
       "      <td>Lea Laven</td>\n",
       "      <td>[classic finnish pop, classic iskelma, finnish...</td>\n",
       "    </tr>\n",
       "    <tr>\n",
       "      <th>129646</th>\n",
       "      <td>7dJgMpT6LzQTlLMEuoapq2</td>\n",
       "      <td>Believe in Love (2015 - Remaster)</td>\n",
       "      <td>22</td>\n",
       "      <td>323613</td>\n",
       "      <td>0</td>\n",
       "      <td>1988-04-15</td>\n",
       "      <td>0.471</td>\n",
       "      <td>0.7650</td>\n",
       "      <td>3</td>\n",
       "      <td>NaN</td>\n",
       "      <td>-4.406</td>\n",
       "      <td>0.0323</td>\n",
       "      <td>0.06680</td>\n",
       "      <td>0.082000</td>\n",
       "      <td>0.1280</td>\n",
       "      <td>0.353</td>\n",
       "      <td>132.537</td>\n",
       "      <td>4</td>\n",
       "      <td>Scorpions</td>\n",
       "      <td>[album rock, german hard rock, german metal, g...</td>\n",
       "    </tr>\n",
       "    <tr>\n",
       "      <th>129647</th>\n",
       "      <td>3z0mwmDWHXiZWpCptxttnM</td>\n",
       "      <td>Keklik Gibi</td>\n",
       "      <td>34</td>\n",
       "      <td>214453</td>\n",
       "      <td>0</td>\n",
       "      <td>2009-01-26</td>\n",
       "      <td>0.517</td>\n",
       "      <td>0.6400</td>\n",
       "      <td>11</td>\n",
       "      <td>NaN</td>\n",
       "      <td>-5.064</td>\n",
       "      <td>0.0467</td>\n",
       "      <td>0.50800</td>\n",
       "      <td>0.000000</td>\n",
       "      <td>0.0929</td>\n",
       "      <td>0.479</td>\n",
       "      <td>95.067</td>\n",
       "      <td>4</td>\n",
       "      <td>Volkan Konak</td>\n",
       "      <td>[arabesk, karadeniz pop, karadeniz turkuleri, ...</td>\n",
       "    </tr>\n",
       "  </tbody>\n",
       "</table>\n",
       "<p>129648 rows × 20 columns</p>\n",
       "</div>"
      ],
      "text/plain": [
       "                      id_track                         name_track  popularity  \\\n",
       "0       6C0WWu7RYKbAgWUI3YC0sT             Voglio farti un regalo          40   \n",
       "1       4q7EBRq8ncztC2PRmEC7Fy        My Love - Live / Remastered          34   \n",
       "2       7cNyONpVADZVrW9xe3qq4z                     Heroes of Sand          45   \n",
       "3       1bKRTzTFz7wHMxpgZSuPR1              Shine on Harvest Moon           6   \n",
       "4       56OEjuyZ3AROnv4aR1XqhD                                男子漢          19   \n",
       "...                        ...                                ...         ...   \n",
       "129643  6I2q7ZIY7QX3sWOmuJjhph          Mit akarsz a boldogságtól          25   \n",
       "129644  2XvrMHbSO077Ajg7QTTNdY                         Let It Die          58   \n",
       "129645  4yFeqGWRt2Z10E2ECWG5I2           Kortit kertoo kohtalomme          18   \n",
       "129646  7dJgMpT6LzQTlLMEuoapq2  Believe in Love (2015 - Remaster)          22   \n",
       "129647  3z0mwmDWHXiZWpCptxttnM                        Keklik Gibi          34   \n",
       "\n",
       "        duration_ms  explicit release_date  danceability  energy  key  mode  \\\n",
       "0            249573         1   2004-09-01         0.727  0.6630    4   0.0   \n",
       "1            254733         0   1976-12-10         0.444  0.3480    5   1.0   \n",
       "2            279347         0         2001         0.273  0.8990    6   1.0   \n",
       "3            193707         0   1961-10-15         0.628  0.0616    0   1.0   \n",
       "4            182120         0   1970-01-11         0.353  0.0663    8   0.0   \n",
       "...             ...       ...          ...           ...     ...  ...   ...   \n",
       "129643       279427         0         1996         0.693  0.9300   11   NaN   \n",
       "129644       244960         0   2007-09-25         0.596  0.5570    0   NaN   \n",
       "129645       246333         0   1988-12-04         0.386  0.4920    2   NaN   \n",
       "129646       323613         0   1988-04-15         0.471  0.7650    3   NaN   \n",
       "129647       214453         0   2009-01-26         0.517  0.6400   11   NaN   \n",
       "\n",
       "        loudness  speechiness  acousticness  instrumentalness  liveness  \\\n",
       "0         -4.818       0.2770       0.08010          0.000000    0.1190   \n",
       "1        -12.729       0.0321       0.65600          0.003740    0.9560   \n",
       "2         -5.131       0.0499       0.00177          0.000006    0.1280   \n",
       "3        -24.973       0.0558       0.78400          0.000009    0.1720   \n",
       "4        -24.915       0.0445       0.95800          0.000446    0.2410   \n",
       "...          ...          ...           ...               ...       ...   \n",
       "129643    -6.236       0.0368       0.08030          0.008070    0.1570   \n",
       "129644    -6.401       0.0299       0.02700          0.000016    0.0914   \n",
       "129645   -11.271       0.0347       0.61000          0.000000    0.3030   \n",
       "129646    -4.406       0.0323       0.06680          0.082000    0.1280   \n",
       "129647    -5.064       0.0467       0.50800          0.000000    0.0929   \n",
       "\n",
       "        valence    tempo  time_signature    name_artist  \\\n",
       "0         0.633   97.865               4    Fabri Fibra   \n",
       "1         0.284  116.685               4          Wings   \n",
       "2         0.301  159.872               3          Angra   \n",
       "3         0.340   85.012               4  The Ink Spots   \n",
       "4         0.317  100.041               4            閻荷婷   \n",
       "...         ...      ...             ...            ...   \n",
       "129643    0.745  139.974               4    Zámbó Jimmy   \n",
       "129644    0.314  124.023               4   Foo Fighters   \n",
       "129645    0.648  167.668               4      Lea Laven   \n",
       "129646    0.353  132.537               4      Scorpions   \n",
       "129647    0.479   95.067               4   Volkan Konak   \n",
       "\n",
       "                                                   genres  \n",
       "0          [italian hip hop, italian pop, rap napoletano]  \n",
       "1       [album rock, art rock, beatlesque, classic roc...  \n",
       "2       [brazilian metal, brazilian power metal, brazi...  \n",
       "3       [adult standards, lounge, swing, vocal harmony...  \n",
       "4                                    [vintage taiwan pop]  \n",
       "...                                                   ...  \n",
       "129643    [classic hungarian pop, classic hungarian rock]  \n",
       "129644  [alternative metal, alternative rock, modern r...  \n",
       "129645  [classic finnish pop, classic iskelma, finnish...  \n",
       "129646  [album rock, german hard rock, german metal, g...  \n",
       "129647  [arabesk, karadeniz pop, karadeniz turkuleri, ...  \n",
       "\n",
       "[129648 rows x 20 columns]"
      ]
     },
     "execution_count": 22,
     "metadata": {},
     "output_type": "execute_result"
    }
   ],
   "source": [
    "tracks_artists_df = pd.merge(tracks_df, artists_df, left_on='id_artist', right_on='id', how='left', suffixes=(\"_track\", \"_artist\"))\n",
    "tracks_artists_df = tracks_artists_df.drop(\"id_artist\", axis=1)\n",
    "tracks_artists_df"
   ]
  },
  {
   "cell_type": "markdown",
   "metadata": {},
   "source": [
    "Jeśli istnieją piosenki, których *id_artist* nie koresponduje z żadnym *id* w pliku *artists.jsonl*, w wynikowej tabeli w polu *name_artist* będziemy mieć wartości null:"
   ]
  },
  {
   "cell_type": "code",
   "execution_count": 23,
   "metadata": {},
   "outputs": [
    {
     "data": {
      "text/plain": [
       "0"
      ]
     },
     "execution_count": 23,
     "metadata": {},
     "output_type": "execute_result"
    }
   ],
   "source": [
    "tracks_null_artist = num_tracks - tracks_artists_df[\"name_artist\"].count()\n",
    "tracks_null_artist"
   ]
  },
  {
   "cell_type": "markdown",
   "metadata": {},
   "source": [
    "Zatem wszystkie pola *id_artist* przyjmują dozwolone wartości."
   ]
  },
  {
   "cell_type": "markdown",
   "metadata": {},
   "source": [
    "Następnie przyjrzymy się histogramom wszystkich istotnych atrybutów:"
   ]
  },
  {
   "cell_type": "markdown",
   "metadata": {},
   "source": [
    "1. *popularity*"
   ]
  },
  {
   "cell_type": "code",
   "execution_count": 24,
   "metadata": {},
   "outputs": [
    {
     "name": "stdout",
     "output_type": "stream",
     "text": [
      "Max popularity: 97\n",
      "Min popularity: 0\n",
      "Mean popularity: 29.70743860298655\n"
     ]
    },
    {
     "data": {
      "image/png": "[encoded data removed]",
      "text/plain": [
       "<Figure size 640x480 with 1 Axes>"
      ]
     },
     "metadata": {},
     "output_type": "display_data"
    }
   ],
   "source": [
    "tracks_artists_df[\"popularity\"].hist(bins=97)\n",
    "print(f\"Max popularity: {tracks_artists_df['popularity'].max()}\")\n",
    "print(f\"Min popularity: {tracks_artists_df['popularity'].min()}\")\n",
    "print(f\"Mean popularity: {tracks_artists_df['popularity'].mean()}\")"
   ]
  },
  {
   "cell_type": "markdown",
   "metadata": {},
   "source": [
    "2. *duration_ms*"
   ]
  },
  {
   "cell_type": "code",
   "execution_count": 25,
   "metadata": {},
   "outputs": [
    {
     "name": "stdout",
     "output_type": "stream",
     "text": [
      "Max duration: 67 min 8 s\n"
     ]
    },
    {
     "name": "stdout",
     "output_type": "stream",
     "text": [
      "Min duration: 4 s\n",
      "Mean duration: 3 min 48 s\n"
     ]
    },
    {
     "data": {
      "image/png": "[encoded data removed]",
      "text/plain": [
       "<Figure size 640x480 with 1 Axes>"
      ]
     },
     "metadata": {},
     "output_type": "display_data"
    }
   ],
   "source": [
    "tracks_artists_df[\"duration_ms\"].hist(bins=100)\n",
    "max_time = tracks_artists_df['duration_ms'].max()\n",
    "print(f\"Max duration: {max_time//60_000} min {round((max_time/1000)%60)} s\")\n",
    "min_time = tracks_artists_df['duration_ms'].min()\n",
    "print(f\"Min duration: {round(min_time/1000)} s\")\n",
    "mean_time = tracks_artists_df['duration_ms'].mean()\n",
    "print(f\"Mean duration: {round(mean_time//60_000)} min {round((mean_time/1000)%60)} s\")"
   ]
  },
  {
   "cell_type": "markdown",
   "metadata": {},
   "source": [
    "Jest znaczna różnica między maksymalnym czasem trwania piosenki a średnim. Ilość piosenek dłuższych niż 15 minut:"
   ]
  },
  {
   "cell_type": "code",
   "execution_count": 26,
   "metadata": {},
   "outputs": [
    {
     "data": {
      "text/plain": [
       "311"
      ]
     },
     "execution_count": 26,
     "metadata": {},
     "output_type": "execute_result"
    }
   ],
   "source": [
    "len(tracks_artists_df[tracks_artists_df[\"duration_ms\"] > 900000])"
   ]
  },
  {
   "cell_type": "markdown",
   "metadata": {},
   "source": [
    "Jest to mniej niż 1% wszystkich naszych danych. Histogram ograniczony do piosenek krótszych niż 15 minut ma rozkład zbliżony do normalnego:"
   ]
  },
  {
   "cell_type": "code",
   "execution_count": 27,
   "metadata": {},
   "outputs": [
    {
     "data": {
      "text/plain": [
       "<Axes: >"
      ]
     },
     "execution_count": 27,
     "metadata": {},
     "output_type": "execute_result"
    },
    {
     "data": {
      "image/png": "[encoded data removed]",
      "text/plain": [
       "<Figure size 640x480 with 1 Axes>"
      ]
     },
     "metadata": {},
     "output_type": "display_data"
    }
   ],
   "source": [
    "tracks_artists_df[tracks_artists_df[\"duration_ms\"] < 900000][\"duration_ms\"].hist(bins=100)"
   ]
  },
  {
   "cell_type": "markdown",
   "metadata": {},
   "source": [
    "3. *explicit*"
   ]
  },
  {
   "cell_type": "code",
   "execution_count": 28,
   "metadata": {},
   "outputs": [
    {
     "data": {
      "image/png": "[encoded data removed]",
      "text/plain": [
       "<Figure size 640x480 with 1 Axes>"
      ]
     },
     "metadata": {},
     "output_type": "display_data"
    }
   ],
   "source": [
    "import matplotlib.pyplot as plt\n",
    "tracks_artists_df[\"explicit\"].hist(bins=[-0.5, 0.5, 1.5])\n",
    "plt.xticks([0, 1])\n",
    "plt.show()"
   ]
  },
  {
   "cell_type": "markdown",
   "metadata": {},
   "source": [
    "4. *release_date*\n",
    "\n",
    "Daty są zapisane w niespójny sposób: niektóre są reprezentowane w formacie YYYY-MM-DD, a niektóre: YYYY. W celu analizy, stworzę dodatkową kolumnę *release_year*, która będzie przechowywała daty w formacie YYYY:"
   ]
  },
  {
   "cell_type": "code",
   "execution_count": 29,
   "metadata": {},
   "outputs": [
    {
     "data": {
      "text/html": [
       "<div>\n",
       "<style scoped>\n",
       "    .dataframe tbody tr th:only-of-type {\n",
       "        vertical-align: middle;\n",
       "    }\n",
       "\n",
       "    .dataframe tbody tr th {\n",
       "        vertical-align: top;\n",
       "    }\n",
       "\n",
       "    .dataframe thead th {\n",
       "        text-align: right;\n",
       "    }\n",
       "</style>\n",
       "<table border=\"1\" class=\"dataframe\">\n",
       "  <thead>\n",
       "    <tr style=\"text-align: right;\">\n",
       "      <th></th>\n",
       "      <th>id_track</th>\n",
       "      <th>name_track</th>\n",
       "      <th>popularity</th>\n",
       "      <th>duration_ms</th>\n",
       "      <th>explicit</th>\n",
       "      <th>release_date</th>\n",
       "      <th>danceability</th>\n",
       "      <th>energy</th>\n",
       "      <th>key</th>\n",
       "      <th>mode</th>\n",
       "      <th>...</th>\n",
       "      <th>speechiness</th>\n",
       "      <th>acousticness</th>\n",
       "      <th>instrumentalness</th>\n",
       "      <th>liveness</th>\n",
       "      <th>valence</th>\n",
       "      <th>tempo</th>\n",
       "      <th>time_signature</th>\n",
       "      <th>name_artist</th>\n",
       "      <th>genres</th>\n",
       "      <th>release_year</th>\n",
       "    </tr>\n",
       "  </thead>\n",
       "  <tbody>\n",
       "    <tr>\n",
       "      <th>0</th>\n",
       "      <td>6C0WWu7RYKbAgWUI3YC0sT</td>\n",
       "      <td>Voglio farti un regalo</td>\n",
       "      <td>40</td>\n",
       "      <td>249573</td>\n",
       "      <td>1</td>\n",
       "      <td>2004-09-01</td>\n",
       "      <td>0.727</td>\n",
       "      <td>0.6630</td>\n",
       "      <td>4</td>\n",
       "      <td>0.0</td>\n",
       "      <td>...</td>\n",
       "      <td>0.2770</td>\n",
       "      <td>0.08010</td>\n",
       "      <td>0.000000</td>\n",
       "      <td>0.1190</td>\n",
       "      <td>0.633</td>\n",
       "      <td>97.865</td>\n",
       "      <td>4</td>\n",
       "      <td>Fabri Fibra</td>\n",
       "      <td>[italian hip hop, italian pop, rap napoletano]</td>\n",
       "      <td>2004</td>\n",
       "    </tr>\n",
       "    <tr>\n",
       "      <th>1</th>\n",
       "      <td>4q7EBRq8ncztC2PRmEC7Fy</td>\n",
       "      <td>My Love - Live / Remastered</td>\n",
       "      <td>34</td>\n",
       "      <td>254733</td>\n",
       "      <td>0</td>\n",
       "      <td>1976-12-10</td>\n",
       "      <td>0.444</td>\n",
       "      <td>0.3480</td>\n",
       "      <td>5</td>\n",
       "      <td>1.0</td>\n",
       "      <td>...</td>\n",
       "      <td>0.0321</td>\n",
       "      <td>0.65600</td>\n",
       "      <td>0.003740</td>\n",
       "      <td>0.9560</td>\n",
       "      <td>0.284</td>\n",
       "      <td>116.685</td>\n",
       "      <td>4</td>\n",
       "      <td>Wings</td>\n",
       "      <td>[album rock, art rock, beatlesque, classic roc...</td>\n",
       "      <td>1976</td>\n",
       "    </tr>\n",
       "    <tr>\n",
       "      <th>2</th>\n",
       "      <td>7cNyONpVADZVrW9xe3qq4z</td>\n",
       "      <td>Heroes of Sand</td>\n",
       "      <td>45</td>\n",
       "      <td>279347</td>\n",
       "      <td>0</td>\n",
       "      <td>2001</td>\n",
       "      <td>0.273</td>\n",
       "      <td>0.8990</td>\n",
       "      <td>6</td>\n",
       "      <td>1.0</td>\n",
       "      <td>...</td>\n",
       "      <td>0.0499</td>\n",
       "      <td>0.00177</td>\n",
       "      <td>0.000006</td>\n",
       "      <td>0.1280</td>\n",
       "      <td>0.301</td>\n",
       "      <td>159.872</td>\n",
       "      <td>3</td>\n",
       "      <td>Angra</td>\n",
       "      <td>[brazilian metal, brazilian power metal, brazi...</td>\n",
       "      <td>2001</td>\n",
       "    </tr>\n",
       "    <tr>\n",
       "      <th>3</th>\n",
       "      <td>1bKRTzTFz7wHMxpgZSuPR1</td>\n",
       "      <td>Shine on Harvest Moon</td>\n",
       "      <td>6</td>\n",
       "      <td>193707</td>\n",
       "      <td>0</td>\n",
       "      <td>1961-10-15</td>\n",
       "      <td>0.628</td>\n",
       "      <td>0.0616</td>\n",
       "      <td>0</td>\n",
       "      <td>1.0</td>\n",
       "      <td>...</td>\n",
       "      <td>0.0558</td>\n",
       "      <td>0.78400</td>\n",
       "      <td>0.000009</td>\n",
       "      <td>0.1720</td>\n",
       "      <td>0.340</td>\n",
       "      <td>85.012</td>\n",
       "      <td>4</td>\n",
       "      <td>The Ink Spots</td>\n",
       "      <td>[adult standards, lounge, swing, vocal harmony...</td>\n",
       "      <td>1961</td>\n",
       "    </tr>\n",
       "    <tr>\n",
       "      <th>4</th>\n",
       "      <td>56OEjuyZ3AROnv4aR1XqhD</td>\n",
       "      <td>男子漢</td>\n",
       "      <td>19</td>\n",
       "      <td>182120</td>\n",
       "      <td>0</td>\n",
       "      <td>1970-01-11</td>\n",
       "      <td>0.353</td>\n",
       "      <td>0.0663</td>\n",
       "      <td>8</td>\n",
       "      <td>0.0</td>\n",
       "      <td>...</td>\n",
       "      <td>0.0445</td>\n",
       "      <td>0.95800</td>\n",
       "      <td>0.000446</td>\n",
       "      <td>0.2410</td>\n",
       "      <td>0.317</td>\n",
       "      <td>100.041</td>\n",
       "      <td>4</td>\n",
       "      <td>閻荷婷</td>\n",
       "      <td>[vintage taiwan pop]</td>\n",
       "      <td>1970</td>\n",
       "    </tr>\n",
       "    <tr>\n",
       "      <th>...</th>\n",
       "      <td>...</td>\n",
       "      <td>...</td>\n",
       "      <td>...</td>\n",
       "      <td>...</td>\n",
       "      <td>...</td>\n",
       "      <td>...</td>\n",
       "      <td>...</td>\n",
       "      <td>...</td>\n",
       "      <td>...</td>\n",
       "      <td>...</td>\n",
       "      <td>...</td>\n",
       "      <td>...</td>\n",
       "      <td>...</td>\n",
       "      <td>...</td>\n",
       "      <td>...</td>\n",
       "      <td>...</td>\n",
       "      <td>...</td>\n",
       "      <td>...</td>\n",
       "      <td>...</td>\n",
       "      <td>...</td>\n",
       "      <td>...</td>\n",
       "    </tr>\n",
       "    <tr>\n",
       "      <th>129643</th>\n",
       "      <td>6I2q7ZIY7QX3sWOmuJjhph</td>\n",
       "      <td>Mit akarsz a boldogságtól</td>\n",
       "      <td>25</td>\n",
       "      <td>279427</td>\n",
       "      <td>0</td>\n",
       "      <td>1996</td>\n",
       "      <td>0.693</td>\n",
       "      <td>0.9300</td>\n",
       "      <td>11</td>\n",
       "      <td>NaN</td>\n",
       "      <td>...</td>\n",
       "      <td>0.0368</td>\n",
       "      <td>0.08030</td>\n",
       "      <td>0.008070</td>\n",
       "      <td>0.1570</td>\n",
       "      <td>0.745</td>\n",
       "      <td>139.974</td>\n",
       "      <td>4</td>\n",
       "      <td>Zámbó Jimmy</td>\n",
       "      <td>[classic hungarian pop, classic hungarian rock]</td>\n",
       "      <td>1996</td>\n",
       "    </tr>\n",
       "    <tr>\n",
       "      <th>129644</th>\n",
       "      <td>2XvrMHbSO077Ajg7QTTNdY</td>\n",
       "      <td>Let It Die</td>\n",
       "      <td>58</td>\n",
       "      <td>244960</td>\n",
       "      <td>0</td>\n",
       "      <td>2007-09-25</td>\n",
       "      <td>0.596</td>\n",
       "      <td>0.5570</td>\n",
       "      <td>0</td>\n",
       "      <td>NaN</td>\n",
       "      <td>...</td>\n",
       "      <td>0.0299</td>\n",
       "      <td>0.02700</td>\n",
       "      <td>0.000016</td>\n",
       "      <td>0.0914</td>\n",
       "      <td>0.314</td>\n",
       "      <td>124.023</td>\n",
       "      <td>4</td>\n",
       "      <td>Foo Fighters</td>\n",
       "      <td>[alternative metal, alternative rock, modern r...</td>\n",
       "      <td>2007</td>\n",
       "    </tr>\n",
       "    <tr>\n",
       "      <th>129645</th>\n",
       "      <td>4yFeqGWRt2Z10E2ECWG5I2</td>\n",
       "      <td>Kortit kertoo kohtalomme</td>\n",
       "      <td>18</td>\n",
       "      <td>246333</td>\n",
       "      <td>0</td>\n",
       "      <td>1988-12-04</td>\n",
       "      <td>0.386</td>\n",
       "      <td>0.4920</td>\n",
       "      <td>2</td>\n",
       "      <td>NaN</td>\n",
       "      <td>...</td>\n",
       "      <td>0.0347</td>\n",
       "      <td>0.61000</td>\n",
       "      <td>0.000000</td>\n",
       "      <td>0.3030</td>\n",
       "      <td>0.648</td>\n",
       "      <td>167.668</td>\n",
       "      <td>4</td>\n",
       "      <td>Lea Laven</td>\n",
       "      <td>[classic finnish pop, classic iskelma, finnish...</td>\n",
       "      <td>1988</td>\n",
       "    </tr>\n",
       "    <tr>\n",
       "      <th>129646</th>\n",
       "      <td>7dJgMpT6LzQTlLMEuoapq2</td>\n",
       "      <td>Believe in Love (2015 - Remaster)</td>\n",
       "      <td>22</td>\n",
       "      <td>323613</td>\n",
       "      <td>0</td>\n",
       "      <td>1988-04-15</td>\n",
       "      <td>0.471</td>\n",
       "      <td>0.7650</td>\n",
       "      <td>3</td>\n",
       "      <td>NaN</td>\n",
       "      <td>...</td>\n",
       "      <td>0.0323</td>\n",
       "      <td>0.06680</td>\n",
       "      <td>0.082000</td>\n",
       "      <td>0.1280</td>\n",
       "      <td>0.353</td>\n",
       "      <td>132.537</td>\n",
       "      <td>4</td>\n",
       "      <td>Scorpions</td>\n",
       "      <td>[album rock, german hard rock, german metal, g...</td>\n",
       "      <td>1988</td>\n",
       "    </tr>\n",
       "    <tr>\n",
       "      <th>129647</th>\n",
       "      <td>3z0mwmDWHXiZWpCptxttnM</td>\n",
       "      <td>Keklik Gibi</td>\n",
       "      <td>34</td>\n",
       "      <td>214453</td>\n",
       "      <td>0</td>\n",
       "      <td>2009-01-26</td>\n",
       "      <td>0.517</td>\n",
       "      <td>0.6400</td>\n",
       "      <td>11</td>\n",
       "      <td>NaN</td>\n",
       "      <td>...</td>\n",
       "      <td>0.0467</td>\n",
       "      <td>0.50800</td>\n",
       "      <td>0.000000</td>\n",
       "      <td>0.0929</td>\n",
       "      <td>0.479</td>\n",
       "      <td>95.067</td>\n",
       "      <td>4</td>\n",
       "      <td>Volkan Konak</td>\n",
       "      <td>[arabesk, karadeniz pop, karadeniz turkuleri, ...</td>\n",
       "      <td>2009</td>\n",
       "    </tr>\n",
       "  </tbody>\n",
       "</table>\n",
       "<p>129648 rows × 21 columns</p>\n",
       "</div>"
      ],
      "text/plain": [
       "                      id_track                         name_track  popularity  \\\n",
       "0       6C0WWu7RYKbAgWUI3YC0sT             Voglio farti un regalo          40   \n",
       "1       4q7EBRq8ncztC2PRmEC7Fy        My Love - Live / Remastered          34   \n",
       "2       7cNyONpVADZVrW9xe3qq4z                     Heroes of Sand          45   \n",
       "3       1bKRTzTFz7wHMxpgZSuPR1              Shine on Harvest Moon           6   \n",
       "4       56OEjuyZ3AROnv4aR1XqhD                                男子漢          19   \n",
       "...                        ...                                ...         ...   \n",
       "129643  6I2q7ZIY7QX3sWOmuJjhph          Mit akarsz a boldogságtól          25   \n",
       "129644  2XvrMHbSO077Ajg7QTTNdY                         Let It Die          58   \n",
       "129645  4yFeqGWRt2Z10E2ECWG5I2           Kortit kertoo kohtalomme          18   \n",
       "129646  7dJgMpT6LzQTlLMEuoapq2  Believe in Love (2015 - Remaster)          22   \n",
       "129647  3z0mwmDWHXiZWpCptxttnM                        Keklik Gibi          34   \n",
       "\n",
       "        duration_ms  explicit release_date  danceability  energy  key  mode  \\\n",
       "0            249573         1   2004-09-01         0.727  0.6630    4   0.0   \n",
       "1            254733         0   1976-12-10         0.444  0.3480    5   1.0   \n",
       "2            279347         0         2001         0.273  0.8990    6   1.0   \n",
       "3            193707         0   1961-10-15         0.628  0.0616    0   1.0   \n",
       "4            182120         0   1970-01-11         0.353  0.0663    8   0.0   \n",
       "...             ...       ...          ...           ...     ...  ...   ...   \n",
       "129643       279427         0         1996         0.693  0.9300   11   NaN   \n",
       "129644       244960         0   2007-09-25         0.596  0.5570    0   NaN   \n",
       "129645       246333         0   1988-12-04         0.386  0.4920    2   NaN   \n",
       "129646       323613         0   1988-04-15         0.471  0.7650    3   NaN   \n",
       "129647       214453         0   2009-01-26         0.517  0.6400   11   NaN   \n",
       "\n",
       "        ...  speechiness  acousticness  instrumentalness  liveness  valence  \\\n",
       "0       ...       0.2770       0.08010          0.000000    0.1190    0.633   \n",
       "1       ...       0.0321       0.65600          0.003740    0.9560    0.284   \n",
       "2       ...       0.0499       0.00177          0.000006    0.1280    0.301   \n",
       "3       ...       0.0558       0.78400          0.000009    0.1720    0.340   \n",
       "4       ...       0.0445       0.95800          0.000446    0.2410    0.317   \n",
       "...     ...          ...           ...               ...       ...      ...   \n",
       "129643  ...       0.0368       0.08030          0.008070    0.1570    0.745   \n",
       "129644  ...       0.0299       0.02700          0.000016    0.0914    0.314   \n",
       "129645  ...       0.0347       0.61000          0.000000    0.3030    0.648   \n",
       "129646  ...       0.0323       0.06680          0.082000    0.1280    0.353   \n",
       "129647  ...       0.0467       0.50800          0.000000    0.0929    0.479   \n",
       "\n",
       "          tempo  time_signature    name_artist  \\\n",
       "0        97.865               4    Fabri Fibra   \n",
       "1       116.685               4          Wings   \n",
       "2       159.872               3          Angra   \n",
       "3        85.012               4  The Ink Spots   \n",
       "4       100.041               4            閻荷婷   \n",
       "...         ...             ...            ...   \n",
       "129643  139.974               4    Zámbó Jimmy   \n",
       "129644  124.023               4   Foo Fighters   \n",
       "129645  167.668               4      Lea Laven   \n",
       "129646  132.537               4      Scorpions   \n",
       "129647   95.067               4   Volkan Konak   \n",
       "\n",
       "                                                   genres release_year  \n",
       "0          [italian hip hop, italian pop, rap napoletano]         2004  \n",
       "1       [album rock, art rock, beatlesque, classic roc...         1976  \n",
       "2       [brazilian metal, brazilian power metal, brazi...         2001  \n",
       "3       [adult standards, lounge, swing, vocal harmony...         1961  \n",
       "4                                    [vintage taiwan pop]         1970  \n",
       "...                                                   ...          ...  \n",
       "129643    [classic hungarian pop, classic hungarian rock]         1996  \n",
       "129644  [alternative metal, alternative rock, modern r...         2007  \n",
       "129645  [classic finnish pop, classic iskelma, finnish...         1988  \n",
       "129646  [album rock, german hard rock, german metal, g...         1988  \n",
       "129647  [arabesk, karadeniz pop, karadeniz turkuleri, ...         2009  \n",
       "\n",
       "[129648 rows x 21 columns]"
      ]
     },
     "execution_count": 29,
     "metadata": {},
     "output_type": "execute_result"
    }
   ],
   "source": [
    "tracks_artists_df[\"release_year\"] = tracks_artists_df[\"release_date\"].str.extract(r'(\\d{4})')\n",
    "tracks_artists_df['release_year'] = pd.to_numeric(tracks_artists_df['release_year'], errors='coerce')\n",
    "tracks_artists_df"
   ]
  },
  {
   "cell_type": "code",
   "execution_count": 30,
   "metadata": {},
   "outputs": [
    {
     "data": {
      "image/png": "[encoded data removed]",
      "text/plain": [
       "<Figure size 640x480 with 1 Axes>"
      ]
     },
     "metadata": {},
     "output_type": "display_data"
    }
   ],
   "source": [
    "oldest_song_year = tracks_artists_df[\"release_year\"].min()\n",
    "newest_song_year = tracks_artists_df[\"release_year\"].max() \n",
    "years_range = range(oldest_song_year-2, newest_song_year, 10)\n",
    "tracks_artists_df[\"release_year\"].hist(bins=(newest_song_year-oldest_song_year))\n",
    "plt.xticks(years_range)\n",
    "plt.show()"
   ]
  },
  {
   "cell_type": "markdown",
   "metadata": {},
   "source": [
    "5. *danceability*"
   ]
  },
  {
   "cell_type": "code",
   "execution_count": 31,
   "metadata": {},
   "outputs": [
    {
     "name": "stdout",
     "output_type": "stream",
     "text": [
      "Max danceability: 0.985\n",
      "Min danceability: 0.0\n",
      "Mean danceability: 0.564818545600395\n"
     ]
    },
    {
     "data": {
      "image/png": "[encoded data removed]",
      "text/plain": [
       "<Figure size 640x480 with 1 Axes>"
      ]
     },
     "metadata": {},
     "output_type": "display_data"
    }
   ],
   "source": [
    "tracks_artists_df[\"danceability\"].hist(bins=100)\n",
    "print(f\"Max danceability: {tracks_artists_df['danceability'].max()}\")\n",
    "print(f\"Min danceability: {tracks_artists_df['danceability'].min()}\")\n",
    "print(f\"Mean danceability: {tracks_artists_df['danceability'].mean()}\")"
   ]
  },
  {
   "cell_type": "markdown",
   "metadata": {},
   "source": [
    "6. *energy*"
   ]
  },
  {
   "cell_type": "code",
   "execution_count": 32,
   "metadata": {},
   "outputs": [
    {
     "name": "stdout",
     "output_type": "stream",
     "text": [
      "Max energy: 1.0\n"
     ]
    },
    {
     "name": "stdout",
     "output_type": "stream",
     "text": [
      "Min energy: 0.0\n",
      "Mean energy: 0.5628128821393312\n"
     ]
    },
    {
     "data": {
      "image/png": "[encoded data removed]",
      "text/plain": [
       "<Figure size 640x480 with 1 Axes>"
      ]
     },
     "metadata": {},
     "output_type": "display_data"
    }
   ],
   "source": [
    "tracks_artists_df[\"energy\"].hist(bins=100)\n",
    "print(f\"Max energy: {tracks_artists_df['energy'].max()}\")\n",
    "print(f\"Min energy: {tracks_artists_df['energy'].min()}\")\n",
    "print(f\"Mean energy: {tracks_artists_df['energy'].mean()}\")"
   ]
  },
  {
   "cell_type": "markdown",
   "metadata": {},
   "source": [
    "7. *key*\n",
    "\n",
    "Wartość dyskretna z wartościami od 0 do 11"
   ]
  },
  {
   "cell_type": "code",
   "execution_count": 33,
   "metadata": {},
   "outputs": [
    {
     "data": {
      "text/plain": [
       "<Axes: xlabel='key'>"
      ]
     },
     "execution_count": 33,
     "metadata": {},
     "output_type": "execute_result"
    },
    {
     "data": {
      "image/png": "[encoded data removed]",
      "text/plain": [
       "<Figure size 640x480 with 1 Axes>"
      ]
     },
     "metadata": {},
     "output_type": "display_data"
    }
   ],
   "source": [
    "tracks_artists_df[\"key\"].value_counts().sort_index().plot(kind=\"bar\")"
   ]
  },
  {
   "cell_type": "markdown",
   "metadata": {},
   "source": [
    "8. *mode*\n",
    "\n",
    "Atrybut dyskretny o wartościach 0 (skala mol) i 1 (skala dur). W większości wierszy brakuje danych w tej kolumnie."
   ]
  },
  {
   "cell_type": "code",
   "execution_count": 34,
   "metadata": {},
   "outputs": [
    {
     "data": {
      "text/plain": [
       "<Axes: xlabel='mode'>"
      ]
     },
     "execution_count": 34,
     "metadata": {},
     "output_type": "execute_result"
    },
    {
     "data": {
      "image/png": "[encoded data removed]",
      "text/plain": [
       "<Figure size 640x480 with 1 Axes>"
      ]
     },
     "metadata": {},
     "output_type": "display_data"
    }
   ],
   "source": [
    "tracks_artists_df[\"mode\"].value_counts(dropna=False).sort_index().plot(kind=\"bar\")"
   ]
  },
  {
   "cell_type": "markdown",
   "metadata": {},
   "source": [
    "9. *loudness*"
   ]
  },
  {
   "cell_type": "code",
   "execution_count": 35,
   "metadata": {},
   "outputs": [
    {
     "name": "stdout",
     "output_type": "stream",
     "text": [
      "Max loudness: 4.362\n",
      "Min loudness: -60.0\n",
      "Mean loudness: -9.736491029556955\n"
     ]
    },
    {
     "data": {
      "image/png": "[encoded data removed]",
      "text/plain": [
       "<Figure size 640x480 with 1 Axes>"
      ]
     },
     "metadata": {},
     "output_type": "display_data"
    }
   ],
   "source": [
    "\n",
    "tracks_artists_df[\"loudness\"].hist(bins=100)\n",
    "print(f\"Max loudness: {tracks_artists_df['loudness'].max()}\")\n",
    "print(f\"Min loudness: {tracks_artists_df['loudness'].min()}\")\n",
    "print(f\"Mean loudness: {tracks_artists_df['loudness'].mean()}\")"
   ]
  },
  {
   "cell_type": "markdown",
   "metadata": {},
   "source": [
    "10. *speechiness*"
   ]
  },
  {
   "cell_type": "code",
   "execution_count": 36,
   "metadata": {},
   "outputs": [
    {
     "name": "stdout",
     "output_type": "stream",
     "text": [
      "Max speechiness: 0.968\n",
      "Min speechiness: 0.0\n"
     ]
    },
    {
     "name": "stdout",
     "output_type": "stream",
     "text": [
      "Mean speechiness: 0.09543769900037023\n"
     ]
    },
    {
     "data": {
      "image/png": "[encoded data removed]",
      "text/plain": [
       "<Figure size 640x480 with 1 Axes>"
      ]
     },
     "metadata": {},
     "output_type": "display_data"
    }
   ],
   "source": [
    "tracks_artists_df[\"speechiness\"].hist(bins=100)\n",
    "print(f\"Max speechiness: {tracks_artists_df['speechiness'].max()}\")\n",
    "print(f\"Min speechiness: {tracks_artists_df['speechiness'].min()}\")\n",
    "print(f\"Mean speechiness: {tracks_artists_df['speechiness'].mean()}\")"
   ]
  },
  {
   "cell_type": "markdown",
   "metadata": {},
   "source": [
    "11. *acousticness*"
   ]
  },
  {
   "cell_type": "code",
   "execution_count": 37,
   "metadata": {},
   "outputs": [
    {
     "name": "stdout",
     "output_type": "stream",
     "text": [
      "Max acousticness: 0.996\n"
     ]
    },
    {
     "name": "stdout",
     "output_type": "stream",
     "text": [
      "Min acousticness: 0.0\n",
      "Mean acousticness: 0.41754703251696906\n"
     ]
    },
    {
     "data": {
      "image/png": "[encoded data removed]",
      "text/plain": [
       "<Figure size 640x480 with 1 Axes>"
      ]
     },
     "metadata": {},
     "output_type": "display_data"
    }
   ],
   "source": [
    "tracks_artists_df[\"acousticness\"].hist(bins=100)\n",
    "print(f\"Max acousticness: {tracks_artists_df['acousticness'].max()}\")\n",
    "print(f\"Min acousticness: {tracks_artists_df['acousticness'].min()}\")\n",
    "print(f\"Mean acousticness: {tracks_artists_df['acousticness'].mean()}\")"
   ]
  },
  {
   "cell_type": "markdown",
   "metadata": {},
   "source": [
    "12. *instrumentalness*"
   ]
  },
  {
   "cell_type": "code",
   "execution_count": 38,
   "metadata": {},
   "outputs": [
    {
     "name": "stdout",
     "output_type": "stream",
     "text": [
      "Max instrumentalness: 1.0\n"
     ]
    },
    {
     "name": "stdout",
     "output_type": "stream",
     "text": [
      "Min instrumentalness: 0.0\n",
      "Mean instrumentalness: 0.08627857818277182\n"
     ]
    },
    {
     "data": {
      "image/png": "[encoded data removed]",
      "text/plain": [
       "<Figure size 640x480 with 1 Axes>"
      ]
     },
     "metadata": {},
     "output_type": "display_data"
    }
   ],
   "source": [
    "tracks_artists_df[\"instrumentalness\"].hist(bins=100)\n",
    "print(f\"Max instrumentalness: {tracks_artists_df['instrumentalness'].max()}\")\n",
    "print(f\"Min instrumentalness: {tracks_artists_df['instrumentalness'].min()}\")\n",
    "print(f\"Mean instrumentalness: {tracks_artists_df['instrumentalness'].mean()}\")"
   ]
  },
  {
   "cell_type": "markdown",
   "metadata": {},
   "source": [
    "13. *liveness*"
   ]
  },
  {
   "cell_type": "code",
   "execution_count": 39,
   "metadata": {},
   "outputs": [
    {
     "name": "stdout",
     "output_type": "stream",
     "text": [
      "Max liveness: 1.0\n",
      "Min liveness: 0.0\n",
      "Mean liveness: 0.21431048006911027\n"
     ]
    },
    {
     "data": {
      "image/png": "[encoded data removed]",
      "text/plain": [
       "<Figure size 640x480 with 1 Axes>"
      ]
     },
     "metadata": {},
     "output_type": "display_data"
    }
   ],
   "source": [
    "tracks_artists_df[\"liveness\"].hist(bins=100)\n",
    "print(f\"Max liveness: {tracks_artists_df['liveness'].max()}\")\n",
    "print(f\"Min liveness: {tracks_artists_df['liveness'].min()}\")\n",
    "print(f\"Mean liveness: {tracks_artists_df['liveness'].mean()}\")"
   ]
  },
  {
   "cell_type": "markdown",
   "metadata": {},
   "source": [
    "14. *valence*"
   ]
  },
  {
   "cell_type": "code",
   "execution_count": 40,
   "metadata": {},
   "outputs": [
    {
     "name": "stdout",
     "output_type": "stream",
     "text": [
      "Max valence: 1.0\n",
      "Min valence: 0.0\n",
      "Mean valence: 0.5629259489540911\n"
     ]
    },
    {
     "data": {
      "image/png": "[encoded data removed]",
      "text/plain": [
       "<Figure size 640x480 with 1 Axes>"
      ]
     },
     "metadata": {},
     "output_type": "display_data"
    }
   ],
   "source": [
    "tracks_artists_df[\"valence\"].hist(bins=97)\n",
    "print(f\"Max valence: {tracks_artists_df['valence'].max()}\")\n",
    "print(f\"Min valence: {tracks_artists_df['valence'].min()}\")\n",
    "print(f\"Mean valence: {tracks_artists_df['valence'].mean()}\")"
   ]
  },
  {
   "cell_type": "markdown",
   "metadata": {},
   "source": [
    "15. *tempo*"
   ]
  },
  {
   "cell_type": "code",
   "execution_count": 41,
   "metadata": {},
   "outputs": [
    {
     "name": "stdout",
     "output_type": "stream",
     "text": [
      "Max tempo: 243.507\n",
      "Min tempo: 0.0\n",
      "Mean tempo: 119.55657189466862\n"
     ]
    },
    {
     "data": {
      "image/png": "[encoded data removed]",
      "text/plain": [
       "<Figure size 640x480 with 1 Axes>"
      ]
     },
     "metadata": {},
     "output_type": "display_data"
    }
   ],
   "source": [
    "tracks_artists_df[\"tempo\"].hist(bins=100)\n",
    "print(f\"Max tempo: {tracks_artists_df['tempo'].max()}\")\n",
    "print(f\"Min tempo: {tracks_artists_df['tempo'].min()}\")\n",
    "print(f\"Mean tempo: {tracks_artists_df['tempo'].mean()}\")"
   ]
  },
  {
   "cell_type": "markdown",
   "metadata": {},
   "source": [
    "16. *time_signature*"
   ]
  },
  {
   "cell_type": "code",
   "execution_count": 42,
   "metadata": {},
   "outputs": [
    {
     "data": {
      "text/plain": [
       "<Axes: xlabel='time_signature'>"
      ]
     },
     "execution_count": 42,
     "metadata": {},
     "output_type": "execute_result"
    },
    {
     "data": {
      "image/png": "[encoded data removed]",
      "text/plain": [
       "<Figure size 640x480 with 1 Axes>"
      ]
     },
     "metadata": {},
     "output_type": "display_data"
    }
   ],
   "source": [
    "tracks_artists_df[\"time_signature\"].value_counts().sort_index().plot(kind=\"bar\")"
   ]
  },
  {
   "cell_type": "markdown",
   "metadata": {},
   "source": [
    "Aby dokonać selekcji atrybutów należy zbadać współczynnik korelacji dla atrybutów ciągłych oraz współczynnik informacji wzajemnej."
   ]
  },
  {
   "cell_type": "code",
   "execution_count": 43,
   "metadata": {},
   "outputs": [
    {
     "data": {
      "text/plain": [
       "<Axes: >"
      ]
     },
     "execution_count": 43,
     "metadata": {},
     "output_type": "execute_result"
    },
    {
     "data": {
      "image/png": "[encoded data removed]",
      "text/plain": [
       "<Figure size 640x480 with 2 Axes>"
      ]
     },
     "metadata": {},
     "output_type": "display_data"
    }
   ],
   "source": [
    "import seaborn as sns\n",
    "\n",
    "continuous_df = tracks_artists_df.drop([\"id_track\", \"name_track\", \"explicit\", \"release_date\", \"key\", \"mode\", \"time_signature\", \"name_artist\", \"genres\"], axis=1)\n",
    "correlation = continuous_df.corr()\n",
    "sns.heatmap(correlation, vmin=-1, vmax=1, annot=True, annot_kws={\"fontsize\": 7})"
   ]
  },
  {
   "cell_type": "markdown",
   "metadata": {},
   "source": [
    "Największy współczynnik korelacji jest między atrybutami *loudness* a *energy*. Jest też silna korelacja ujemna między *acousticness* i *energy*. Potencjalnie atrybut *energy* może zostać pominięty. \n",
    "\n",
    "Współczynnik informacji wzajemnej między atrybutami a zmienną celu (gatunek muzyczny) zostanie wyznaczony na dwa sposoby:\n",
    "\n",
    "1. Lista gatunków zostanie zagregowana do jednego stringa:"
   ]
  },
  {
   "cell_type": "code",
   "execution_count": 44,
   "metadata": {},
   "outputs": [
    {
     "data": {
      "text/plain": [
       "array([0.73304048, 0.57075741, 0.1276342 , 0.34923775, 0.4780881 ,\n",
       "       0.15599255, 0.51240997, 0.42579185, 0.61648112, 0.36664186,\n",
       "       0.17630763, 0.29733589, 0.29249259, 1.12081537, 1.86444205])"
      ]
     },
     "execution_count": 44,
     "metadata": {},
     "output_type": "execute_result"
    }
   ],
   "source": [
    "from sklearn.feature_selection import mutual_info_classif\n",
    "\n",
    "mi_df = tracks_artists_df.drop([\"id_track\", \"name_track\", \"release_date\", \"mode\", \"name_artist\", \"genres\"], axis=1)\n",
    "genres = tracks_artists_df[\"genres\"].apply(lambda x: \" \".join(x))\n",
    "mi_matrix = mutual_info_classif(mi_df, genres)\n",
    "mi_matrix"
   ]
  },
  {
   "cell_type": "code",
   "execution_count": 45,
   "metadata": {},
   "outputs": [
    {
     "data": {
      "image/png": "[encoded data removed]",
      "text/plain": [
       "<Figure size 640x480 with 1 Axes>"
      ]
     },
     "metadata": {},
     "output_type": "display_data"
    }
   ],
   "source": [
    "plt.bar(mi_df.columns, mi_matrix)\n",
    "plt.xticks(rotation=90)\n",
    "plt.show()"
   ]
  },
  {
   "cell_type": "markdown",
   "metadata": {},
   "source": [
    "2. Z listy gatunków zostanie wybrany najpopularniejszy gatunek, który będzie reprezentował daną piosenkę:"
   ]
  },
  {
   "cell_type": "code",
   "execution_count": 46,
   "metadata": {},
   "outputs": [
    {
     "data": {
      "text/plain": [
       "0               italian hip hop\n",
       "1                          rock\n",
       "2                         metal\n",
       "3               adult standards\n",
       "4            vintage taiwan pop\n",
       "                  ...          \n",
       "129643    classic hungarian pop\n",
       "129644                     rock\n",
       "129645          classic iskelma\n",
       "129646                     rock\n",
       "129647              turkish pop\n",
       "Name: genres, Length: 129648, dtype: object"
      ]
     },
     "execution_count": 46,
     "metadata": {},
     "output_type": "execute_result"
    }
   ],
   "source": [
    "def find_most_popular_genre(row):\n",
    "    def popularity(genre):\n",
    "        return count_genres_popularity[genre]\n",
    "    return max(row, key=popularity)\n",
    "\n",
    "genres = tracks_artists_df[\"genres\"].apply(find_most_popular_genre)\n",
    "genres"
   ]
  },
  {
   "cell_type": "code",
   "execution_count": 47,
   "metadata": {},
   "outputs": [
    {
     "data": {
      "text/plain": [
       "array([0.44608156, 0.35845412, 0.07320764, 0.17772664, 0.25621762,\n",
       "       0.05825553, 0.25092583, 0.27783747, 0.36934988, 0.21953132,\n",
       "       0.09289772, 0.15053496, 0.19476348, 0.1916939 , 0.8306744 ])"
      ]
     },
     "execution_count": 47,
     "metadata": {},
     "output_type": "execute_result"
    }
   ],
   "source": [
    "mi_matrix = mutual_info_classif(mi_df, genres)\n",
    "mi_matrix"
   ]
  },
  {
   "cell_type": "code",
   "execution_count": 48,
   "metadata": {},
   "outputs": [
    {
     "data": {
      "image/png": "[encoded data removed]",
      "text/plain": [
       "<Figure size 640x480 with 1 Axes>"
      ]
     },
     "metadata": {},
     "output_type": "display_data"
    }
   ],
   "source": [
    "plt.bar(mi_df.columns, mi_matrix)\n",
    "plt.xticks(rotation=90)\n",
    "plt.show()"
   ]
  },
  {
   "cell_type": "markdown",
   "metadata": {},
   "source": [
    "Pomimo zróżnicowanej metody, widać podobieństwa na obu wykresach - największy wpływ na gatunek muzyczny ma *release_year*, a najmniejszy - *key*."
   ]
  },
  {
   "cell_type": "markdown",
   "metadata": {},
   "source": [
    "### Modelowanie wstępne"
   ]
  },
  {
   "cell_type": "markdown",
   "metadata": {},
   "source": [
    "Przed przystąpieniem do modelowania należy ograniczyć wielkość zbioru gatunków muzycznych. W tym celu trzeba:\n",
    "1. Zagregować podobne gatunki do jednej kategorii (np. *greek drill* i *turkish drill* do *drill*) - będziemy to robić tylko dla gatunków mniej popularnych, ponieważ w przypadku popularniejszych gatunków podział ten jest potencjalnie bardziej znaczący.\n",
    "2. Połączyć te gatunki, które reprezentują te samą kategorię, ale zapisaną w innym języku.\n",
    "3. Usunąć te gatunki, które mają za mało reprezentantów - w przypadku, gdyby jakiś artysta miał w wyniku takiej selekcji zostać bez żadnego gatunku muzycznego, zostanie mu przypisany gatunek *other*."
   ]
  },
  {
   "cell_type": "markdown",
   "metadata": {},
   "source": [
    "#### Ad 1. Agregowanie podobnych gatunków"
   ]
  },
  {
   "cell_type": "markdown",
   "metadata": {},
   "source": [
    "Wszystkie gatunki z mniej niż 100 reprezentantami będą potencjalnie agregowane."
   ]
  },
  {
   "cell_type": "code",
   "execution_count": 49,
   "metadata": {},
   "outputs": [
    {
     "data": {
      "text/plain": [
       "trap                  99\n",
       "rhythm and blues      99\n",
       "glam metal            99\n",
       "experimental          99\n",
       "dangdut               98\n",
       "                      ..\n",
       "sinogaze               1\n",
       "german opera           1\n",
       "chinese soundtrack     1\n",
       "chinese post-rock      1\n",
       "grisly death metal     1\n",
       "Length: 3767, dtype: int64"
      ]
     },
     "execution_count": 49,
     "metadata": {},
     "output_type": "execute_result"
    }
   ],
   "source": [
    "unpopular_genres = sorted_count_genres_popularity[sorted_count_genres_popularity < 100]\n",
    "unpopular_genres"
   ]
  },
  {
   "cell_type": "markdown",
   "metadata": {},
   "source": [
    "Znalezione zostaną wszystkie możliwe permutacje (o zmiennej długości) nazw gatunków muzycznych. Jeśli jedna z tych permutacji jest nazwą innego gatunku, gatunki te zostaną połączone."
   ]
  },
  {
   "cell_type": "code",
   "execution_count": 50,
   "metadata": {},
   "outputs": [],
   "source": [
    "from itertools import permutations\n",
    "\n",
    "all_permutations = {}\n",
    "for genre in unpopular_genres.keys():\n",
    "    all_permutations.setdefault(genre, [])\n",
    "    split_genre = genre.split()\n",
    "    for i in range(1, len(split_genre) + 1):\n",
    "        length_permutations = permutations(split_genre, i)\n",
    "        all_permutations[genre].extend([\" \".join(genre) for genre in length_permutations])"
   ]
  },
  {
   "cell_type": "code",
   "execution_count": 51,
   "metadata": {},
   "outputs": [
    {
     "data": {
      "text/plain": [
       "[('trap', []),\n",
       " ('rhythm and blues', ['blues']),\n",
       " ('glam metal', ['metal']),\n",
       " ('experimental', []),\n",
       " ('dangdut', []),\n",
       " ('lilith', []),\n",
       " ('reggae', []),\n",
       " ('southern hip hop', ['hip hop']),\n",
       " ('cumbia villera', ['cumbia']),\n",
       " ('nuevo regional mexicano', []),\n",
       " ('synthpop', []),\n",
       " ('swedish alternative rock', ['alternative rock', 'rock']),\n",
       " ('dansktop', []),\n",
       " ('chinese indie', []),\n",
       " ('modern bollywood', [])]"
      ]
     },
     "execution_count": 51,
     "metadata": {},
     "output_type": "execute_result"
    }
   ],
   "source": [
    "genre_mappings = {}\n",
    "for unpopular_genre, genre_permutations in all_permutations.items():\n",
    "    genre_mappings.setdefault(unpopular_genre, [])\n",
    "    for genre in genres_df.keys():\n",
    "        if any(permutation == genre for permutation in genre_permutations) and len(genre) < len(unpopular_genre):\n",
    "            genre_mappings[unpopular_genre].append(genre)\n",
    "\n",
    "list(genre_mappings.items())[:15]"
   ]
  },
  {
   "cell_type": "markdown",
   "metadata": {},
   "source": [
    "Wszyscy artyści ze zbioru danych *genres_df* mają dodane nowe gatunki, zgodnie z powyższym mapowaniem:"
   ]
  },
  {
   "cell_type": "code",
   "execution_count": 52,
   "metadata": {},
   "outputs": [],
   "source": [
    "for old_genre, new_genres in genre_mappings.items():\n",
    "    genres_df.loc[genres_df[old_genre] == 1, new_genres] = 1"
   ]
  },
  {
   "cell_type": "markdown",
   "metadata": {},
   "source": [
    "Następnie te gatunki, które mogły zostać zastąpione innym, bardziej ogólnym, zostaną usunięte z *genres_df*:"
   ]
  },
  {
   "cell_type": "code",
   "execution_count": 53,
   "metadata": {},
   "outputs": [
    {
     "data": {
      "text/html": [
       "<div>\n",
       "<style scoped>\n",
       "    .dataframe tbody tr th:only-of-type {\n",
       "        vertical-align: middle;\n",
       "    }\n",
       "\n",
       "    .dataframe tbody tr th {\n",
       "        vertical-align: top;\n",
       "    }\n",
       "\n",
       "    .dataframe thead th {\n",
       "        text-align: right;\n",
       "    }\n",
       "</style>\n",
       "<table border=\"1\" class=\"dataframe\">\n",
       "  <thead>\n",
       "    <tr style=\"text-align: right;\">\n",
       "      <th></th>\n",
       "      <th>48g</th>\n",
       "      <th>a cappella</th>\n",
       "      <th>abstract</th>\n",
       "      <th>accordeon</th>\n",
       "      <th>accordion</th>\n",
       "      <th>acousmatic</th>\n",
       "      <th>acoustic chill</th>\n",
       "      <th>acoustic guitar cover</th>\n",
       "      <th>adoracao</th>\n",
       "      <th>adoracion</th>\n",
       "      <th>...</th>\n",
       "      <th>york indie</th>\n",
       "      <th>zespol dzieciecy</th>\n",
       "      <th>zhongguo feng</th>\n",
       "      <th>zikir</th>\n",
       "      <th>zillertal</th>\n",
       "      <th>zim urban groove</th>\n",
       "      <th>zolo</th>\n",
       "      <th>zouglou</th>\n",
       "      <th>zouk</th>\n",
       "      <th>zydeco</th>\n",
       "    </tr>\n",
       "    <tr>\n",
       "      <th>id</th>\n",
       "      <th></th>\n",
       "      <th></th>\n",
       "      <th></th>\n",
       "      <th></th>\n",
       "      <th></th>\n",
       "      <th></th>\n",
       "      <th></th>\n",
       "      <th></th>\n",
       "      <th></th>\n",
       "      <th></th>\n",
       "      <th></th>\n",
       "      <th></th>\n",
       "      <th></th>\n",
       "      <th></th>\n",
       "      <th></th>\n",
       "      <th></th>\n",
       "      <th></th>\n",
       "      <th></th>\n",
       "      <th></th>\n",
       "      <th></th>\n",
       "      <th></th>\n",
       "    </tr>\n",
       "  </thead>\n",
       "  <tbody>\n",
       "    <tr>\n",
       "      <th>72578usTM6Cj5qWsi471Nc</th>\n",
       "      <td>0</td>\n",
       "      <td>0</td>\n",
       "      <td>0</td>\n",
       "      <td>0</td>\n",
       "      <td>0</td>\n",
       "      <td>0</td>\n",
       "      <td>0</td>\n",
       "      <td>0</td>\n",
       "      <td>0</td>\n",
       "      <td>0</td>\n",
       "      <td>...</td>\n",
       "      <td>0</td>\n",
       "      <td>0</td>\n",
       "      <td>0</td>\n",
       "      <td>0</td>\n",
       "      <td>0</td>\n",
       "      <td>0</td>\n",
       "      <td>0</td>\n",
       "      <td>0</td>\n",
       "      <td>0</td>\n",
       "      <td>0</td>\n",
       "    </tr>\n",
       "    <tr>\n",
       "      <th>7b6Ui7JVaBDEfZB9k6nHL0</th>\n",
       "      <td>0</td>\n",
       "      <td>0</td>\n",
       "      <td>0</td>\n",
       "      <td>0</td>\n",
       "      <td>0</td>\n",
       "      <td>0</td>\n",
       "      <td>0</td>\n",
       "      <td>0</td>\n",
       "      <td>0</td>\n",
       "      <td>0</td>\n",
       "      <td>...</td>\n",
       "      <td>0</td>\n",
       "      <td>0</td>\n",
       "      <td>0</td>\n",
       "      <td>0</td>\n",
       "      <td>0</td>\n",
       "      <td>0</td>\n",
       "      <td>0</td>\n",
       "      <td>0</td>\n",
       "      <td>0</td>\n",
       "      <td>0</td>\n",
       "    </tr>\n",
       "    <tr>\n",
       "      <th>5wJ1H6ud777odtZl5gG507</th>\n",
       "      <td>0</td>\n",
       "      <td>0</td>\n",
       "      <td>0</td>\n",
       "      <td>0</td>\n",
       "      <td>0</td>\n",
       "      <td>0</td>\n",
       "      <td>0</td>\n",
       "      <td>0</td>\n",
       "      <td>0</td>\n",
       "      <td>0</td>\n",
       "      <td>...</td>\n",
       "      <td>0</td>\n",
       "      <td>0</td>\n",
       "      <td>0</td>\n",
       "      <td>0</td>\n",
       "      <td>0</td>\n",
       "      <td>0</td>\n",
       "      <td>0</td>\n",
       "      <td>0</td>\n",
       "      <td>0</td>\n",
       "      <td>0</td>\n",
       "    </tr>\n",
       "    <tr>\n",
       "      <th>0n4a5imdLBN24fIrBWoqrv</th>\n",
       "      <td>0</td>\n",
       "      <td>0</td>\n",
       "      <td>0</td>\n",
       "      <td>0</td>\n",
       "      <td>0</td>\n",
       "      <td>0</td>\n",
       "      <td>0</td>\n",
       "      <td>0</td>\n",
       "      <td>0</td>\n",
       "      <td>0</td>\n",
       "      <td>...</td>\n",
       "      <td>0</td>\n",
       "      <td>0</td>\n",
       "      <td>0</td>\n",
       "      <td>0</td>\n",
       "      <td>0</td>\n",
       "      <td>0</td>\n",
       "      <td>0</td>\n",
       "      <td>0</td>\n",
       "      <td>0</td>\n",
       "      <td>0</td>\n",
       "    </tr>\n",
       "    <tr>\n",
       "      <th>4gdMJYnopf2nEUcanAwstx</th>\n",
       "      <td>0</td>\n",
       "      <td>0</td>\n",
       "      <td>0</td>\n",
       "      <td>0</td>\n",
       "      <td>0</td>\n",
       "      <td>0</td>\n",
       "      <td>0</td>\n",
       "      <td>0</td>\n",
       "      <td>0</td>\n",
       "      <td>0</td>\n",
       "      <td>...</td>\n",
       "      <td>0</td>\n",
       "      <td>0</td>\n",
       "      <td>0</td>\n",
       "      <td>0</td>\n",
       "      <td>0</td>\n",
       "      <td>0</td>\n",
       "      <td>0</td>\n",
       "      <td>0</td>\n",
       "      <td>0</td>\n",
       "      <td>0</td>\n",
       "    </tr>\n",
       "    <tr>\n",
       "      <th>...</th>\n",
       "      <td>...</td>\n",
       "      <td>...</td>\n",
       "      <td>...</td>\n",
       "      <td>...</td>\n",
       "      <td>...</td>\n",
       "      <td>...</td>\n",
       "      <td>...</td>\n",
       "      <td>...</td>\n",
       "      <td>...</td>\n",
       "      <td>...</td>\n",
       "      <td>...</td>\n",
       "      <td>...</td>\n",
       "      <td>...</td>\n",
       "      <td>...</td>\n",
       "      <td>...</td>\n",
       "      <td>...</td>\n",
       "      <td>...</td>\n",
       "      <td>...</td>\n",
       "      <td>...</td>\n",
       "      <td>...</td>\n",
       "      <td>...</td>\n",
       "    </tr>\n",
       "    <tr>\n",
       "      <th>3yMpPk98o4yrKhUr9rB0yY</th>\n",
       "      <td>0</td>\n",
       "      <td>0</td>\n",
       "      <td>0</td>\n",
       "      <td>0</td>\n",
       "      <td>0</td>\n",
       "      <td>0</td>\n",
       "      <td>0</td>\n",
       "      <td>0</td>\n",
       "      <td>0</td>\n",
       "      <td>0</td>\n",
       "      <td>...</td>\n",
       "      <td>0</td>\n",
       "      <td>0</td>\n",
       "      <td>0</td>\n",
       "      <td>0</td>\n",
       "      <td>0</td>\n",
       "      <td>0</td>\n",
       "      <td>0</td>\n",
       "      <td>0</td>\n",
       "      <td>0</td>\n",
       "      <td>0</td>\n",
       "    </tr>\n",
       "    <tr>\n",
       "      <th>5ICqrGUqDv9KZdbbFiNGma</th>\n",
       "      <td>0</td>\n",
       "      <td>0</td>\n",
       "      <td>0</td>\n",
       "      <td>0</td>\n",
       "      <td>0</td>\n",
       "      <td>0</td>\n",
       "      <td>0</td>\n",
       "      <td>0</td>\n",
       "      <td>0</td>\n",
       "      <td>0</td>\n",
       "      <td>...</td>\n",
       "      <td>0</td>\n",
       "      <td>0</td>\n",
       "      <td>0</td>\n",
       "      <td>0</td>\n",
       "      <td>0</td>\n",
       "      <td>0</td>\n",
       "      <td>0</td>\n",
       "      <td>0</td>\n",
       "      <td>0</td>\n",
       "      <td>0</td>\n",
       "    </tr>\n",
       "    <tr>\n",
       "      <th>7JXwnoNAAY276k8wZVmpYf</th>\n",
       "      <td>0</td>\n",
       "      <td>0</td>\n",
       "      <td>0</td>\n",
       "      <td>0</td>\n",
       "      <td>0</td>\n",
       "      <td>0</td>\n",
       "      <td>0</td>\n",
       "      <td>0</td>\n",
       "      <td>0</td>\n",
       "      <td>0</td>\n",
       "      <td>...</td>\n",
       "      <td>0</td>\n",
       "      <td>0</td>\n",
       "      <td>0</td>\n",
       "      <td>0</td>\n",
       "      <td>0</td>\n",
       "      <td>0</td>\n",
       "      <td>0</td>\n",
       "      <td>0</td>\n",
       "      <td>0</td>\n",
       "      <td>0</td>\n",
       "    </tr>\n",
       "    <tr>\n",
       "      <th>4iS19hLpsgRd8jLPKI4Ni3</th>\n",
       "      <td>0</td>\n",
       "      <td>0</td>\n",
       "      <td>0</td>\n",
       "      <td>0</td>\n",
       "      <td>0</td>\n",
       "      <td>0</td>\n",
       "      <td>0</td>\n",
       "      <td>0</td>\n",
       "      <td>0</td>\n",
       "      <td>0</td>\n",
       "      <td>...</td>\n",
       "      <td>0</td>\n",
       "      <td>0</td>\n",
       "      <td>0</td>\n",
       "      <td>0</td>\n",
       "      <td>0</td>\n",
       "      <td>0</td>\n",
       "      <td>0</td>\n",
       "      <td>0</td>\n",
       "      <td>0</td>\n",
       "      <td>0</td>\n",
       "    </tr>\n",
       "    <tr>\n",
       "      <th>3JGC3LkYrwlrTscixVwY72</th>\n",
       "      <td>0</td>\n",
       "      <td>0</td>\n",
       "      <td>0</td>\n",
       "      <td>0</td>\n",
       "      <td>0</td>\n",
       "      <td>0</td>\n",
       "      <td>0</td>\n",
       "      <td>0</td>\n",
       "      <td>0</td>\n",
       "      <td>0</td>\n",
       "      <td>...</td>\n",
       "      <td>0</td>\n",
       "      <td>0</td>\n",
       "      <td>0</td>\n",
       "      <td>0</td>\n",
       "      <td>0</td>\n",
       "      <td>0</td>\n",
       "      <td>0</td>\n",
       "      <td>0</td>\n",
       "      <td>0</td>\n",
       "      <td>0</td>\n",
       "    </tr>\n",
       "  </tbody>\n",
       "</table>\n",
       "<p>27650 rows × 1698 columns</p>\n",
       "</div>"
      ],
      "text/plain": [
       "                        48g  a cappella  abstract  accordeon  accordion  \\\n",
       "id                                                                        \n",
       "72578usTM6Cj5qWsi471Nc    0           0         0          0          0   \n",
       "7b6Ui7JVaBDEfZB9k6nHL0    0           0         0          0          0   \n",
       "5wJ1H6ud777odtZl5gG507    0           0         0          0          0   \n",
       "0n4a5imdLBN24fIrBWoqrv    0           0         0          0          0   \n",
       "4gdMJYnopf2nEUcanAwstx    0           0         0          0          0   \n",
       "...                     ...         ...       ...        ...        ...   \n",
       "3yMpPk98o4yrKhUr9rB0yY    0           0         0          0          0   \n",
       "5ICqrGUqDv9KZdbbFiNGma    0           0         0          0          0   \n",
       "7JXwnoNAAY276k8wZVmpYf    0           0         0          0          0   \n",
       "4iS19hLpsgRd8jLPKI4Ni3    0           0         0          0          0   \n",
       "3JGC3LkYrwlrTscixVwY72    0           0         0          0          0   \n",
       "\n",
       "                        acousmatic  acoustic chill  acoustic guitar cover  \\\n",
       "id                                                                          \n",
       "72578usTM6Cj5qWsi471Nc           0               0                      0   \n",
       "7b6Ui7JVaBDEfZB9k6nHL0           0               0                      0   \n",
       "5wJ1H6ud777odtZl5gG507           0               0                      0   \n",
       "0n4a5imdLBN24fIrBWoqrv           0               0                      0   \n",
       "4gdMJYnopf2nEUcanAwstx           0               0                      0   \n",
       "...                            ...             ...                    ...   \n",
       "3yMpPk98o4yrKhUr9rB0yY           0               0                      0   \n",
       "5ICqrGUqDv9KZdbbFiNGma           0               0                      0   \n",
       "7JXwnoNAAY276k8wZVmpYf           0               0                      0   \n",
       "4iS19hLpsgRd8jLPKI4Ni3           0               0                      0   \n",
       "3JGC3LkYrwlrTscixVwY72           0               0                      0   \n",
       "\n",
       "                        adoracao  adoracion  ...  york indie  \\\n",
       "id                                           ...               \n",
       "72578usTM6Cj5qWsi471Nc         0          0  ...           0   \n",
       "7b6Ui7JVaBDEfZB9k6nHL0         0          0  ...           0   \n",
       "5wJ1H6ud777odtZl5gG507         0          0  ...           0   \n",
       "0n4a5imdLBN24fIrBWoqrv         0          0  ...           0   \n",
       "4gdMJYnopf2nEUcanAwstx         0          0  ...           0   \n",
       "...                          ...        ...  ...         ...   \n",
       "3yMpPk98o4yrKhUr9rB0yY         0          0  ...           0   \n",
       "5ICqrGUqDv9KZdbbFiNGma         0          0  ...           0   \n",
       "7JXwnoNAAY276k8wZVmpYf         0          0  ...           0   \n",
       "4iS19hLpsgRd8jLPKI4Ni3         0          0  ...           0   \n",
       "3JGC3LkYrwlrTscixVwY72         0          0  ...           0   \n",
       "\n",
       "                        zespol dzieciecy  zhongguo feng  zikir  zillertal  \\\n",
       "id                                                                          \n",
       "72578usTM6Cj5qWsi471Nc                 0              0      0          0   \n",
       "7b6Ui7JVaBDEfZB9k6nHL0                 0              0      0          0   \n",
       "5wJ1H6ud777odtZl5gG507                 0              0      0          0   \n",
       "0n4a5imdLBN24fIrBWoqrv                 0              0      0          0   \n",
       "4gdMJYnopf2nEUcanAwstx                 0              0      0          0   \n",
       "...                                  ...            ...    ...        ...   \n",
       "3yMpPk98o4yrKhUr9rB0yY                 0              0      0          0   \n",
       "5ICqrGUqDv9KZdbbFiNGma                 0              0      0          0   \n",
       "7JXwnoNAAY276k8wZVmpYf                 0              0      0          0   \n",
       "4iS19hLpsgRd8jLPKI4Ni3                 0              0      0          0   \n",
       "3JGC3LkYrwlrTscixVwY72                 0              0      0          0   \n",
       "\n",
       "                        zim urban groove  zolo  zouglou  zouk  zydeco  \n",
       "id                                                                     \n",
       "72578usTM6Cj5qWsi471Nc                 0     0        0     0       0  \n",
       "7b6Ui7JVaBDEfZB9k6nHL0                 0     0        0     0       0  \n",
       "5wJ1H6ud777odtZl5gG507                 0     0        0     0       0  \n",
       "0n4a5imdLBN24fIrBWoqrv                 0     0        0     0       0  \n",
       "4gdMJYnopf2nEUcanAwstx                 0     0        0     0       0  \n",
       "...                                  ...   ...      ...   ...     ...  \n",
       "3yMpPk98o4yrKhUr9rB0yY                 0     0        0     0       0  \n",
       "5ICqrGUqDv9KZdbbFiNGma                 0     0        0     0       0  \n",
       "7JXwnoNAAY276k8wZVmpYf                 0     0        0     0       0  \n",
       "4iS19hLpsgRd8jLPKI4Ni3                 0     0        0     0       0  \n",
       "3JGC3LkYrwlrTscixVwY72                 0     0        0     0       0  \n",
       "\n",
       "[27650 rows x 1698 columns]"
      ]
     },
     "execution_count": 53,
     "metadata": {},
     "output_type": "execute_result"
    }
   ],
   "source": [
    "replaced_genres = [genre for genre in genre_mappings if genre_mappings[genre]]\n",
    "genres_df.drop(replaced_genres, axis=1, inplace=True)\n",
    "genres_df"
   ]
  },
  {
   "cell_type": "markdown",
   "metadata": {},
   "source": [
    "Ilość gatunków została zmniejszona z 3953 do 1698."
   ]
  },
  {
   "cell_type": "code",
   "execution_count": 54,
   "metadata": {},
   "outputs": [
    {
     "data": {
      "text/plain": [
       "pop                   5402\n",
       "rock                  4337\n",
       "hip hop               1681\n",
       "folk                  1159\n",
       "rap                   1093\n",
       "                      ... \n",
       "shojo                    1\n",
       "comedia                  1\n",
       "shimmer psych            1\n",
       "comedienne               1\n",
       "progressive sludge       1\n",
       "Length: 1698, dtype: int64"
      ]
     },
     "execution_count": 54,
     "metadata": {},
     "output_type": "execute_result"
    }
   ],
   "source": [
    "count_new_genres_popularity = genres_df.sum()\n",
    "count_new_genres_popularity.sort_values(ascending=False)"
   ]
  },
  {
   "cell_type": "code",
   "execution_count": 55,
   "metadata": {},
   "outputs": [
    {
     "name": "stdout",
     "output_type": "stream",
     "text": [
      "No. genres with 1 representative: 323\n",
      "No. genres with 5 or less representatives: 835\n"
     ]
    }
   ],
   "source": [
    "genres_one_repr = len(count_new_genres_popularity[count_new_genres_popularity == 1])\n",
    "genres_less_or_five_repr = len(count_new_genres_popularity[count_new_genres_popularity <= 5])\n",
    "print(f\"No. genres with 1 representative: {genres_one_repr}\")\n",
    "print(f\"No. genres with 5 or less representatives: {genres_less_or_five_repr}\")"
   ]
  },
  {
   "cell_type": "markdown",
   "metadata": {},
   "source": [
    "Histogram:"
   ]
  },
  {
   "cell_type": "code",
   "execution_count": 56,
   "metadata": {},
   "outputs": [
    {
     "data": {
      "text/plain": [
       "<Axes: >"
      ]
     },
     "execution_count": 56,
     "metadata": {},
     "output_type": "execute_result"
    },
    {
     "data": {
      "image/png": "[encoded data removed]",
      "text/plain": [
       "<Figure size 640x480 with 1 Axes>"
      ]
     },
     "metadata": {},
     "output_type": "display_data"
    }
   ],
   "source": [
    "count_new_genres_popularity.hist(bins=100)"
   ]
  },
  {
   "cell_type": "markdown",
   "metadata": {},
   "source": [
    "#### Ad 2. Tłumaczenie wszystkich gatunków do wspólnego języka"
   ]
  },
  {
   "cell_type": "markdown",
   "metadata": {},
   "source": [
    "Najpierw za pomocą biblioteki *Lingua* zostanie określony język nazwy każdego gatunku muzycznego:"
   ]
  },
  {
   "cell_type": "code",
   "execution_count": 1,
   "metadata": {},
   "outputs": [
    {
     "ename": "NameError",
     "evalue": "name 'genres_df' is not defined",
     "output_type": "error",
     "traceback": [
      "\u001b[0;31m---------------------------------------------------------------------------\u001b[0m",
      "\u001b[0;31mNameError\u001b[0m                                 Traceback (most recent call last)",
      "Cell \u001b[0;32mIn[1], line 3\u001b[0m\n\u001b[1;32m      1\u001b[0m \u001b[38;5;28;01mfrom\u001b[39;00m \u001b[38;5;21;01mlingua\u001b[39;00m \u001b[38;5;28;01mimport\u001b[39;00m LanguageDetectorBuilder\n\u001b[1;32m      2\u001b[0m detector \u001b[38;5;241m=\u001b[39m LanguageDetectorBuilder\u001b[38;5;241m.\u001b[39mfrom_all_languages()\u001b[38;5;241m.\u001b[39mbuild()\n\u001b[0;32m----> 3\u001b[0m genre_lang \u001b[38;5;241m=\u001b[39m {genre: detector\u001b[38;5;241m.\u001b[39mdetect_language_of(genre)\u001b[38;5;241m.\u001b[39miso_code_639_1\u001b[38;5;241m.\u001b[39mname \u001b[38;5;28;01mfor\u001b[39;00m genre \u001b[38;5;129;01min\u001b[39;00m \u001b[38;5;28mlist\u001b[39m(\u001b[43mgenres_df\u001b[49m\u001b[38;5;241m.\u001b[39mkeys())}\n",
      "\u001b[0;31mNameError\u001b[0m: name 'genres_df' is not defined"
     ]
    }
   ],
   "source": [
    "from lingua import LanguageDetectorBuilder\n",
    "detector = LanguageDetectorBuilder.from_all_languages().build()\n",
    "genre_lang = {genre: detector.detect_language_of(genre).iso_code_639_1.name for genre in list(genres_df.keys())}"
   ]
  },
  {
   "cell_type": "markdown",
   "metadata": {},
   "source": [
    "Do przetłumaczenia wykorzystana zostanie biblioteka *DeepL*. Każda kategoria zostanie przetłumaczona na język angielski."
   ]
  },
  {
   "cell_type": "code",
   "execution_count": null,
   "metadata": {},
   "outputs": [],
   "source": [
    "import deepl\n",
    "\n",
    "auth_key = \"8780381e-9354-927d-ff53-d87b77f69fce:fx\" \n",
    "translator = deepl.Translator(auth_key)\n",
    "\n",
    "english_genres = [] \n",
    "for genre, lang in genre_lang.items():\n",
    "    if lang != \"EN\":\n",
    "        try:\n",
    "            english_genres.append(translator.translate_text(genre, target_lang=\"EN-US\", source_lang=lang).text.lower())\n",
    "            continue\n",
    "        except deepl.DeepLException:\n",
    "            pass\n",
    "    english_genres.append(genre)"
   ]
  },
  {
   "cell_type": "markdown",
   "metadata": {},
   "source": [
    "Korzyścią tego rozwiązania byłoby usunięcie 26 gatunków. Są jednak potencjalne gatunki niepoprawnie przetłumaczone. W tym przypadku lepszym rozwiązaniem będzie pozostawienie wszystkich gatunków w różnych językach."
   ]
  },
  {
   "cell_type": "code",
   "execution_count": null,
   "metadata": {},
   "outputs": [
    {
     "data": {
      "text/plain": [
       "26"
      ]
     },
     "execution_count": 422,
     "metadata": {},
     "output_type": "execute_result"
    }
   ],
   "source": [
    "len(english_genres) - len(set(english_genres))"
   ]
  },
  {
   "cell_type": "markdown",
   "metadata": {},
   "source": [
    "#### Ad 3. Usunięcie gatunków rzadkich"
   ]
  },
  {
   "cell_type": "markdown",
   "metadata": {},
   "source": [
    "Wartością progową będzie 25 artystów, reprezentujących dany gatunek - w innym przypadku gatunek zostanie usunięty ze zbioru danych."
   ]
  },
  {
   "cell_type": "code",
   "execution_count": null,
   "metadata": {},
   "outputs": [
    {
     "data": {
      "text/html": [
       "<div>\n",
       "<style scoped>\n",
       "    .dataframe tbody tr th:only-of-type {\n",
       "        vertical-align: middle;\n",
       "    }\n",
       "\n",
       "    .dataframe tbody tr th {\n",
       "        vertical-align: top;\n",
       "    }\n",
       "\n",
       "    .dataframe thead th {\n",
       "        text-align: right;\n",
       "    }\n",
       "</style>\n",
       "<table border=\"1\" class=\"dataframe\">\n",
       "  <thead>\n",
       "    <tr style=\"text-align: right;\">\n",
       "      <th></th>\n",
       "      <th>a cappella</th>\n",
       "      <th>accordion</th>\n",
       "      <th>adoracao</th>\n",
       "      <th>adoracion</th>\n",
       "      <th>adult standards</th>\n",
       "      <th>afrikaans</th>\n",
       "      <th>afrobeat</th>\n",
       "      <th>afrofuturism</th>\n",
       "      <th>afropop</th>\n",
       "      <th>album rock</th>\n",
       "      <th>...</th>\n",
       "      <th>volkspop</th>\n",
       "      <th>wave</th>\n",
       "      <th>world</th>\n",
       "      <th>worship</th>\n",
       "      <th>wrestling</th>\n",
       "      <th>ye ye</th>\n",
       "      <th>yodeling</th>\n",
       "      <th>zillertal</th>\n",
       "      <th>zolo</th>\n",
       "      <th>zouk</th>\n",
       "    </tr>\n",
       "    <tr>\n",
       "      <th>id</th>\n",
       "      <th></th>\n",
       "      <th></th>\n",
       "      <th></th>\n",
       "      <th></th>\n",
       "      <th></th>\n",
       "      <th></th>\n",
       "      <th></th>\n",
       "      <th></th>\n",
       "      <th></th>\n",
       "      <th></th>\n",
       "      <th></th>\n",
       "      <th></th>\n",
       "      <th></th>\n",
       "      <th></th>\n",
       "      <th></th>\n",
       "      <th></th>\n",
       "      <th></th>\n",
       "      <th></th>\n",
       "      <th></th>\n",
       "      <th></th>\n",
       "      <th></th>\n",
       "    </tr>\n",
       "  </thead>\n",
       "  <tbody>\n",
       "    <tr>\n",
       "      <th>72578usTM6Cj5qWsi471Nc</th>\n",
       "      <td>0</td>\n",
       "      <td>0</td>\n",
       "      <td>0</td>\n",
       "      <td>0</td>\n",
       "      <td>0</td>\n",
       "      <td>0</td>\n",
       "      <td>0</td>\n",
       "      <td>0</td>\n",
       "      <td>0</td>\n",
       "      <td>0</td>\n",
       "      <td>...</td>\n",
       "      <td>0</td>\n",
       "      <td>0</td>\n",
       "      <td>0</td>\n",
       "      <td>0</td>\n",
       "      <td>0</td>\n",
       "      <td>0</td>\n",
       "      <td>0</td>\n",
       "      <td>0</td>\n",
       "      <td>0</td>\n",
       "      <td>0</td>\n",
       "    </tr>\n",
       "    <tr>\n",
       "      <th>7b6Ui7JVaBDEfZB9k6nHL0</th>\n",
       "      <td>0</td>\n",
       "      <td>0</td>\n",
       "      <td>0</td>\n",
       "      <td>0</td>\n",
       "      <td>0</td>\n",
       "      <td>0</td>\n",
       "      <td>0</td>\n",
       "      <td>0</td>\n",
       "      <td>0</td>\n",
       "      <td>0</td>\n",
       "      <td>...</td>\n",
       "      <td>0</td>\n",
       "      <td>0</td>\n",
       "      <td>0</td>\n",
       "      <td>0</td>\n",
       "      <td>0</td>\n",
       "      <td>0</td>\n",
       "      <td>0</td>\n",
       "      <td>0</td>\n",
       "      <td>0</td>\n",
       "      <td>0</td>\n",
       "    </tr>\n",
       "    <tr>\n",
       "      <th>5wJ1H6ud777odtZl5gG507</th>\n",
       "      <td>0</td>\n",
       "      <td>0</td>\n",
       "      <td>0</td>\n",
       "      <td>0</td>\n",
       "      <td>0</td>\n",
       "      <td>0</td>\n",
       "      <td>0</td>\n",
       "      <td>0</td>\n",
       "      <td>0</td>\n",
       "      <td>0</td>\n",
       "      <td>...</td>\n",
       "      <td>0</td>\n",
       "      <td>0</td>\n",
       "      <td>0</td>\n",
       "      <td>0</td>\n",
       "      <td>0</td>\n",
       "      <td>0</td>\n",
       "      <td>0</td>\n",
       "      <td>0</td>\n",
       "      <td>0</td>\n",
       "      <td>0</td>\n",
       "    </tr>\n",
       "    <tr>\n",
       "      <th>0n4a5imdLBN24fIrBWoqrv</th>\n",
       "      <td>0</td>\n",
       "      <td>0</td>\n",
       "      <td>0</td>\n",
       "      <td>0</td>\n",
       "      <td>0</td>\n",
       "      <td>0</td>\n",
       "      <td>0</td>\n",
       "      <td>0</td>\n",
       "      <td>0</td>\n",
       "      <td>0</td>\n",
       "      <td>...</td>\n",
       "      <td>0</td>\n",
       "      <td>0</td>\n",
       "      <td>0</td>\n",
       "      <td>0</td>\n",
       "      <td>0</td>\n",
       "      <td>0</td>\n",
       "      <td>0</td>\n",
       "      <td>0</td>\n",
       "      <td>0</td>\n",
       "      <td>0</td>\n",
       "    </tr>\n",
       "    <tr>\n",
       "      <th>4gdMJYnopf2nEUcanAwstx</th>\n",
       "      <td>0</td>\n",
       "      <td>0</td>\n",
       "      <td>0</td>\n",
       "      <td>0</td>\n",
       "      <td>0</td>\n",
       "      <td>0</td>\n",
       "      <td>0</td>\n",
       "      <td>0</td>\n",
       "      <td>0</td>\n",
       "      <td>0</td>\n",
       "      <td>...</td>\n",
       "      <td>0</td>\n",
       "      <td>0</td>\n",
       "      <td>0</td>\n",
       "      <td>0</td>\n",
       "      <td>0</td>\n",
       "      <td>0</td>\n",
       "      <td>0</td>\n",
       "      <td>0</td>\n",
       "      <td>0</td>\n",
       "      <td>0</td>\n",
       "    </tr>\n",
       "    <tr>\n",
       "      <th>...</th>\n",
       "      <td>...</td>\n",
       "      <td>...</td>\n",
       "      <td>...</td>\n",
       "      <td>...</td>\n",
       "      <td>...</td>\n",
       "      <td>...</td>\n",
       "      <td>...</td>\n",
       "      <td>...</td>\n",
       "      <td>...</td>\n",
       "      <td>...</td>\n",
       "      <td>...</td>\n",
       "      <td>...</td>\n",
       "      <td>...</td>\n",
       "      <td>...</td>\n",
       "      <td>...</td>\n",
       "      <td>...</td>\n",
       "      <td>...</td>\n",
       "      <td>...</td>\n",
       "      <td>...</td>\n",
       "      <td>...</td>\n",
       "      <td>...</td>\n",
       "    </tr>\n",
       "    <tr>\n",
       "      <th>3yMpPk98o4yrKhUr9rB0yY</th>\n",
       "      <td>0</td>\n",
       "      <td>0</td>\n",
       "      <td>0</td>\n",
       "      <td>0</td>\n",
       "      <td>0</td>\n",
       "      <td>0</td>\n",
       "      <td>0</td>\n",
       "      <td>0</td>\n",
       "      <td>0</td>\n",
       "      <td>0</td>\n",
       "      <td>...</td>\n",
       "      <td>0</td>\n",
       "      <td>0</td>\n",
       "      <td>0</td>\n",
       "      <td>0</td>\n",
       "      <td>0</td>\n",
       "      <td>0</td>\n",
       "      <td>0</td>\n",
       "      <td>0</td>\n",
       "      <td>0</td>\n",
       "      <td>0</td>\n",
       "    </tr>\n",
       "    <tr>\n",
       "      <th>5ICqrGUqDv9KZdbbFiNGma</th>\n",
       "      <td>0</td>\n",
       "      <td>0</td>\n",
       "      <td>0</td>\n",
       "      <td>0</td>\n",
       "      <td>0</td>\n",
       "      <td>0</td>\n",
       "      <td>0</td>\n",
       "      <td>0</td>\n",
       "      <td>0</td>\n",
       "      <td>0</td>\n",
       "      <td>...</td>\n",
       "      <td>0</td>\n",
       "      <td>0</td>\n",
       "      <td>0</td>\n",
       "      <td>0</td>\n",
       "      <td>0</td>\n",
       "      <td>0</td>\n",
       "      <td>0</td>\n",
       "      <td>0</td>\n",
       "      <td>0</td>\n",
       "      <td>0</td>\n",
       "    </tr>\n",
       "    <tr>\n",
       "      <th>7JXwnoNAAY276k8wZVmpYf</th>\n",
       "      <td>0</td>\n",
       "      <td>0</td>\n",
       "      <td>0</td>\n",
       "      <td>0</td>\n",
       "      <td>0</td>\n",
       "      <td>0</td>\n",
       "      <td>0</td>\n",
       "      <td>0</td>\n",
       "      <td>0</td>\n",
       "      <td>0</td>\n",
       "      <td>...</td>\n",
       "      <td>0</td>\n",
       "      <td>0</td>\n",
       "      <td>0</td>\n",
       "      <td>0</td>\n",
       "      <td>0</td>\n",
       "      <td>0</td>\n",
       "      <td>0</td>\n",
       "      <td>0</td>\n",
       "      <td>0</td>\n",
       "      <td>0</td>\n",
       "    </tr>\n",
       "    <tr>\n",
       "      <th>4iS19hLpsgRd8jLPKI4Ni3</th>\n",
       "      <td>0</td>\n",
       "      <td>0</td>\n",
       "      <td>0</td>\n",
       "      <td>0</td>\n",
       "      <td>0</td>\n",
       "      <td>0</td>\n",
       "      <td>0</td>\n",
       "      <td>0</td>\n",
       "      <td>0</td>\n",
       "      <td>0</td>\n",
       "      <td>...</td>\n",
       "      <td>0</td>\n",
       "      <td>0</td>\n",
       "      <td>0</td>\n",
       "      <td>0</td>\n",
       "      <td>0</td>\n",
       "      <td>0</td>\n",
       "      <td>0</td>\n",
       "      <td>0</td>\n",
       "      <td>0</td>\n",
       "      <td>0</td>\n",
       "    </tr>\n",
       "    <tr>\n",
       "      <th>3JGC3LkYrwlrTscixVwY72</th>\n",
       "      <td>0</td>\n",
       "      <td>0</td>\n",
       "      <td>0</td>\n",
       "      <td>0</td>\n",
       "      <td>0</td>\n",
       "      <td>0</td>\n",
       "      <td>0</td>\n",
       "      <td>0</td>\n",
       "      <td>0</td>\n",
       "      <td>0</td>\n",
       "      <td>...</td>\n",
       "      <td>0</td>\n",
       "      <td>0</td>\n",
       "      <td>0</td>\n",
       "      <td>0</td>\n",
       "      <td>0</td>\n",
       "      <td>0</td>\n",
       "      <td>0</td>\n",
       "      <td>0</td>\n",
       "      <td>0</td>\n",
       "      <td>0</td>\n",
       "    </tr>\n",
       "  </tbody>\n",
       "</table>\n",
       "<p>27650 rows × 673 columns</p>\n",
       "</div>"
      ],
      "text/plain": [
       "                        a cappella  accordion  adoracao  adoracion  \\\n",
       "id                                                                   \n",
       "72578usTM6Cj5qWsi471Nc           0          0         0          0   \n",
       "7b6Ui7JVaBDEfZB9k6nHL0           0          0         0          0   \n",
       "5wJ1H6ud777odtZl5gG507           0          0         0          0   \n",
       "0n4a5imdLBN24fIrBWoqrv           0          0         0          0   \n",
       "4gdMJYnopf2nEUcanAwstx           0          0         0          0   \n",
       "...                            ...        ...       ...        ...   \n",
       "3yMpPk98o4yrKhUr9rB0yY           0          0         0          0   \n",
       "5ICqrGUqDv9KZdbbFiNGma           0          0         0          0   \n",
       "7JXwnoNAAY276k8wZVmpYf           0          0         0          0   \n",
       "4iS19hLpsgRd8jLPKI4Ni3           0          0         0          0   \n",
       "3JGC3LkYrwlrTscixVwY72           0          0         0          0   \n",
       "\n",
       "                        adult standards  afrikaans  afrobeat  afrofuturism  \\\n",
       "id                                                                           \n",
       "72578usTM6Cj5qWsi471Nc                0          0         0             0   \n",
       "7b6Ui7JVaBDEfZB9k6nHL0                0          0         0             0   \n",
       "5wJ1H6ud777odtZl5gG507                0          0         0             0   \n",
       "0n4a5imdLBN24fIrBWoqrv                0          0         0             0   \n",
       "4gdMJYnopf2nEUcanAwstx                0          0         0             0   \n",
       "...                                 ...        ...       ...           ...   \n",
       "3yMpPk98o4yrKhUr9rB0yY                0          0         0             0   \n",
       "5ICqrGUqDv9KZdbbFiNGma                0          0         0             0   \n",
       "7JXwnoNAAY276k8wZVmpYf                0          0         0             0   \n",
       "4iS19hLpsgRd8jLPKI4Ni3                0          0         0             0   \n",
       "3JGC3LkYrwlrTscixVwY72                0          0         0             0   \n",
       "\n",
       "                        afropop  album rock  ...  volkspop  wave  world  \\\n",
       "id                                           ...                          \n",
       "72578usTM6Cj5qWsi471Nc        0           0  ...         0     0      0   \n",
       "7b6Ui7JVaBDEfZB9k6nHL0        0           0  ...         0     0      0   \n",
       "5wJ1H6ud777odtZl5gG507        0           0  ...         0     0      0   \n",
       "0n4a5imdLBN24fIrBWoqrv        0           0  ...         0     0      0   \n",
       "4gdMJYnopf2nEUcanAwstx        0           0  ...         0     0      0   \n",
       "...                         ...         ...  ...       ...   ...    ...   \n",
       "3yMpPk98o4yrKhUr9rB0yY        0           0  ...         0     0      0   \n",
       "5ICqrGUqDv9KZdbbFiNGma        0           0  ...         0     0      0   \n",
       "7JXwnoNAAY276k8wZVmpYf        0           0  ...         0     0      0   \n",
       "4iS19hLpsgRd8jLPKI4Ni3        0           0  ...         0     0      0   \n",
       "3JGC3LkYrwlrTscixVwY72        0           0  ...         0     0      0   \n",
       "\n",
       "                        worship  wrestling  ye ye  yodeling  zillertal  zolo  \\\n",
       "id                                                                             \n",
       "72578usTM6Cj5qWsi471Nc        0          0      0         0          0     0   \n",
       "7b6Ui7JVaBDEfZB9k6nHL0        0          0      0         0          0     0   \n",
       "5wJ1H6ud777odtZl5gG507        0          0      0         0          0     0   \n",
       "0n4a5imdLBN24fIrBWoqrv        0          0      0         0          0     0   \n",
       "4gdMJYnopf2nEUcanAwstx        0          0      0         0          0     0   \n",
       "...                         ...        ...    ...       ...        ...   ...   \n",
       "3yMpPk98o4yrKhUr9rB0yY        0          0      0         0          0     0   \n",
       "5ICqrGUqDv9KZdbbFiNGma        0          0      0         0          0     0   \n",
       "7JXwnoNAAY276k8wZVmpYf        0          0      0         0          0     0   \n",
       "4iS19hLpsgRd8jLPKI4Ni3        0          0      0         0          0     0   \n",
       "3JGC3LkYrwlrTscixVwY72        0          0      0         0          0     0   \n",
       "\n",
       "                        zouk  \n",
       "id                            \n",
       "72578usTM6Cj5qWsi471Nc     0  \n",
       "7b6Ui7JVaBDEfZB9k6nHL0     0  \n",
       "5wJ1H6ud777odtZl5gG507     0  \n",
       "0n4a5imdLBN24fIrBWoqrv     0  \n",
       "4gdMJYnopf2nEUcanAwstx     0  \n",
       "...                      ...  \n",
       "3yMpPk98o4yrKhUr9rB0yY     0  \n",
       "5ICqrGUqDv9KZdbbFiNGma     0  \n",
       "7JXwnoNAAY276k8wZVmpYf     0  \n",
       "4iS19hLpsgRd8jLPKI4Ni3     0  \n",
       "3JGC3LkYrwlrTscixVwY72     0  \n",
       "\n",
       "[27650 rows x 673 columns]"
      ]
     },
     "execution_count": 423,
     "metadata": {},
     "output_type": "execute_result"
    }
   ],
   "source": [
    "unpopular_genres = list(count_new_genres_popularity[count_new_genres_popularity < 10].keys())\n",
    "genres_df.drop(unpopular_genres, axis=1, inplace=True)\n",
    "genres_df"
   ]
  },
  {
   "cell_type": "markdown",
   "metadata": {},
   "source": [
    "Liczba artystów bez gatunku to ok. 3% całego zbioru - jest to akceptowalna strata."
   ]
  },
  {
   "cell_type": "code",
   "execution_count": null,
   "metadata": {},
   "outputs": [
    {
     "data": {
      "text/plain": [
       "789"
      ]
     },
     "execution_count": 424,
     "metadata": {},
     "output_type": "execute_result"
    }
   ],
   "source": [
    "genres_per_artist = genres_df.sum(axis=1)\n",
    "len(genres_per_artist[genres_per_artist == 0])"
   ]
  },
  {
   "cell_type": "markdown",
   "metadata": {},
   "source": [
    "Poniższy kod tworzy nową kategorię - *other* - na artystów, których gatunki zostały usunięte."
   ]
  },
  {
   "cell_type": "code",
   "execution_count": null,
   "metadata": {},
   "outputs": [
    {
     "data": {
      "text/html": [
       "<div>\n",
       "<style scoped>\n",
       "    .dataframe tbody tr th:only-of-type {\n",
       "        vertical-align: middle;\n",
       "    }\n",
       "\n",
       "    .dataframe tbody tr th {\n",
       "        vertical-align: top;\n",
       "    }\n",
       "\n",
       "    .dataframe thead th {\n",
       "        text-align: right;\n",
       "    }\n",
       "</style>\n",
       "<table border=\"1\" class=\"dataframe\">\n",
       "  <thead>\n",
       "    <tr style=\"text-align: right;\">\n",
       "      <th></th>\n",
       "      <th>a cappella</th>\n",
       "      <th>accordion</th>\n",
       "      <th>adoracao</th>\n",
       "      <th>adoracion</th>\n",
       "      <th>adult standards</th>\n",
       "      <th>afrikaans</th>\n",
       "      <th>afrobeat</th>\n",
       "      <th>afrofuturism</th>\n",
       "      <th>afropop</th>\n",
       "      <th>album rock</th>\n",
       "      <th>...</th>\n",
       "      <th>wave</th>\n",
       "      <th>world</th>\n",
       "      <th>worship</th>\n",
       "      <th>wrestling</th>\n",
       "      <th>ye ye</th>\n",
       "      <th>yodeling</th>\n",
       "      <th>zillertal</th>\n",
       "      <th>zolo</th>\n",
       "      <th>zouk</th>\n",
       "      <th>other</th>\n",
       "    </tr>\n",
       "    <tr>\n",
       "      <th>id</th>\n",
       "      <th></th>\n",
       "      <th></th>\n",
       "      <th></th>\n",
       "      <th></th>\n",
       "      <th></th>\n",
       "      <th></th>\n",
       "      <th></th>\n",
       "      <th></th>\n",
       "      <th></th>\n",
       "      <th></th>\n",
       "      <th></th>\n",
       "      <th></th>\n",
       "      <th></th>\n",
       "      <th></th>\n",
       "      <th></th>\n",
       "      <th></th>\n",
       "      <th></th>\n",
       "      <th></th>\n",
       "      <th></th>\n",
       "      <th></th>\n",
       "      <th></th>\n",
       "    </tr>\n",
       "  </thead>\n",
       "  <tbody>\n",
       "    <tr>\n",
       "      <th>72578usTM6Cj5qWsi471Nc</th>\n",
       "      <td>0</td>\n",
       "      <td>0</td>\n",
       "      <td>0</td>\n",
       "      <td>0</td>\n",
       "      <td>0</td>\n",
       "      <td>0</td>\n",
       "      <td>0</td>\n",
       "      <td>0</td>\n",
       "      <td>0</td>\n",
       "      <td>0</td>\n",
       "      <td>...</td>\n",
       "      <td>0</td>\n",
       "      <td>0</td>\n",
       "      <td>0</td>\n",
       "      <td>0</td>\n",
       "      <td>0</td>\n",
       "      <td>0</td>\n",
       "      <td>0</td>\n",
       "      <td>0</td>\n",
       "      <td>0</td>\n",
       "      <td>0</td>\n",
       "    </tr>\n",
       "    <tr>\n",
       "      <th>7b6Ui7JVaBDEfZB9k6nHL0</th>\n",
       "      <td>0</td>\n",
       "      <td>0</td>\n",
       "      <td>0</td>\n",
       "      <td>0</td>\n",
       "      <td>0</td>\n",
       "      <td>0</td>\n",
       "      <td>0</td>\n",
       "      <td>0</td>\n",
       "      <td>0</td>\n",
       "      <td>0</td>\n",
       "      <td>...</td>\n",
       "      <td>0</td>\n",
       "      <td>0</td>\n",
       "      <td>0</td>\n",
       "      <td>0</td>\n",
       "      <td>0</td>\n",
       "      <td>0</td>\n",
       "      <td>0</td>\n",
       "      <td>0</td>\n",
       "      <td>0</td>\n",
       "      <td>0</td>\n",
       "    </tr>\n",
       "    <tr>\n",
       "      <th>5wJ1H6ud777odtZl5gG507</th>\n",
       "      <td>0</td>\n",
       "      <td>0</td>\n",
       "      <td>0</td>\n",
       "      <td>0</td>\n",
       "      <td>0</td>\n",
       "      <td>0</td>\n",
       "      <td>0</td>\n",
       "      <td>0</td>\n",
       "      <td>0</td>\n",
       "      <td>0</td>\n",
       "      <td>...</td>\n",
       "      <td>0</td>\n",
       "      <td>0</td>\n",
       "      <td>0</td>\n",
       "      <td>0</td>\n",
       "      <td>0</td>\n",
       "      <td>0</td>\n",
       "      <td>0</td>\n",
       "      <td>0</td>\n",
       "      <td>0</td>\n",
       "      <td>0</td>\n",
       "    </tr>\n",
       "    <tr>\n",
       "      <th>0n4a5imdLBN24fIrBWoqrv</th>\n",
       "      <td>0</td>\n",
       "      <td>0</td>\n",
       "      <td>0</td>\n",
       "      <td>0</td>\n",
       "      <td>0</td>\n",
       "      <td>0</td>\n",
       "      <td>0</td>\n",
       "      <td>0</td>\n",
       "      <td>0</td>\n",
       "      <td>0</td>\n",
       "      <td>...</td>\n",
       "      <td>0</td>\n",
       "      <td>0</td>\n",
       "      <td>0</td>\n",
       "      <td>0</td>\n",
       "      <td>0</td>\n",
       "      <td>0</td>\n",
       "      <td>0</td>\n",
       "      <td>0</td>\n",
       "      <td>0</td>\n",
       "      <td>0</td>\n",
       "    </tr>\n",
       "    <tr>\n",
       "      <th>4gdMJYnopf2nEUcanAwstx</th>\n",
       "      <td>0</td>\n",
       "      <td>0</td>\n",
       "      <td>0</td>\n",
       "      <td>0</td>\n",
       "      <td>0</td>\n",
       "      <td>0</td>\n",
       "      <td>0</td>\n",
       "      <td>0</td>\n",
       "      <td>0</td>\n",
       "      <td>0</td>\n",
       "      <td>...</td>\n",
       "      <td>0</td>\n",
       "      <td>0</td>\n",
       "      <td>0</td>\n",
       "      <td>0</td>\n",
       "      <td>0</td>\n",
       "      <td>0</td>\n",
       "      <td>0</td>\n",
       "      <td>0</td>\n",
       "      <td>0</td>\n",
       "      <td>0</td>\n",
       "    </tr>\n",
       "    <tr>\n",
       "      <th>...</th>\n",
       "      <td>...</td>\n",
       "      <td>...</td>\n",
       "      <td>...</td>\n",
       "      <td>...</td>\n",
       "      <td>...</td>\n",
       "      <td>...</td>\n",
       "      <td>...</td>\n",
       "      <td>...</td>\n",
       "      <td>...</td>\n",
       "      <td>...</td>\n",
       "      <td>...</td>\n",
       "      <td>...</td>\n",
       "      <td>...</td>\n",
       "      <td>...</td>\n",
       "      <td>...</td>\n",
       "      <td>...</td>\n",
       "      <td>...</td>\n",
       "      <td>...</td>\n",
       "      <td>...</td>\n",
       "      <td>...</td>\n",
       "      <td>...</td>\n",
       "    </tr>\n",
       "    <tr>\n",
       "      <th>3yMpPk98o4yrKhUr9rB0yY</th>\n",
       "      <td>0</td>\n",
       "      <td>0</td>\n",
       "      <td>0</td>\n",
       "      <td>0</td>\n",
       "      <td>0</td>\n",
       "      <td>0</td>\n",
       "      <td>0</td>\n",
       "      <td>0</td>\n",
       "      <td>0</td>\n",
       "      <td>0</td>\n",
       "      <td>...</td>\n",
       "      <td>0</td>\n",
       "      <td>0</td>\n",
       "      <td>0</td>\n",
       "      <td>0</td>\n",
       "      <td>0</td>\n",
       "      <td>0</td>\n",
       "      <td>0</td>\n",
       "      <td>0</td>\n",
       "      <td>0</td>\n",
       "      <td>1</td>\n",
       "    </tr>\n",
       "    <tr>\n",
       "      <th>5ICqrGUqDv9KZdbbFiNGma</th>\n",
       "      <td>0</td>\n",
       "      <td>0</td>\n",
       "      <td>0</td>\n",
       "      <td>0</td>\n",
       "      <td>0</td>\n",
       "      <td>0</td>\n",
       "      <td>0</td>\n",
       "      <td>0</td>\n",
       "      <td>0</td>\n",
       "      <td>0</td>\n",
       "      <td>...</td>\n",
       "      <td>0</td>\n",
       "      <td>0</td>\n",
       "      <td>0</td>\n",
       "      <td>0</td>\n",
       "      <td>0</td>\n",
       "      <td>0</td>\n",
       "      <td>0</td>\n",
       "      <td>0</td>\n",
       "      <td>0</td>\n",
       "      <td>1</td>\n",
       "    </tr>\n",
       "    <tr>\n",
       "      <th>7JXwnoNAAY276k8wZVmpYf</th>\n",
       "      <td>0</td>\n",
       "      <td>0</td>\n",
       "      <td>0</td>\n",
       "      <td>0</td>\n",
       "      <td>0</td>\n",
       "      <td>0</td>\n",
       "      <td>0</td>\n",
       "      <td>0</td>\n",
       "      <td>0</td>\n",
       "      <td>0</td>\n",
       "      <td>...</td>\n",
       "      <td>0</td>\n",
       "      <td>0</td>\n",
       "      <td>0</td>\n",
       "      <td>0</td>\n",
       "      <td>0</td>\n",
       "      <td>0</td>\n",
       "      <td>0</td>\n",
       "      <td>0</td>\n",
       "      <td>0</td>\n",
       "      <td>0</td>\n",
       "    </tr>\n",
       "    <tr>\n",
       "      <th>4iS19hLpsgRd8jLPKI4Ni3</th>\n",
       "      <td>0</td>\n",
       "      <td>0</td>\n",
       "      <td>0</td>\n",
       "      <td>0</td>\n",
       "      <td>0</td>\n",
       "      <td>0</td>\n",
       "      <td>0</td>\n",
       "      <td>0</td>\n",
       "      <td>0</td>\n",
       "      <td>0</td>\n",
       "      <td>...</td>\n",
       "      <td>0</td>\n",
       "      <td>0</td>\n",
       "      <td>0</td>\n",
       "      <td>0</td>\n",
       "      <td>0</td>\n",
       "      <td>0</td>\n",
       "      <td>0</td>\n",
       "      <td>0</td>\n",
       "      <td>0</td>\n",
       "      <td>0</td>\n",
       "    </tr>\n",
       "    <tr>\n",
       "      <th>3JGC3LkYrwlrTscixVwY72</th>\n",
       "      <td>0</td>\n",
       "      <td>0</td>\n",
       "      <td>0</td>\n",
       "      <td>0</td>\n",
       "      <td>0</td>\n",
       "      <td>0</td>\n",
       "      <td>0</td>\n",
       "      <td>0</td>\n",
       "      <td>0</td>\n",
       "      <td>0</td>\n",
       "      <td>...</td>\n",
       "      <td>0</td>\n",
       "      <td>0</td>\n",
       "      <td>0</td>\n",
       "      <td>0</td>\n",
       "      <td>0</td>\n",
       "      <td>0</td>\n",
       "      <td>0</td>\n",
       "      <td>0</td>\n",
       "      <td>0</td>\n",
       "      <td>0</td>\n",
       "    </tr>\n",
       "  </tbody>\n",
       "</table>\n",
       "<p>27650 rows × 674 columns</p>\n",
       "</div>"
      ],
      "text/plain": [
       "                        a cappella  accordion  adoracao  adoracion  \\\n",
       "id                                                                   \n",
       "72578usTM6Cj5qWsi471Nc           0          0         0          0   \n",
       "7b6Ui7JVaBDEfZB9k6nHL0           0          0         0          0   \n",
       "5wJ1H6ud777odtZl5gG507           0          0         0          0   \n",
       "0n4a5imdLBN24fIrBWoqrv           0          0         0          0   \n",
       "4gdMJYnopf2nEUcanAwstx           0          0         0          0   \n",
       "...                            ...        ...       ...        ...   \n",
       "3yMpPk98o4yrKhUr9rB0yY           0          0         0          0   \n",
       "5ICqrGUqDv9KZdbbFiNGma           0          0         0          0   \n",
       "7JXwnoNAAY276k8wZVmpYf           0          0         0          0   \n",
       "4iS19hLpsgRd8jLPKI4Ni3           0          0         0          0   \n",
       "3JGC3LkYrwlrTscixVwY72           0          0         0          0   \n",
       "\n",
       "                        adult standards  afrikaans  afrobeat  afrofuturism  \\\n",
       "id                                                                           \n",
       "72578usTM6Cj5qWsi471Nc                0          0         0             0   \n",
       "7b6Ui7JVaBDEfZB9k6nHL0                0          0         0             0   \n",
       "5wJ1H6ud777odtZl5gG507                0          0         0             0   \n",
       "0n4a5imdLBN24fIrBWoqrv                0          0         0             0   \n",
       "4gdMJYnopf2nEUcanAwstx                0          0         0             0   \n",
       "...                                 ...        ...       ...           ...   \n",
       "3yMpPk98o4yrKhUr9rB0yY                0          0         0             0   \n",
       "5ICqrGUqDv9KZdbbFiNGma                0          0         0             0   \n",
       "7JXwnoNAAY276k8wZVmpYf                0          0         0             0   \n",
       "4iS19hLpsgRd8jLPKI4Ni3                0          0         0             0   \n",
       "3JGC3LkYrwlrTscixVwY72                0          0         0             0   \n",
       "\n",
       "                        afropop  album rock  ...  wave  world  worship  \\\n",
       "id                                           ...                         \n",
       "72578usTM6Cj5qWsi471Nc        0           0  ...     0      0        0   \n",
       "7b6Ui7JVaBDEfZB9k6nHL0        0           0  ...     0      0        0   \n",
       "5wJ1H6ud777odtZl5gG507        0           0  ...     0      0        0   \n",
       "0n4a5imdLBN24fIrBWoqrv        0           0  ...     0      0        0   \n",
       "4gdMJYnopf2nEUcanAwstx        0           0  ...     0      0        0   \n",
       "...                         ...         ...  ...   ...    ...      ...   \n",
       "3yMpPk98o4yrKhUr9rB0yY        0           0  ...     0      0        0   \n",
       "5ICqrGUqDv9KZdbbFiNGma        0           0  ...     0      0        0   \n",
       "7JXwnoNAAY276k8wZVmpYf        0           0  ...     0      0        0   \n",
       "4iS19hLpsgRd8jLPKI4Ni3        0           0  ...     0      0        0   \n",
       "3JGC3LkYrwlrTscixVwY72        0           0  ...     0      0        0   \n",
       "\n",
       "                        wrestling  ye ye  yodeling  zillertal  zolo  zouk  \\\n",
       "id                                                                          \n",
       "72578usTM6Cj5qWsi471Nc          0      0         0          0     0     0   \n",
       "7b6Ui7JVaBDEfZB9k6nHL0          0      0         0          0     0     0   \n",
       "5wJ1H6ud777odtZl5gG507          0      0         0          0     0     0   \n",
       "0n4a5imdLBN24fIrBWoqrv          0      0         0          0     0     0   \n",
       "4gdMJYnopf2nEUcanAwstx          0      0         0          0     0     0   \n",
       "...                           ...    ...       ...        ...   ...   ...   \n",
       "3yMpPk98o4yrKhUr9rB0yY          0      0         0          0     0     0   \n",
       "5ICqrGUqDv9KZdbbFiNGma          0      0         0          0     0     0   \n",
       "7JXwnoNAAY276k8wZVmpYf          0      0         0          0     0     0   \n",
       "4iS19hLpsgRd8jLPKI4Ni3          0      0         0          0     0     0   \n",
       "3JGC3LkYrwlrTscixVwY72          0      0         0          0     0     0   \n",
       "\n",
       "                        other  \n",
       "id                             \n",
       "72578usTM6Cj5qWsi471Nc      0  \n",
       "7b6Ui7JVaBDEfZB9k6nHL0      0  \n",
       "5wJ1H6ud777odtZl5gG507      0  \n",
       "0n4a5imdLBN24fIrBWoqrv      0  \n",
       "4gdMJYnopf2nEUcanAwstx      0  \n",
       "...                       ...  \n",
       "3yMpPk98o4yrKhUr9rB0yY      1  \n",
       "5ICqrGUqDv9KZdbbFiNGma      1  \n",
       "7JXwnoNAAY276k8wZVmpYf      0  \n",
       "4iS19hLpsgRd8jLPKI4Ni3      0  \n",
       "3JGC3LkYrwlrTscixVwY72      0  \n",
       "\n",
       "[27650 rows x 674 columns]"
      ]
     },
     "execution_count": 425,
     "metadata": {},
     "output_type": "execute_result"
    }
   ],
   "source": [
    "genres_df[\"other\"] = 0\n",
    "genres_df.loc[genres_df.sum(axis=1) == 0, \"other\"] = 1\n",
    "genres_df"
   ]
  },
  {
   "cell_type": "markdown",
   "metadata": {},
   "source": [
    "Histogram:"
   ]
  },
  {
   "cell_type": "code",
   "execution_count": null,
   "metadata": {},
   "outputs": [
    {
     "data": {
      "text/plain": [
       "<Axes: >"
      ]
     },
     "execution_count": 426,
     "metadata": {},
     "output_type": "execute_result"
    },
    {
     "data": {
      "image/png": "[encoded data removed]",
      "text/plain": [
       "<Figure size 640x480 with 1 Axes>"
      ]
     },
     "metadata": {},
     "output_type": "display_data"
    }
   ],
   "source": [
    "genres_df.sum().hist(bins=100)"
   ]
  }
 ],
 "metadata": {
  "kernelspec": {
   "display_name": "Python 3",
   "language": "python",
   "name": "python3"
  },
  "language_info": {
   "codemirror_mode": {
    "name": "ipython",
    "version": 3
   },
   "file_extension": ".py",
   "mimetype": "text/x-python",
   "name": "python",
   "nbconvert_exporter": "python",
   "pygments_lexer": "ipython3",
   "version": "3.12.1"
  }
 },
 "nbformat": 4,
 "nbformat_minor": 2
}
